{
 "cells": [
  {
   "cell_type": "markdown",
   "metadata": {
    "collapsed": true
   },
   "source": [
    "# Language Translation\n",
    "In this project, you’re going to take a peek into the realm of neural network machine translation.  You’ll be training a sequence to sequence model on a dataset of English and French sentences that can translate new sentences from English to French.\n",
    "## Get the Data\n",
    "Since translating the whole language of English to French will take lots of time to train, we have provided you with a small portion of the English corpus."
   ]
  },
  {
   "cell_type": "code",
   "execution_count": 1,
   "metadata": {
    "collapsed": true
   },
   "outputs": [],
   "source": [
    "\"\"\"\n",
    "DON'T MODIFY ANYTHING IN THIS CELL\n",
    "\"\"\"\n",
    "import helper\n",
    "import problem_unittests as tests\n",
    "\n",
    "source_path = 'data/small_vocab_en'\n",
    "target_path = 'data/small_vocab_fr'\n",
    "source_text = helper.load_data(source_path)\n",
    "target_text = helper.load_data(target_path)"
   ]
  },
  {
   "cell_type": "markdown",
   "metadata": {},
   "source": [
    "## Explore the Data\n",
    "Play around with view_sentence_range to view different parts of the data."
   ]
  },
  {
   "cell_type": "code",
   "execution_count": 2,
   "metadata": {},
   "outputs": [
    {
     "name": "stdout",
     "output_type": "stream",
     "text": [
      "Dataset Stats\n",
      "Roughly the number of unique words: 227\n",
      "Number of sentences: 137861\n",
      "Average number of words in a sentence: 13.225277634719028\n",
      "\n",
      "English sentences 0 to 10:\n",
      "new jersey is sometimes quiet during autumn , and it is snowy in april .\n",
      "the united states is usually chilly during july , and it is usually freezing in november .\n",
      "california is usually quiet during march , and it is usually hot in june .\n",
      "the united states is sometimes mild during june , and it is cold in september .\n",
      "your least liked fruit is the grape , but my least liked is the apple .\n",
      "his favorite fruit is the orange , but my favorite is the grape .\n",
      "paris is relaxing during december , but it is usually chilly in july .\n",
      "new jersey is busy during spring , and it is never hot in march .\n",
      "our least liked fruit is the lemon , but my least liked is the grape .\n",
      "the united states is sometimes busy during january , and it is sometimes warm in november .\n",
      "\n",
      "French sentences 0 to 10:\n",
      "new jersey est parfois calme pendant l' automne , et il est neigeux en avril .\n",
      "les états-unis est généralement froid en juillet , et il gèle habituellement en novembre .\n",
      "california est généralement calme en mars , et il est généralement chaud en juin .\n",
      "les états-unis est parfois légère en juin , et il fait froid en septembre .\n",
      "votre moins aimé fruit est le raisin , mais mon moins aimé est la pomme .\n",
      "son fruit préféré est l'orange , mais mon préféré est le raisin .\n",
      "paris est relaxant en décembre , mais il est généralement froid en juillet .\n",
      "new jersey est occupé au printemps , et il est jamais chaude en mars .\n",
      "notre fruit est moins aimé le citron , mais mon moins aimé est le raisin .\n",
      "les états-unis est parfois occupé en janvier , et il est parfois chaud en novembre .\n"
     ]
    }
   ],
   "source": [
    "view_sentence_range = (0, 10)\n",
    "\n",
    "\"\"\"\n",
    "DON'T MODIFY ANYTHING IN THIS CELL\n",
    "\"\"\"\n",
    "import numpy as np\n",
    "\n",
    "print('Dataset Stats')\n",
    "print('Roughly the number of unique words: {}'.format(len({word: None for word in source_text.split()})))\n",
    "\n",
    "sentences = source_text.split('\\n')\n",
    "word_counts = [len(sentence.split()) for sentence in sentences]\n",
    "print('Number of sentences: {}'.format(len(sentences)))\n",
    "print('Average number of words in a sentence: {}'.format(np.average(word_counts)))\n",
    "\n",
    "print()\n",
    "print('English sentences {} to {}:'.format(*view_sentence_range))\n",
    "print('\\n'.join(source_text.split('\\n')[view_sentence_range[0]:view_sentence_range[1]]))\n",
    "print()\n",
    "print('French sentences {} to {}:'.format(*view_sentence_range))\n",
    "print('\\n'.join(target_text.split('\\n')[view_sentence_range[0]:view_sentence_range[1]]))"
   ]
  },
  {
   "cell_type": "markdown",
   "metadata": {},
   "source": [
    "## Implement Preprocessing Function\n",
    "### Text to Word Ids\n",
    "As you did with other RNNs, you must turn the text into a number so the computer can understand it. In the function `text_to_ids()`, you'll turn `source_text` and `target_text` from words to ids.  However, you need to add the `<EOS>` word id at the end of `target_text`.  This will help the neural network predict when the sentence should end.\n",
    "\n",
    "You can get the `<EOS>` word id by doing:\n",
    "```python\n",
    "target_vocab_to_int['<EOS>']\n",
    "```\n",
    "You can get other word ids using `source_vocab_to_int` and `target_vocab_to_int`."
   ]
  },
  {
   "cell_type": "code",
   "execution_count": 3,
   "metadata": {},
   "outputs": [
    {
     "name": "stdout",
     "output_type": "stream",
     "text": [
      "Tests Passed\n"
     ]
    }
   ],
   "source": [
    "def text_to_ids(source_text, target_text, source_vocab_to_int, target_vocab_to_int):\n",
    "    \"\"\"\n",
    "    Convert source and target text to proper word ids\n",
    "    :param source_text: String that contains all the source text.\n",
    "    :param target_text: String that contains all the target text.\n",
    "    :param source_vocab_to_int: Dictionary to go from the source words to an id\n",
    "    :param target_vocab_to_int: Dictionary to go from the target words to an id\n",
    "    :return: A tuple of lists (source_id_text, target_id_text)\n",
    "    \"\"\"\n",
    "    # I didn't want to do too much at once, so I split some of the logic up for readability\n",
    "    source_words = list(source_text.split('\\n'))\n",
    "    target_words = list(target_text.split(\"\\n\"))\n",
    "    \n",
    "    target_words = [(sentence + \" <EOS>\") for sentence in target_words]\n",
    "    \n",
    "    source_id_text = [[source_vocab_to_int[word] for word in sentence.split()] for sentence in source_words]\n",
    "    target_id_text = [[target_vocab_to_int[word] for word in sentence.split()] for sentence in target_words]\n",
    "    \n",
    "    return (source_id_text, target_id_text)\n",
    "    \n",
    "    return None, None\n",
    "\n",
    "\"\"\"\n",
    "DON'T MODIFY ANYTHING IN THIS CELL THAT IS BELOW THIS LINE\n",
    "\"\"\"\n",
    "tests.test_text_to_ids(text_to_ids)"
   ]
  },
  {
   "cell_type": "markdown",
   "metadata": {},
   "source": [
    "### Preprocess all the data and save it\n",
    "Running the code cell below will preprocess all the data and save it to file."
   ]
  },
  {
   "cell_type": "code",
   "execution_count": 4,
   "metadata": {
    "collapsed": true
   },
   "outputs": [],
   "source": [
    "\"\"\"\n",
    "DON'T MODIFY ANYTHING IN THIS CELL\n",
    "\"\"\"\n",
    "helper.preprocess_and_save_data(source_path, target_path, text_to_ids)"
   ]
  },
  {
   "cell_type": "markdown",
   "metadata": {},
   "source": [
    "# Check Point\n",
    "This is your first checkpoint. If you ever decide to come back to this notebook or have to restart the notebook, you can start from here. The preprocessed data has been saved to disk."
   ]
  },
  {
   "cell_type": "code",
   "execution_count": 5,
   "metadata": {
    "collapsed": true
   },
   "outputs": [],
   "source": [
    "\"\"\"\n",
    "DON'T MODIFY ANYTHING IN THIS CELL\n",
    "\"\"\"\n",
    "import numpy as np\n",
    "import helper\n",
    "\n",
    "(source_int_text, target_int_text), (source_vocab_to_int, target_vocab_to_int), _ = helper.load_preprocess()"
   ]
  },
  {
   "cell_type": "markdown",
   "metadata": {},
   "source": [
    "### Check the Version of TensorFlow and Access to GPU\n",
    "This will check to make sure you have the correct version of TensorFlow and access to a GPU"
   ]
  },
  {
   "cell_type": "code",
   "execution_count": 6,
   "metadata": {},
   "outputs": [
    {
     "name": "stdout",
     "output_type": "stream",
     "text": [
      "TensorFlow Version: 1.1.0\n",
      "Default GPU Device: /gpu:0\n"
     ]
    }
   ],
   "source": [
    "\"\"\"\n",
    "DON'T MODIFY ANYTHING IN THIS CELL\n",
    "\"\"\"\n",
    "from distutils.version import LooseVersion\n",
    "import warnings\n",
    "import tensorflow as tf\n",
    "from tensorflow.python.layers.core import Dense\n",
    "\n",
    "# Check TensorFlow Version\n",
    "assert LooseVersion(tf.__version__) >= LooseVersion('1.1'), 'Please use TensorFlow version 1.1 or newer'\n",
    "print('TensorFlow Version: {}'.format(tf.__version__))\n",
    "\n",
    "# Check for a GPU\n",
    "if not tf.test.gpu_device_name():\n",
    "    warnings.warn('No GPU found. Please use a GPU to train your neural network.')\n",
    "else:\n",
    "    print('Default GPU Device: {}'.format(tf.test.gpu_device_name()))"
   ]
  },
  {
   "cell_type": "markdown",
   "metadata": {},
   "source": [
    "## Build the Neural Network\n",
    "You'll build the components necessary to build a Sequence-to-Sequence model by implementing the following functions below:\n",
    "- `model_inputs`\n",
    "- `process_decoder_input`\n",
    "- `encoding_layer`\n",
    "- `decoding_layer_train`\n",
    "- `decoding_layer_infer`\n",
    "- `decoding_layer`\n",
    "- `seq2seq_model`\n",
    "\n",
    "### Input\n",
    "Implement the `model_inputs()` function to create TF Placeholders for the Neural Network. It should create the following placeholders:\n",
    "\n",
    "- Input text placeholder named \"input\" using the TF Placeholder name parameter with rank 2.\n",
    "- Targets placeholder with rank 2.\n",
    "- Learning rate placeholder with rank 0.\n",
    "- Keep probability placeholder named \"keep_prob\" using the TF Placeholder name parameter with rank 0.\n",
    "- Target sequence length placeholder named \"target_sequence_length\" with rank 1\n",
    "- Max target sequence length tensor named \"max_target_len\" getting its value from applying tf.reduce_max on the target_sequence_length placeholder. Rank 0.\n",
    "- Source sequence length placeholder named \"source_sequence_length\" with rank 1\n",
    "\n",
    "Return the placeholders in the following the tuple (input, targets, learning rate, keep probability, target sequence length, max target sequence length, source sequence length)"
   ]
  },
  {
   "cell_type": "code",
   "execution_count": 7,
   "metadata": {},
   "outputs": [
    {
     "name": "stdout",
     "output_type": "stream",
     "text": [
      "Tests Passed\n"
     ]
    }
   ],
   "source": [
    "def model_inputs():\n",
    "    \"\"\"\n",
    "    Create TF Placeholders for input, targets, learning rate, and lengths of source and target sequences.\n",
    "    :return: Tuple (input, targets, learning rate, keep probability, target sequence length,\n",
    "    max target sequence length, source sequence length)\n",
    "    \"\"\"\n",
    "    # TODO: Implement Function\n",
    "    inputs = tf.placeholder(tf.int32, shape=([None, None]), name='input')\n",
    "    targets = tf.placeholder(tf.int32, shape=([None, None]))\n",
    "    learning_rate = tf.placeholder(tf.float32)\n",
    "    keep_prob = tf.placeholder(tf.float32, name='keep_prob')\n",
    "    target_sequence_length = tf.placeholder(tf.int32, shape=([None]), name='target_sequence_length')\n",
    "    max_target_len = tf.reduce_max(target_sequence_length, name='max_target_len')\n",
    "    source_sequence_length = tf.placeholder(tf.int32, shape=([None]), name='source_sequence_length')\n",
    "    \n",
    "    return inputs, targets, learning_rate, keep_prob, target_sequence_length, max_target_len, source_sequence_length\n",
    "\n",
    "\n",
    "\"\"\"\n",
    "DON'T MODIFY ANYTHING IN THIS CELL THAT IS BELOW THIS LINE\n",
    "\"\"\"\n",
    "tests.test_model_inputs(model_inputs)"
   ]
  },
  {
   "cell_type": "markdown",
   "metadata": {},
   "source": [
    "### Process Decoder Input\n",
    "Implement `process_decoder_input` by removing the last word id from each batch in `target_data` and concat the GO ID to the begining of each batch."
   ]
  },
  {
   "cell_type": "code",
   "execution_count": 8,
   "metadata": {},
   "outputs": [
    {
     "name": "stdout",
     "output_type": "stream",
     "text": [
      "Tests Passed\n"
     ]
    }
   ],
   "source": [
    "def process_decoder_input(target_data, target_vocab_to_int, batch_size):\n",
    "    \"\"\"\n",
    "    Preprocess target data for encoding\n",
    "    :param target_data: Target Placehoder\n",
    "    :param target_vocab_to_int: Dictionary to go from the target words to an id\n",
    "    :param batch_size: Batch Size\n",
    "    :return: Preprocessed target data\n",
    "    \"\"\"\n",
    "    # I used the code from the seq2seq notebook. This piece of code is the type that every time I see it\n",
    "    # I have to remind myself what it does. It is concise and effective.\n",
    "    ending = tf.strided_slice(target_data, [0, 0], [batch_size, -1], [1, 1])\n",
    "    dec_input = tf.concat([tf.fill([batch_size, 1], target_vocab_to_int['<GO>']), ending], 1)\n",
    "\n",
    "    return dec_input\n",
    "\n",
    "\"\"\"\n",
    "DON'T MODIFY ANYTHING IN THIS CELL THAT IS BELOW THIS LINE\n",
    "\"\"\"\n",
    "tests.test_process_encoding_input(process_decoder_input)"
   ]
  },
  {
   "cell_type": "markdown",
   "metadata": {},
   "source": [
    "### Encoding\n",
    "Implement `encoding_layer()` to create a Encoder RNN layer:\n",
    " * Embed the encoder input using [`tf.contrib.layers.embed_sequence`](https://www.tensorflow.org/api_docs/python/tf/contrib/layers/embed_sequence)\n",
    " * Construct a [stacked](https://github.com/tensorflow/tensorflow/blob/6947f65a374ebf29e74bb71e36fd82760056d82c/tensorflow/docs_src/tutorials/recurrent.md#stacking-multiple-lstms) [`tf.contrib.rnn.LSTMCell`](https://www.tensorflow.org/api_docs/python/tf/contrib/rnn/LSTMCell) wrapped in a [`tf.contrib.rnn.DropoutWrapper`](https://www.tensorflow.org/api_docs/python/tf/contrib/rnn/DropoutWrapper)\n",
    " * Pass cell and embedded input to [`tf.nn.dynamic_rnn()`](https://www.tensorflow.org/api_docs/python/tf/nn/dynamic_rnn)"
   ]
  },
  {
   "cell_type": "code",
   "execution_count": 9,
   "metadata": {
    "scrolled": false
   },
   "outputs": [
    {
     "name": "stdout",
     "output_type": "stream",
     "text": [
      "Tests Passed\n"
     ]
    }
   ],
   "source": [
    "from imp import reload\n",
    "reload(tests)\n",
    "\n",
    "def encoding_layer(rnn_inputs, rnn_size, num_layers, keep_prob, \n",
    "                   source_sequence_length, source_vocab_size, \n",
    "                   encoding_embedding_size):\n",
    "    \"\"\"\n",
    "    Create encoding layer\n",
    "    :param rnn_inputs: Inputs for the RNN\n",
    "    :param rnn_size: RNN Size\n",
    "    :param num_layers: Number of layers\n",
    "    :param keep_prob: Dropout keep probability\n",
    "    :param source_sequence_length: a list of the lengths of each sequence in the batch\n",
    "    :param source_vocab_size: vocabulary size of source data\n",
    "    :param encoding_embedding_size: embedding size of source data\n",
    "    :return: tuple (RNN output, RNN state)\n",
    "    \"\"\"\n",
    "    encoder_input = tf.contrib.layers.embed_sequence(rnn_inputs, source_vocab_size, encoding_embedding_size)\n",
    "    stacked_lstm = tf.contrib.rnn.MultiRNNCell([tf.contrib.rnn.LSTMCell(rnn_size, initializer=tf.random_uniform_initializer(-0.1, 0.1, seed=2)) for _ in range(num_layers)])\n",
    "    dropout = tf.contrib.rnn.DropoutWrapper(stacked_lstm, output_keep_prob=keep_prob)\n",
    "    RNN_output, RNN_state = tf.nn.dynamic_rnn(dropout, encoder_input, dtype=tf.float32)\n",
    "    \n",
    "    return RNN_output, RNN_state\n",
    "\n",
    "\"\"\"\n",
    "DON'T MODIFY ANYTHING IN THIS CELL THAT IS BELOW THIS LINE\n",
    "\"\"\"\n",
    "tests.test_encoding_layer(encoding_layer)"
   ]
  },
  {
   "cell_type": "markdown",
   "metadata": {},
   "source": [
    "### Decoding - Training\n",
    "Create a training decoding layer:\n",
    "* Create a [`tf.contrib.seq2seq.TrainingHelper`](https://www.tensorflow.org/api_docs/python/tf/contrib/seq2seq/TrainingHelper) \n",
    "* Create a [`tf.contrib.seq2seq.BasicDecoder`](https://www.tensorflow.org/api_docs/python/tf/contrib/seq2seq/BasicDecoder)\n",
    "* Obtain the decoder outputs from [`tf.contrib.seq2seq.dynamic_decode`](https://www.tensorflow.org/api_docs/python/tf/contrib/seq2seq/dynamic_decode)"
   ]
  },
  {
   "cell_type": "code",
   "execution_count": 23,
   "metadata": {},
   "outputs": [
    {
     "name": "stdout",
     "output_type": "stream",
     "text": [
      "Tests Passed\n"
     ]
    }
   ],
   "source": [
    "\n",
    "def decoding_layer_train(encoder_state, dec_cell, dec_embed_input, \n",
    "                         target_sequence_length, max_summary_length, \n",
    "                         output_layer, keep_prob):\n",
    "    \"\"\"\n",
    "    Create a decoding layer for training\n",
    "    :param encoder_state: Encoder State\n",
    "    :param dec_cell: Decoder RNN Cell\n",
    "    :param dec_embed_input: Decoder embedded input\n",
    "    :param target_sequence_length: The lengths of each sequence in the target batch\n",
    "    :param max_summary_length: The length of the longest sequence in the batch\n",
    "    :param output_layer: Function to apply the output layer\n",
    "    :param keep_prob: Dropout keep probability\n",
    "    :return: BasicDecoderOutput containing training logits and sample_id\n",
    "    \"\"\"\n",
    "    \n",
    "    training_helper = tf.contrib.seq2seq.TrainingHelper(dec_embed_input, target_sequence_length)\n",
    "    \n",
    "    basic_decoder = tf.contrib.seq2seq.BasicDecoder(dec_cell, training_helper, encoder_state, output_layer=output_layer)\n",
    "    \n",
    "    decoder_output, _ = tf.contrib.seq2seq.dynamic_decode(basic_decoder)\n",
    "    \n",
    "    return decoder_output\n",
    "\n",
    "\n",
    "\n",
    "\"\"\"\n",
    "DON'T MODIFY ANYTHING IN THIS CELL THAT IS BELOW THIS LINE\n",
    "\"\"\"\n",
    "tests.test_decoding_layer_train(decoding_layer_train)"
   ]
  },
  {
   "cell_type": "markdown",
   "metadata": {},
   "source": [
    "### Decoding - Inference\n",
    "Create inference decoder:\n",
    "* Create a [`tf.contrib.seq2seq.GreedyEmbeddingHelper`](https://www.tensorflow.org/api_docs/python/tf/contrib/seq2seq/GreedyEmbeddingHelper)\n",
    "* Create a [`tf.contrib.seq2seq.BasicDecoder`](https://www.tensorflow.org/api_docs/python/tf/contrib/seq2seq/BasicDecoder)\n",
    "* Obtain the decoder outputs from [`tf.contrib.seq2seq.dynamic_decode`](https://www.tensorflow.org/api_docs/python/tf/contrib/seq2seq/dynamic_decode)"
   ]
  },
  {
   "cell_type": "code",
   "execution_count": 24,
   "metadata": {
    "scrolled": true
   },
   "outputs": [
    {
     "name": "stdout",
     "output_type": "stream",
     "text": [
      "Tests Passed\n"
     ]
    }
   ],
   "source": [
    "def decoding_layer_infer(encoder_state, dec_cell, dec_embeddings, start_of_sequence_id,\n",
    "                         end_of_sequence_id, max_target_sequence_length,\n",
    "                         vocab_size, output_layer, batch_size, keep_prob):\n",
    "    \"\"\"\n",
    "    Create a decoding layer for inference\n",
    "    :param encoder_state: Encoder state\n",
    "    :param dec_cell: Decoder RNN Cell\n",
    "    :param dec_embeddings: Decoder embeddings\n",
    "    :param start_of_sequence_id: GO ID\n",
    "    :param end_of_sequence_id: EOS Id\n",
    "    :param max_target_sequence_length: Maximum length of target sequences\n",
    "    :param vocab_size: Size of decoder/target vocabulary\n",
    "    :param decoding_scope: TenorFlow Variable Scope for decoding\n",
    "    :param output_layer: Function to apply the output layer\n",
    "    :param batch_size: Batch size\n",
    "    :param keep_prob: Dropout keep probability\n",
    "    :return: BasicDecoderOutput containing inference logits and sample_id\n",
    "    \"\"\"\n",
    "    start_tokens = tf.tile(tf.constant([start_of_sequence_id], dtype=tf.int32), [batch_size], name='start_tokens')\n",
    "    inference_helper = tf.contrib.seq2seq.GreedyEmbeddingHelper(dec_embeddings, start_tokens, end_of_sequence_id)\n",
    "    inference_decoder = tf.contrib.seq2seq.BasicDecoder(dec_cell, inference_helper, encoder_state, output_layer)\n",
    "    decoder_outputs, _ = tf.contrib.seq2seq.dynamic_decode(inference_decoder, impute_finished=True, maximum_iterations=max_target_sequence_length)\n",
    "    \n",
    "    return decoder_outputs\n",
    "\n",
    "\n",
    "\n",
    "\"\"\"\n",
    "DON'T MODIFY ANYTHING IN THIS CELL THAT IS BELOW THIS LINE\n",
    "\"\"\"\n",
    "tests.test_decoding_layer_infer(decoding_layer_infer)"
   ]
  },
  {
   "cell_type": "markdown",
   "metadata": {},
   "source": [
    "### Build the Decoding Layer\n",
    "Implement `decoding_layer()` to create a Decoder RNN layer.\n",
    "\n",
    "* Embed the target sequences\n",
    "* Construct the decoder LSTM cell (just like you constructed the encoder cell above)\n",
    "* Create an output layer to map the outputs of the decoder to the elements of our vocabulary\n",
    "* Use the your `decoding_layer_train(encoder_state, dec_cell, dec_embed_input, target_sequence_length, max_target_sequence_length, output_layer, keep_prob)` function to get the training logits.\n",
    "* Use your `decoding_layer_infer(encoder_state, dec_cell, dec_embeddings, start_of_sequence_id, end_of_sequence_id, max_target_sequence_length, vocab_size, output_layer, batch_size, keep_prob)` function to get the inference logits.\n",
    "\n",
    "Note: You'll need to use [tf.variable_scope](https://www.tensorflow.org/api_docs/python/tf/variable_scope) to share variables between training and inference."
   ]
  },
  {
   "cell_type": "code",
   "execution_count": 25,
   "metadata": {
    "scrolled": false
   },
   "outputs": [
    {
     "name": "stdout",
     "output_type": "stream",
     "text": [
      "Tests Passed\n"
     ]
    }
   ],
   "source": [
    "def decoding_layer(dec_input, encoder_state,\n",
    "                   target_sequence_length, max_target_sequence_length,\n",
    "                   rnn_size,\n",
    "                   num_layers, target_vocab_to_int, target_vocab_size,\n",
    "                   batch_size, keep_prob, decoding_embedding_size):\n",
    "    \"\"\"\n",
    "    Create decoding layer\n",
    "    :param dec_input: Decoder input\n",
    "    :param encoder_state: Encoder state\n",
    "    :param target_sequence_length: The lengths of each sequence in the target batch\n",
    "    :param max_target_sequence_length: Maximum length of target sequences\n",
    "    :param rnn_size: RNN Size\n",
    "    :param num_layers: Number of layers\n",
    "    :param target_vocab_to_int: Dictionary to go from the target words to an id\n",
    "    :param target_vocab_size: Size of target vocabulary\n",
    "    :param batch_size: The size of the batch\n",
    "    :param keep_prob: Dropout keep probability\n",
    "    :return: Tuple of (Training BasicDecoderOutput, Inference BasicDecoderOutput)\n",
    "    \"\"\"\n",
    "    start_of_sequence_id = target_vocab_to_int['<GO>']\n",
    "    end_of_sequence_id = target_vocab_to_int['<EOS>']\n",
    "\n",
    "    decoder_embeddings = tf.Variable(tf.random_uniform([target_vocab_size, decoding_embedding_size]))\n",
    "\n",
    "    decoder_embed_input = tf.contrib.layers.embed_sequence(dec_input, target_vocab_size, decoding_embedding_size)\n",
    "    dec_cell = tf.contrib.rnn.DropoutWrapper(tf.contrib.rnn.MultiRNNCell([tf.contrib.rnn.BasicLSTMCell(rnn_size) for _ in range(num_layers)]),output_keep_prob=keep_prob)\n",
    "\n",
    "    with tf.variable_scope(\"decode\") as decoding_scope:\n",
    "        output_layer = Dense(target_vocab_size, kernel_initializer = tf.truncated_normal_initializer(mean = 0.0, stddev=0.1))\n",
    "\n",
    "    with tf.variable_scope(\"decode\"):\n",
    "        training_logits = decoding_layer_train(encoder_state, dec_cell, decoder_embed_input, target_sequence_length, \n",
    "                                               max_target_sequence_length, output_layer, keep_prob)\n",
    "   \n",
    "    with tf.variable_scope(\"decode\", reuse=True):\n",
    "        inference_logits = decoding_layer_infer(encoder_state, dec_cell, decoder_embeddings, start_of_sequence_id, end_of_sequence_id,\n",
    "                                               max_target_sequence_length, target_vocab_size, output_layer, batch_size, keep_prob)\n",
    "    \n",
    "    return training_logits, inference_logits\n",
    "\n",
    "\n",
    "\n",
    "\"\"\"\n",
    "DON'T MODIFY ANYTHING IN THIS CELL THAT IS BELOW THIS LINE\n",
    "\"\"\"\n",
    "tests.test_decoding_layer(decoding_layer)"
   ]
  },
  {
   "cell_type": "markdown",
   "metadata": {},
   "source": [
    "### Build the Neural Network\n",
    "Apply the functions you implemented above to:\n",
    "\n",
    "- Apply embedding to the input data for the encoder.\n",
    "- Encode the input using your `encoding_layer(rnn_inputs, rnn_size, num_layers, keep_prob,  source_sequence_length, source_vocab_size, encoding_embedding_size)`.\n",
    "- Process target data using your `process_decoder_input(target_data, target_vocab_to_int, batch_size)` function.\n",
    "- Apply embedding to the target data for the decoder.\n",
    "- Decode the encoded input using your `decoding_layer(dec_input, enc_state, target_sequence_length, max_target_sentence_length, rnn_size, num_layers, target_vocab_to_int, target_vocab_size, batch_size, keep_prob, dec_embedding_size)` function."
   ]
  },
  {
   "cell_type": "code",
   "execution_count": 26,
   "metadata": {},
   "outputs": [
    {
     "name": "stdout",
     "output_type": "stream",
     "text": [
      "Tests Passed\n"
     ]
    }
   ],
   "source": [
    "def seq2seq_model(input_data, target_data, keep_prob, batch_size,\n",
    "                  source_sequence_length, target_sequence_length,\n",
    "                  max_target_sentence_length,\n",
    "                  source_vocab_size, target_vocab_size,\n",
    "                  enc_embedding_size, dec_embedding_size,\n",
    "                  rnn_size, num_layers, target_vocab_to_int):\n",
    "    \"\"\"\n",
    "    Build the Sequence-to-Sequence part of the neural network\n",
    "    :param input_data: Input placeholder\n",
    "    :param target_data: Target placeholder\n",
    "    :param keep_prob: Dropout keep probability placeholder\n",
    "    :param batch_size: Batch Size\n",
    "    :param source_sequence_length: Sequence Lengths of source sequences in the batch\n",
    "    :param target_sequence_length: Sequence Lengths of target sequences in the batch\n",
    "    :param source_vocab_size: Source vocabulary size\n",
    "    :param target_vocab_size: Target vocabulary size\n",
    "    :param enc_embedding_size: Decoder embedding size\n",
    "    :param dec_embedding_size: Encoder embedding size\n",
    "    :param rnn_size: RNN Size\n",
    "    :param num_layers: Number of layers\n",
    "    :param target_vocab_to_int: Dictionary to go from the target words to an id\n",
    "    :return: Tuple of (Training BasicDecoderOutput, Inference BasicDecoderOutput)\n",
    "    \"\"\"\n",
    "    _, enc_state = encoding_layer(input_data, \n",
    "                                  rnn_size, \n",
    "                                  num_layers, \n",
    "                                  keep_prob,\n",
    "                                  source_sequence_length,\n",
    "                                  source_vocab_size, \n",
    "                                  enc_embedding_size)\n",
    "    \n",
    "    dec_input = process_decoder_input(target_data, target_vocab_to_int, batch_size)\n",
    "    \n",
    "    training_decoder_output, inference_decoder_output = decoding_layer(dec_input,\n",
    "                                                                       enc_state,\n",
    "                                                                       target_sequence_length,\n",
    "                                                                       max_target_sentence_length,\n",
    "                                                                       rnn_size,\n",
    "                                                                       num_layers,\n",
    "                                                                       target_vocab_to_int,\n",
    "                                                                       target_vocab_size, \n",
    "                                                                       batch_size,\n",
    "                                                                       keep_prob,\n",
    "                                                                       dec_embedding_size)\n",
    "    \n",
    "    return training_decoder_output, inference_decoder_output\n",
    "\n",
    "\n",
    "\"\"\"\n",
    "DON'T MODIFY ANYTHING IN THIS CELL THAT IS BELOW THIS LINE\n",
    "\"\"\"\n",
    "tests.test_seq2seq_model(seq2seq_model)"
   ]
  },
  {
   "cell_type": "markdown",
   "metadata": {},
   "source": [
    "## Neural Network Training\n",
    "### Hyperparameters\n",
    "Tune the following parameters:\n",
    "\n",
    "- Set `epochs` to the number of epochs.\n",
    "- Set `batch_size` to the batch size.\n",
    "- Set `rnn_size` to the size of the RNNs.\n",
    "- Set `num_layers` to the number of layers.\n",
    "- Set `encoding_embedding_size` to the size of the embedding for the encoder.\n",
    "- Set `decoding_embedding_size` to the size of the embedding for the decoder.\n",
    "- Set `learning_rate` to the learning rate.\n",
    "- Set `keep_probability` to the Dropout keep probability\n",
    "- Set `display_step` to state how many steps between each debug output statement"
   ]
  },
  {
   "cell_type": "code",
   "execution_count": 27,
   "metadata": {
    "collapsed": true
   },
   "outputs": [],
   "source": [
    "# Number of Epochs\n",
    "epochs = 10\n",
    "# Batch Size\n",
    "batch_size = 512\n",
    "# RNN Size\n",
    "rnn_size = 256\n",
    "# Number of Layers\n",
    "num_layers = 2\n",
    "# Embedding Size\n",
    "encoding_embedding_size = 64\n",
    "decoding_embedding_size = 64\n",
    "# Learning Rate\n",
    "learning_rate = 0.001\n",
    "# Dropout Keep Probability\n",
    "keep_probability = 0.7\n",
    "display_step = 10"
   ]
  },
  {
   "cell_type": "markdown",
   "metadata": {},
   "source": [
    "### Build the Graph\n",
    "Build the graph using the neural network you implemented."
   ]
  },
  {
   "cell_type": "code",
   "execution_count": 15,
   "metadata": {
    "collapsed": true
   },
   "outputs": [],
   "source": [
    "\"\"\"\n",
    "DON'T MODIFY ANYTHING IN THIS CELL\n",
    "\"\"\"\n",
    "save_path = 'checkpoints/dev'\n",
    "(source_int_text, target_int_text), (source_vocab_to_int, target_vocab_to_int), _ = helper.load_preprocess()\n",
    "max_target_sentence_length = max([len(sentence) for sentence in source_int_text])\n",
    "\n",
    "train_graph = tf.Graph()\n",
    "with train_graph.as_default():\n",
    "    input_data, targets, lr, keep_prob, target_sequence_length, max_target_sequence_length, source_sequence_length = model_inputs()\n",
    "    \n",
    "    #sequence_length = tf.placeholder_with_default(max_target_sentence_length, None, name='sequence_length')\n",
    "    input_shape = tf.shape(input_data)\n",
    "    \n",
    "    train_logits, inference_logits = seq2seq_model(tf.reverse(input_data, [-1]),\n",
    "                                                   targets,\n",
    "                                                   keep_prob,\n",
    "                                                   batch_size,\n",
    "                                                   source_sequence_length,\n",
    "                                                   target_sequence_length,\n",
    "                                                   max_target_sequence_length,\n",
    "                                                   len(source_vocab_to_int),\n",
    "                                                   len(target_vocab_to_int),\n",
    "                                                   encoding_embedding_size,\n",
    "                                                   decoding_embedding_size,\n",
    "                                                   rnn_size,\n",
    "                                                   num_layers,\n",
    "                                                   target_vocab_to_int)\n",
    "\n",
    "\n",
    "    training_logits = tf.identity(train_logits.rnn_output, name='logits')\n",
    "    inference_logits = tf.identity(inference_logits.sample_id, name='predictions')\n",
    "\n",
    "    masks = tf.sequence_mask(target_sequence_length, max_target_sequence_length, dtype=tf.float32, name='masks')\n",
    "\n",
    "    with tf.name_scope(\"optimization\"):\n",
    "        # Loss function\n",
    "        cost = tf.contrib.seq2seq.sequence_loss(\n",
    "            training_logits,\n",
    "            targets,\n",
    "            masks)\n",
    "\n",
    "        # Optimizer\n",
    "        optimizer = tf.train.AdamOptimizer(lr)\n",
    "\n",
    "        # Gradient Clipping\n",
    "        gradients = optimizer.compute_gradients(cost)\n",
    "        capped_gradients = [(tf.clip_by_value(grad, -1., 1.), var) for grad, var in gradients if grad is not None]\n",
    "        train_op = optimizer.apply_gradients(capped_gradients)\n"
   ]
  },
  {
   "cell_type": "markdown",
   "metadata": {},
   "source": [
    "Batch and pad the source and target sequences"
   ]
  },
  {
   "cell_type": "code",
   "execution_count": 16,
   "metadata": {
    "collapsed": true
   },
   "outputs": [],
   "source": [
    "\"\"\"\n",
    "DON'T MODIFY ANYTHING IN THIS CELL\n",
    "\"\"\"\n",
    "def pad_sentence_batch(sentence_batch, pad_int):\n",
    "    \"\"\"Pad sentences with <PAD> so that each sentence of a batch has the same length\"\"\"\n",
    "    max_sentence = max([len(sentence) for sentence in sentence_batch])\n",
    "    return [sentence + [pad_int] * (max_sentence - len(sentence)) for sentence in sentence_batch]\n",
    "\n",
    "\n",
    "def get_batches(sources, targets, batch_size, source_pad_int, target_pad_int):\n",
    "    \"\"\"Batch targets, sources, and the lengths of their sentences together\"\"\"\n",
    "    for batch_i in range(0, len(sources)//batch_size):\n",
    "        start_i = batch_i * batch_size\n",
    "\n",
    "        # Slice the right amount for the batch\n",
    "        sources_batch = sources[start_i:start_i + batch_size]\n",
    "        targets_batch = targets[start_i:start_i + batch_size]\n",
    "\n",
    "        # Pad\n",
    "        pad_sources_batch = np.array(pad_sentence_batch(sources_batch, source_pad_int))\n",
    "        pad_targets_batch = np.array(pad_sentence_batch(targets_batch, target_pad_int))\n",
    "\n",
    "        # Need the lengths for the _lengths parameters\n",
    "        pad_targets_lengths = []\n",
    "        for target in pad_targets_batch:\n",
    "            pad_targets_lengths.append(len(target))\n",
    "\n",
    "        pad_source_lengths = []\n",
    "        for source in pad_sources_batch:\n",
    "            pad_source_lengths.append(len(source))\n",
    "\n",
    "        yield pad_sources_batch, pad_targets_batch, pad_source_lengths, pad_targets_lengths\n"
   ]
  },
  {
   "cell_type": "markdown",
   "metadata": {},
   "source": [
    "### Train\n",
    "Train the neural network on the preprocessed data. If you have a hard time getting a good loss, check the forms to see if anyone is having the same problem."
   ]
  },
  {
   "cell_type": "code",
   "execution_count": 17,
   "metadata": {
    "scrolled": true
   },
   "outputs": [
    {
     "name": "stdout",
     "output_type": "stream",
     "text": [
      "Epoch   0 Batch   10/269 - Train Accuracy: 0.3074, Validation Accuracy: 0.3750, Loss: 3.6482\n",
      "Epoch   0 Batch   20/269 - Train Accuracy: 0.3373, Validation Accuracy: 0.3971, Loss: 3.1071\n",
      "Epoch   0 Batch   30/269 - Train Accuracy: 0.3893, Validation Accuracy: 0.4273, Loss: 2.7603\n",
      "Epoch   0 Batch   40/269 - Train Accuracy: 0.3583, Validation Accuracy: 0.4167, Loss: 2.7027\n",
      "Epoch   0 Batch   50/269 - Train Accuracy: 0.2372, Validation Accuracy: 0.3047, Loss: 2.5333\n",
      "Epoch   0 Batch   60/269 - Train Accuracy: 0.2740, Validation Accuracy: 0.2771, Loss: 2.2307\n",
      "Epoch   0 Batch   70/269 - Train Accuracy: 0.2176, Validation Accuracy: 0.2257, Loss: 2.2109\n",
      "Epoch   0 Batch   80/269 - Train Accuracy: 0.2026, Validation Accuracy: 0.2018, Loss: 2.0462\n",
      "Epoch   0 Batch   90/269 - Train Accuracy: 0.1967, Validation Accuracy: 0.2021, Loss: 2.2045\n",
      "Epoch   0 Batch  100/269 - Train Accuracy: 0.1686, Validation Accuracy: 0.1697, Loss: 1.8675\n",
      "Epoch   0 Batch  110/269 - Train Accuracy: 0.1560, Validation Accuracy: 0.1461, Loss: 1.8132\n",
      "Epoch   0 Batch  120/269 - Train Accuracy: 0.1707, Validation Accuracy: 0.1518, Loss: 1.7730\n",
      "Epoch   0 Batch  130/269 - Train Accuracy: 0.1793, Validation Accuracy: 0.1542, Loss: 1.7365\n",
      "Epoch   0 Batch  140/269 - Train Accuracy: 0.1658, Validation Accuracy: 0.1541, Loss: 1.5659\n",
      "Epoch   0 Batch  150/269 - Train Accuracy: 0.1590, Validation Accuracy: 0.1542, Loss: 1.5155\n",
      "Epoch   0 Batch  160/269 - Train Accuracy: 0.1569, Validation Accuracy: 0.1500, Loss: 1.4390\n",
      "Epoch   0 Batch  170/269 - Train Accuracy: 0.1536, Validation Accuracy: 0.1472, Loss: 1.3893\n",
      "Epoch   0 Batch  180/269 - Train Accuracy: 0.1390, Validation Accuracy: 0.1288, Loss: 1.3338\n",
      "Epoch   0 Batch  190/269 - Train Accuracy: 0.1245, Validation Accuracy: 0.1221, Loss: 1.5377\n",
      "Epoch   0 Batch  200/269 - Train Accuracy: 0.1313, Validation Accuracy: 0.1214, Loss: 1.4486\n",
      "Epoch   0 Batch  210/269 - Train Accuracy: 0.1299, Validation Accuracy: 0.1262, Loss: 1.2842\n",
      "Epoch   0 Batch  220/269 - Train Accuracy: 0.1295, Validation Accuracy: 0.1246, Loss: 1.1989\n",
      "Epoch   0 Batch  230/269 - Train Accuracy: 0.1263, Validation Accuracy: 0.1199, Loss: 1.2205\n",
      "Epoch   0 Batch  240/269 - Train Accuracy: 0.1173, Validation Accuracy: 0.1209, Loss: 1.1062\n",
      "Epoch   0 Batch  250/269 - Train Accuracy: 0.1235, Validation Accuracy: 0.1130, Loss: 1.1874\n",
      "Epoch   0 Batch  260/269 - Train Accuracy: 0.1195, Validation Accuracy: 0.1064, Loss: 1.1789\n",
      "Epoch   1 Batch   10/269 - Train Accuracy: 0.1212, Validation Accuracy: 0.1004, Loss: 1.0967\n",
      "Epoch   1 Batch   20/269 - Train Accuracy: 0.1121, Validation Accuracy: 0.1002, Loss: 1.0904\n",
      "Epoch   1 Batch   30/269 - Train Accuracy: 0.1048, Validation Accuracy: 0.0935, Loss: 1.0084\n",
      "Epoch   1 Batch   40/269 - Train Accuracy: 0.1069, Validation Accuracy: 0.0906, Loss: 1.0601\n",
      "Epoch   1 Batch   50/269 - Train Accuracy: 0.1070, Validation Accuracy: 0.0955, Loss: 1.0508\n",
      "Epoch   1 Batch   60/269 - Train Accuracy: 0.1088, Validation Accuracy: 0.0879, Loss: 0.9291\n",
      "Epoch   1 Batch   70/269 - Train Accuracy: 0.0922, Validation Accuracy: 0.0888, Loss: 0.9399\n",
      "Epoch   1 Batch   80/269 - Train Accuracy: 0.0778, Validation Accuracy: 0.0830, Loss: 0.9207\n",
      "Epoch   1 Batch   90/269 - Train Accuracy: 0.0914, Validation Accuracy: 0.0817, Loss: 0.9726\n",
      "Epoch   1 Batch  100/269 - Train Accuracy: 0.0851, Validation Accuracy: 0.0890, Loss: 0.8840\n",
      "Epoch   1 Batch  110/269 - Train Accuracy: 0.0932, Validation Accuracy: 0.0870, Loss: 0.8815\n",
      "Epoch   1 Batch  120/269 - Train Accuracy: 0.1026, Validation Accuracy: 0.0907, Loss: 0.9006\n",
      "Epoch   1 Batch  130/269 - Train Accuracy: 0.0994, Validation Accuracy: 0.0876, Loss: 0.8947\n",
      "Epoch   1 Batch  140/269 - Train Accuracy: 0.0837, Validation Accuracy: 0.0778, Loss: 0.8485\n",
      "Epoch   1 Batch  150/269 - Train Accuracy: 0.0884, Validation Accuracy: 0.0823, Loss: 0.8407\n",
      "Epoch   1 Batch  160/269 - Train Accuracy: 0.0919, Validation Accuracy: 0.0881, Loss: 0.8164\n",
      "Epoch   1 Batch  170/269 - Train Accuracy: 0.0850, Validation Accuracy: 0.0825, Loss: 0.7926\n",
      "Epoch   1 Batch  180/269 - Train Accuracy: 0.0944, Validation Accuracy: 0.0878, Loss: 0.7720\n",
      "Epoch   1 Batch  190/269 - Train Accuracy: 0.0967, Validation Accuracy: 0.0874, Loss: 0.7638\n",
      "Epoch   1 Batch  200/269 - Train Accuracy: 0.1022, Validation Accuracy: 0.0885, Loss: 0.7944\n",
      "Epoch   1 Batch  210/269 - Train Accuracy: 0.0915, Validation Accuracy: 0.0896, Loss: 0.7406\n",
      "Epoch   1 Batch  220/269 - Train Accuracy: 0.0987, Validation Accuracy: 0.0895, Loss: 0.7085\n",
      "Epoch   1 Batch  230/269 - Train Accuracy: 0.1066, Validation Accuracy: 0.0981, Loss: 0.7344\n",
      "Epoch   1 Batch  240/269 - Train Accuracy: 0.0966, Validation Accuracy: 0.0970, Loss: 0.6669\n",
      "Epoch   1 Batch  250/269 - Train Accuracy: 0.1028, Validation Accuracy: 0.0938, Loss: 0.7262\n",
      "Epoch   1 Batch  260/269 - Train Accuracy: 0.1124, Validation Accuracy: 0.1020, Loss: 0.7400\n",
      "Epoch   2 Batch   10/269 - Train Accuracy: 0.1268, Validation Accuracy: 0.1046, Loss: 0.7133\n",
      "Epoch   2 Batch   20/269 - Train Accuracy: 0.1248, Validation Accuracy: 0.1064, Loss: 0.7151\n",
      "Epoch   2 Batch   30/269 - Train Accuracy: 0.1169, Validation Accuracy: 0.1048, Loss: 0.6695\n",
      "Epoch   2 Batch   40/269 - Train Accuracy: 0.1267, Validation Accuracy: 0.1053, Loss: 0.6959\n",
      "Epoch   2 Batch   50/269 - Train Accuracy: 0.1138, Validation Accuracy: 0.0996, Loss: 0.6972\n",
      "Epoch   2 Batch   60/269 - Train Accuracy: 0.1206, Validation Accuracy: 0.1084, Loss: 0.6264\n",
      "Epoch   2 Batch   70/269 - Train Accuracy: 0.1071, Validation Accuracy: 0.1062, Loss: 0.6523\n",
      "Epoch   2 Batch   80/269 - Train Accuracy: 0.1076, Validation Accuracy: 0.1001, Loss: 0.6367\n",
      "Epoch   2 Batch   90/269 - Train Accuracy: 0.1238, Validation Accuracy: 0.1066, Loss: 0.6700\n",
      "Epoch   2 Batch  100/269 - Train Accuracy: 0.1065, Validation Accuracy: 0.1051, Loss: 0.6186\n",
      "Epoch   2 Batch  110/269 - Train Accuracy: 0.1134, Validation Accuracy: 0.1048, Loss: 0.6146\n",
      "Epoch   2 Batch  120/269 - Train Accuracy: 0.1237, Validation Accuracy: 0.1048, Loss: 0.6380\n",
      "Epoch   2 Batch  130/269 - Train Accuracy: 0.1168, Validation Accuracy: 0.1047, Loss: 0.6366\n",
      "Epoch   2 Batch  140/269 - Train Accuracy: 0.1138, Validation Accuracy: 0.1014, Loss: 0.6235\n",
      "Epoch   2 Batch  150/269 - Train Accuracy: 0.1108, Validation Accuracy: 0.1048, Loss: 0.5995\n",
      "Epoch   2 Batch  160/269 - Train Accuracy: 0.1129, Validation Accuracy: 0.1062, Loss: 0.5851\n",
      "Epoch   2 Batch  170/269 - Train Accuracy: 0.1110, Validation Accuracy: 0.1058, Loss: 0.5756\n",
      "Epoch   2 Batch  180/269 - Train Accuracy: 0.1113, Validation Accuracy: 0.1023, Loss: 0.5741\n",
      "Epoch   2 Batch  190/269 - Train Accuracy: 0.1117, Validation Accuracy: 0.1037, Loss: 0.5630\n",
      "Epoch   2 Batch  200/269 - Train Accuracy: 0.1119, Validation Accuracy: 0.1024, Loss: 0.5900\n",
      "Epoch   2 Batch  210/269 - Train Accuracy: 0.1077, Validation Accuracy: 0.1015, Loss: 0.5540\n",
      "Epoch   2 Batch  220/269 - Train Accuracy: 0.1073, Validation Accuracy: 0.1019, Loss: 0.5349\n",
      "Epoch   2 Batch  230/269 - Train Accuracy: 0.1106, Validation Accuracy: 0.1033, Loss: 0.5519\n",
      "Epoch   2 Batch  240/269 - Train Accuracy: 0.1013, Validation Accuracy: 0.1025, Loss: 0.4910\n",
      "Epoch   2 Batch  250/269 - Train Accuracy: 0.1102, Validation Accuracy: 0.1011, Loss: 0.5445\n",
      "Epoch   2 Batch  260/269 - Train Accuracy: 0.1130, Validation Accuracy: 0.1021, Loss: 0.5536\n",
      "Epoch   3 Batch   10/269 - Train Accuracy: 0.1127, Validation Accuracy: 0.1012, Loss: 0.5392\n",
      "Epoch   3 Batch   20/269 - Train Accuracy: 0.1135, Validation Accuracy: 0.1009, Loss: 0.5279\n",
      "Epoch   3 Batch   30/269 - Train Accuracy: 0.1047, Validation Accuracy: 0.1022, Loss: 0.5065\n",
      "Epoch   3 Batch   40/269 - Train Accuracy: 0.1125, Validation Accuracy: 0.1023, Loss: 0.5312\n",
      "Epoch   3 Batch   50/269 - Train Accuracy: 0.1119, Validation Accuracy: 0.1021, Loss: 0.5201\n",
      "Epoch   3 Batch   60/269 - Train Accuracy: 0.1053, Validation Accuracy: 0.0991, Loss: 0.4679\n",
      "Epoch   3 Batch   70/269 - Train Accuracy: 0.0992, Validation Accuracy: 0.0990, Loss: 0.4934\n",
      "Epoch   3 Batch   80/269 - Train Accuracy: 0.1054, Validation Accuracy: 0.1015, Loss: 0.4831\n",
      "Epoch   3 Batch   90/269 - Train Accuracy: 0.1123, Validation Accuracy: 0.1013, Loss: 0.5079\n",
      "Epoch   3 Batch  100/269 - Train Accuracy: 0.1011, Validation Accuracy: 0.1029, Loss: 0.4689\n",
      "Epoch   3 Batch  110/269 - Train Accuracy: 0.1033, Validation Accuracy: 0.1001, Loss: 0.4611\n"
     ]
    },
    {
     "name": "stdout",
     "output_type": "stream",
     "text": [
      "Epoch   3 Batch  120/269 - Train Accuracy: 0.1110, Validation Accuracy: 0.1020, Loss: 0.4824\n",
      "Epoch   3 Batch  130/269 - Train Accuracy: 0.1073, Validation Accuracy: 0.1003, Loss: 0.4857\n",
      "Epoch   3 Batch  140/269 - Train Accuracy: 0.1055, Validation Accuracy: 0.1017, Loss: 0.4652\n",
      "Epoch   3 Batch  150/269 - Train Accuracy: 0.1046, Validation Accuracy: 0.1002, Loss: 0.4973\n",
      "Epoch   3 Batch  160/269 - Train Accuracy: 0.0996, Validation Accuracy: 0.1031, Loss: 0.4619\n",
      "Epoch   3 Batch  170/269 - Train Accuracy: 0.0974, Validation Accuracy: 0.0951, Loss: 0.4495\n",
      "Epoch   3 Batch  180/269 - Train Accuracy: 0.1004, Validation Accuracy: 0.0967, Loss: 0.4447\n",
      "Epoch   3 Batch  190/269 - Train Accuracy: 0.1003, Validation Accuracy: 0.0996, Loss: 0.4300\n",
      "Epoch   3 Batch  200/269 - Train Accuracy: 0.1055, Validation Accuracy: 0.1003, Loss: 0.4465\n",
      "Epoch   3 Batch  210/269 - Train Accuracy: 0.1004, Validation Accuracy: 0.1007, Loss: 0.4214\n",
      "Epoch   3 Batch  220/269 - Train Accuracy: 0.0948, Validation Accuracy: 0.0982, Loss: 0.3998\n",
      "Epoch   3 Batch  230/269 - Train Accuracy: 0.1051, Validation Accuracy: 0.1003, Loss: 0.4119\n",
      "Epoch   3 Batch  240/269 - Train Accuracy: 0.0954, Validation Accuracy: 0.0990, Loss: 0.3800\n",
      "Epoch   3 Batch  250/269 - Train Accuracy: 0.1066, Validation Accuracy: 0.0993, Loss: 0.4218\n",
      "Epoch   3 Batch  260/269 - Train Accuracy: 0.1076, Validation Accuracy: 0.1007, Loss: 0.4249\n",
      "Epoch   4 Batch   10/269 - Train Accuracy: 0.1097, Validation Accuracy: 0.0988, Loss: 0.4172\n",
      "Epoch   4 Batch   20/269 - Train Accuracy: 0.1159, Validation Accuracy: 0.1029, Loss: 0.4075\n",
      "Epoch   4 Batch   30/269 - Train Accuracy: 0.0991, Validation Accuracy: 0.0989, Loss: 0.3885\n",
      "Epoch   4 Batch   40/269 - Train Accuracy: 0.1079, Validation Accuracy: 0.0992, Loss: 0.3977\n",
      "Epoch   4 Batch   50/269 - Train Accuracy: 0.1065, Validation Accuracy: 0.1001, Loss: 0.3965\n",
      "Epoch   4 Batch   60/269 - Train Accuracy: 0.0994, Validation Accuracy: 0.0987, Loss: 0.3494\n",
      "Epoch   4 Batch   70/269 - Train Accuracy: 0.0919, Validation Accuracy: 0.0977, Loss: 0.3711\n",
      "Epoch   4 Batch   80/269 - Train Accuracy: 0.0995, Validation Accuracy: 0.0990, Loss: 0.3589\n",
      "Epoch   4 Batch   90/269 - Train Accuracy: 0.1061, Validation Accuracy: 0.0958, Loss: 0.3741\n",
      "Epoch   4 Batch  100/269 - Train Accuracy: 0.0968, Validation Accuracy: 0.0972, Loss: 0.3339\n",
      "Epoch   4 Batch  110/269 - Train Accuracy: 0.0967, Validation Accuracy: 0.0955, Loss: 0.3347\n",
      "Epoch   4 Batch  120/269 - Train Accuracy: 0.1048, Validation Accuracy: 0.0971, Loss: 0.3496\n",
      "Epoch   4 Batch  130/269 - Train Accuracy: 0.1046, Validation Accuracy: 0.0979, Loss: 0.3535\n",
      "Epoch   4 Batch  140/269 - Train Accuracy: 0.1013, Validation Accuracy: 0.0958, Loss: 0.3393\n",
      "Epoch   4 Batch  150/269 - Train Accuracy: 0.0950, Validation Accuracy: 0.0941, Loss: 0.3171\n",
      "Epoch   4 Batch  160/269 - Train Accuracy: 0.0950, Validation Accuracy: 0.0954, Loss: 0.3135\n",
      "Epoch   4 Batch  170/269 - Train Accuracy: 0.0933, Validation Accuracy: 0.0925, Loss: 0.3123\n",
      "Epoch   4 Batch  180/269 - Train Accuracy: 0.0976, Validation Accuracy: 0.0944, Loss: 0.2966\n",
      "Epoch   4 Batch  190/269 - Train Accuracy: 0.0997, Validation Accuracy: 0.0953, Loss: 0.2918\n",
      "Epoch   4 Batch  200/269 - Train Accuracy: 0.1010, Validation Accuracy: 0.0962, Loss: 0.3105\n",
      "Epoch   4 Batch  210/269 - Train Accuracy: 0.0962, Validation Accuracy: 0.0976, Loss: 0.2816\n",
      "Epoch   4 Batch  220/269 - Train Accuracy: 0.0972, Validation Accuracy: 0.0991, Loss: 0.2723\n",
      "Epoch   4 Batch  230/269 - Train Accuracy: 0.1004, Validation Accuracy: 0.0968, Loss: 0.2715\n",
      "Epoch   4 Batch  240/269 - Train Accuracy: 0.0901, Validation Accuracy: 0.0980, Loss: 0.2503\n",
      "Epoch   4 Batch  250/269 - Train Accuracy: 0.1028, Validation Accuracy: 0.0972, Loss: 0.2797\n",
      "Epoch   4 Batch  260/269 - Train Accuracy: 0.1023, Validation Accuracy: 0.0969, Loss: 0.2855\n",
      "Epoch   5 Batch   10/269 - Train Accuracy: 0.1038, Validation Accuracy: 0.0956, Loss: 0.2576\n",
      "Epoch   5 Batch   20/269 - Train Accuracy: 0.1055, Validation Accuracy: 0.0974, Loss: 0.2585\n",
      "Epoch   5 Batch   30/269 - Train Accuracy: 0.0986, Validation Accuracy: 0.0955, Loss: 0.2597\n",
      "Epoch   5 Batch   40/269 - Train Accuracy: 0.1043, Validation Accuracy: 0.0970, Loss: 0.2525\n",
      "Epoch   5 Batch   50/269 - Train Accuracy: 0.1041, Validation Accuracy: 0.0943, Loss: 0.2541\n",
      "Epoch   5 Batch   60/269 - Train Accuracy: 0.0973, Validation Accuracy: 0.0949, Loss: 0.2243\n",
      "Epoch   5 Batch   70/269 - Train Accuracy: 0.0963, Validation Accuracy: 0.0961, Loss: 0.2358\n",
      "Epoch   5 Batch   80/269 - Train Accuracy: 0.0952, Validation Accuracy: 0.0980, Loss: 0.2166\n",
      "Epoch   5 Batch   90/269 - Train Accuracy: 0.1052, Validation Accuracy: 0.0952, Loss: 0.2329\n",
      "Epoch   5 Batch  100/269 - Train Accuracy: 0.0938, Validation Accuracy: 0.0949, Loss: 0.2133\n",
      "Epoch   5 Batch  110/269 - Train Accuracy: 0.0947, Validation Accuracy: 0.0937, Loss: 0.2114\n",
      "Epoch   5 Batch  120/269 - Train Accuracy: 0.0995, Validation Accuracy: 0.0947, Loss: 0.2199\n",
      "Epoch   5 Batch  130/269 - Train Accuracy: 0.1021, Validation Accuracy: 0.0958, Loss: 0.2261\n",
      "Epoch   5 Batch  140/269 - Train Accuracy: 0.0936, Validation Accuracy: 0.0922, Loss: 0.2151\n",
      "Epoch   5 Batch  150/269 - Train Accuracy: 0.0955, Validation Accuracy: 0.0950, Loss: 0.1968\n",
      "Epoch   5 Batch  160/269 - Train Accuracy: 0.0956, Validation Accuracy: 0.0923, Loss: 0.1876\n",
      "Epoch   5 Batch  170/269 - Train Accuracy: 0.0924, Validation Accuracy: 0.0929, Loss: 0.1832\n",
      "Epoch   5 Batch  180/269 - Train Accuracy: 0.0967, Validation Accuracy: 0.0928, Loss: 0.1884\n",
      "Epoch   5 Batch  190/269 - Train Accuracy: 0.0997, Validation Accuracy: 0.0936, Loss: 0.1790\n",
      "Epoch   5 Batch  200/269 - Train Accuracy: 0.1001, Validation Accuracy: 0.0960, Loss: 0.1847\n",
      "Epoch   5 Batch  210/269 - Train Accuracy: 0.0980, Validation Accuracy: 0.0938, Loss: 0.1712\n",
      "Epoch   5 Batch  220/269 - Train Accuracy: 0.0957, Validation Accuracy: 0.0951, Loss: 0.1620\n",
      "Epoch   5 Batch  230/269 - Train Accuracy: 0.0997, Validation Accuracy: 0.0948, Loss: 0.1667\n",
      "Epoch   5 Batch  240/269 - Train Accuracy: 0.0888, Validation Accuracy: 0.0931, Loss: 0.1542\n",
      "Epoch   5 Batch  250/269 - Train Accuracy: 0.1012, Validation Accuracy: 0.0937, Loss: 0.1643\n",
      "Epoch   5 Batch  260/269 - Train Accuracy: 0.0995, Validation Accuracy: 0.0937, Loss: 0.1758\n",
      "Epoch   6 Batch   10/269 - Train Accuracy: 0.1036, Validation Accuracy: 0.0944, Loss: 0.1450\n",
      "Epoch   6 Batch   20/269 - Train Accuracy: 0.1034, Validation Accuracy: 0.0923, Loss: 0.1442\n",
      "Epoch   6 Batch   30/269 - Train Accuracy: 0.0955, Validation Accuracy: 0.0918, Loss: 0.1413\n",
      "Epoch   6 Batch   40/269 - Train Accuracy: 0.1050, Validation Accuracy: 0.0950, Loss: 0.1435\n",
      "Epoch   6 Batch   50/269 - Train Accuracy: 0.1048, Validation Accuracy: 0.0966, Loss: 0.1464\n",
      "Epoch   6 Batch   60/269 - Train Accuracy: 0.0961, Validation Accuracy: 0.0935, Loss: 0.1322\n",
      "Epoch   6 Batch   70/269 - Train Accuracy: 0.0955, Validation Accuracy: 0.0945, Loss: 0.1321\n",
      "Epoch   6 Batch   80/269 - Train Accuracy: 0.0939, Validation Accuracy: 0.0945, Loss: 0.1363\n",
      "Epoch   6 Batch   90/269 - Train Accuracy: 0.1042, Validation Accuracy: 0.0947, Loss: 0.1354\n",
      "Epoch   6 Batch  100/269 - Train Accuracy: 0.0975, Validation Accuracy: 0.0965, Loss: 0.1224\n",
      "Epoch   6 Batch  110/269 - Train Accuracy: 0.0919, Validation Accuracy: 0.0951, Loss: 0.1164\n",
      "Epoch   6 Batch  120/269 - Train Accuracy: 0.1013, Validation Accuracy: 0.0938, Loss: 0.1231\n",
      "Epoch   6 Batch  130/269 - Train Accuracy: 0.1031, Validation Accuracy: 0.0949, Loss: 0.1222\n",
      "Epoch   6 Batch  140/269 - Train Accuracy: 0.0963, Validation Accuracy: 0.0926, Loss: 0.1221\n",
      "Epoch   6 Batch  150/269 - Train Accuracy: 0.0971, Validation Accuracy: 0.0945, Loss: 0.1107\n",
      "Epoch   6 Batch  160/269 - Train Accuracy: 0.0988, Validation Accuracy: 0.0945, Loss: 0.1068\n",
      "Epoch   6 Batch  170/269 - Train Accuracy: 0.0946, Validation Accuracy: 0.0954, Loss: 0.1045\n",
      "Epoch   6 Batch  180/269 - Train Accuracy: 0.0988, Validation Accuracy: 0.0950, Loss: 0.1007\n",
      "Epoch   6 Batch  190/269 - Train Accuracy: 0.1012, Validation Accuracy: 0.0983, Loss: 0.0963\n",
      "Epoch   6 Batch  200/269 - Train Accuracy: 0.0998, Validation Accuracy: 0.0949, Loss: 0.1030\n",
      "Epoch   6 Batch  210/269 - Train Accuracy: 0.0946, Validation Accuracy: 0.0948, Loss: 0.0963\n",
      "Epoch   6 Batch  220/269 - Train Accuracy: 0.0953, Validation Accuracy: 0.0950, Loss: 0.0938\n"
     ]
    },
    {
     "name": "stdout",
     "output_type": "stream",
     "text": [
      "Epoch   6 Batch  230/269 - Train Accuracy: 0.1005, Validation Accuracy: 0.0978, Loss: 0.0959\n",
      "Epoch   6 Batch  240/269 - Train Accuracy: 0.0897, Validation Accuracy: 0.0944, Loss: 0.0871\n",
      "Epoch   6 Batch  250/269 - Train Accuracy: 0.1039, Validation Accuracy: 0.0976, Loss: 0.0920\n",
      "Epoch   6 Batch  260/269 - Train Accuracy: 0.1030, Validation Accuracy: 0.0969, Loss: 0.1081\n",
      "Epoch   7 Batch   10/269 - Train Accuracy: 0.1056, Validation Accuracy: 0.0966, Loss: 0.0886\n",
      "Epoch   7 Batch   20/269 - Train Accuracy: 0.1073, Validation Accuracy: 0.0966, Loss: 0.0898\n",
      "Epoch   7 Batch   30/269 - Train Accuracy: 0.0957, Validation Accuracy: 0.0971, Loss: 0.0888\n",
      "Epoch   7 Batch   40/269 - Train Accuracy: 0.1062, Validation Accuracy: 0.0961, Loss: 0.0969\n",
      "Epoch   7 Batch   50/269 - Train Accuracy: 0.1045, Validation Accuracy: 0.0976, Loss: 0.0948\n",
      "Epoch   7 Batch   60/269 - Train Accuracy: 0.0977, Validation Accuracy: 0.0980, Loss: 0.0801\n",
      "Epoch   7 Batch   70/269 - Train Accuracy: 0.0975, Validation Accuracy: 0.0960, Loss: 0.0857\n",
      "Epoch   7 Batch   80/269 - Train Accuracy: 0.0932, Validation Accuracy: 0.0961, Loss: 0.0808\n",
      "Epoch   7 Batch   90/269 - Train Accuracy: 0.1035, Validation Accuracy: 0.0958, Loss: 0.0912\n",
      "Epoch   7 Batch  100/269 - Train Accuracy: 0.0981, Validation Accuracy: 0.0970, Loss: 0.0935\n",
      "Epoch   7 Batch  110/269 - Train Accuracy: 0.0960, Validation Accuracy: 0.0961, Loss: 0.0794\n",
      "Epoch   7 Batch  120/269 - Train Accuracy: 0.1034, Validation Accuracy: 0.0966, Loss: 0.0859\n",
      "Epoch   7 Batch  130/269 - Train Accuracy: 0.1061, Validation Accuracy: 0.0977, Loss: 0.0866\n",
      "Epoch   7 Batch  140/269 - Train Accuracy: 0.0964, Validation Accuracy: 0.0961, Loss: 0.0830\n",
      "Epoch   7 Batch  150/269 - Train Accuracy: 0.0989, Validation Accuracy: 0.0975, Loss: 0.0775\n",
      "Epoch   7 Batch  160/269 - Train Accuracy: 0.1007, Validation Accuracy: 0.0961, Loss: 0.0762\n",
      "Epoch   7 Batch  170/269 - Train Accuracy: 0.0968, Validation Accuracy: 0.0953, Loss: 0.0692\n",
      "Epoch   7 Batch  180/269 - Train Accuracy: 0.0984, Validation Accuracy: 0.0954, Loss: 0.0691\n",
      "Epoch   7 Batch  190/269 - Train Accuracy: 0.1031, Validation Accuracy: 0.0976, Loss: 0.0719\n",
      "Epoch   7 Batch  200/269 - Train Accuracy: 0.1003, Validation Accuracy: 0.0958, Loss: 0.0724\n",
      "Epoch   7 Batch  210/269 - Train Accuracy: 0.0962, Validation Accuracy: 0.0976, Loss: 0.0703\n",
      "Epoch   7 Batch  220/269 - Train Accuracy: 0.0985, Validation Accuracy: 0.0985, Loss: 0.0689\n",
      "Epoch   7 Batch  230/269 - Train Accuracy: 0.1015, Validation Accuracy: 0.0950, Loss: 0.0706\n",
      "Epoch   7 Batch  240/269 - Train Accuracy: 0.0914, Validation Accuracy: 0.0959, Loss: 0.0645\n",
      "Epoch   7 Batch  250/269 - Train Accuracy: 0.1052, Validation Accuracy: 0.0987, Loss: 0.0648\n",
      "Epoch   7 Batch  260/269 - Train Accuracy: 0.1041, Validation Accuracy: 0.0997, Loss: 0.0753\n",
      "Epoch   8 Batch   10/269 - Train Accuracy: 0.1083, Validation Accuracy: 0.0962, Loss: 0.0604\n",
      "Epoch   8 Batch   20/269 - Train Accuracy: 0.1081, Validation Accuracy: 0.0958, Loss: 0.0649\n",
      "Epoch   8 Batch   30/269 - Train Accuracy: 0.1010, Validation Accuracy: 0.0992, Loss: 0.0650\n",
      "Epoch   8 Batch   40/269 - Train Accuracy: 0.1086, Validation Accuracy: 0.0973, Loss: 0.0729\n",
      "Epoch   8 Batch   50/269 - Train Accuracy: 0.1070, Validation Accuracy: 0.0971, Loss: 0.0703\n",
      "Epoch   8 Batch   60/269 - Train Accuracy: 0.0978, Validation Accuracy: 0.0969, Loss: 0.0580\n",
      "Epoch   8 Batch   70/269 - Train Accuracy: 0.0992, Validation Accuracy: 0.0981, Loss: 0.0623\n",
      "Epoch   8 Batch   80/269 - Train Accuracy: 0.0948, Validation Accuracy: 0.0963, Loss: 0.0621\n",
      "Epoch   8 Batch   90/269 - Train Accuracy: 0.1036, Validation Accuracy: 0.0942, Loss: 0.0637\n",
      "Epoch   8 Batch  100/269 - Train Accuracy: 0.0963, Validation Accuracy: 0.0957, Loss: 0.0620\n",
      "Epoch   8 Batch  110/269 - Train Accuracy: 0.0938, Validation Accuracy: 0.0954, Loss: 0.0604\n",
      "Epoch   8 Batch  120/269 - Train Accuracy: 0.1017, Validation Accuracy: 0.0969, Loss: 0.0661\n",
      "Epoch   8 Batch  130/269 - Train Accuracy: 0.1056, Validation Accuracy: 0.0984, Loss: 0.0711\n",
      "Epoch   8 Batch  140/269 - Train Accuracy: 0.1016, Validation Accuracy: 0.0969, Loss: 0.0727\n",
      "Epoch   8 Batch  150/269 - Train Accuracy: 0.0972, Validation Accuracy: 0.0961, Loss: 0.0771\n",
      "Epoch   8 Batch  160/269 - Train Accuracy: 0.1022, Validation Accuracy: 0.0969, Loss: 0.0632\n",
      "Epoch   8 Batch  170/269 - Train Accuracy: 0.0972, Validation Accuracy: 0.0987, Loss: 0.0613\n",
      "Epoch   8 Batch  180/269 - Train Accuracy: 0.1006, Validation Accuracy: 0.0975, Loss: 0.0565\n",
      "Epoch   8 Batch  190/269 - Train Accuracy: 0.1044, Validation Accuracy: 0.0960, Loss: 0.0576\n",
      "Epoch   8 Batch  200/269 - Train Accuracy: 0.1033, Validation Accuracy: 0.0945, Loss: 0.0562\n",
      "Epoch   8 Batch  210/269 - Train Accuracy: 0.0944, Validation Accuracy: 0.0946, Loss: 0.0569\n",
      "Epoch   8 Batch  220/269 - Train Accuracy: 0.0969, Validation Accuracy: 0.0955, Loss: 0.0534\n",
      "Epoch   8 Batch  230/269 - Train Accuracy: 0.1022, Validation Accuracy: 0.0985, Loss: 0.0570\n",
      "Epoch   8 Batch  240/269 - Train Accuracy: 0.0938, Validation Accuracy: 0.0983, Loss: 0.0541\n",
      "Epoch   8 Batch  250/269 - Train Accuracy: 0.1055, Validation Accuracy: 0.0988, Loss: 0.0521\n",
      "Epoch   8 Batch  260/269 - Train Accuracy: 0.1063, Validation Accuracy: 0.0985, Loss: 0.0626\n",
      "Epoch   9 Batch   10/269 - Train Accuracy: 0.1073, Validation Accuracy: 0.0975, Loss: 0.0500\n",
      "Epoch   9 Batch   20/269 - Train Accuracy: 0.1078, Validation Accuracy: 0.0971, Loss: 0.0513\n",
      "Epoch   9 Batch   30/269 - Train Accuracy: 0.1008, Validation Accuracy: 0.1007, Loss: 0.0527\n",
      "Epoch   9 Batch   40/269 - Train Accuracy: 0.1087, Validation Accuracy: 0.0980, Loss: 0.0572\n",
      "Epoch   9 Batch   50/269 - Train Accuracy: 0.1095, Validation Accuracy: 0.0987, Loss: 0.0607\n",
      "Epoch   9 Batch   60/269 - Train Accuracy: 0.0959, Validation Accuracy: 0.0977, Loss: 0.0529\n",
      "Epoch   9 Batch   70/269 - Train Accuracy: 0.1011, Validation Accuracy: 0.0971, Loss: 0.0476\n",
      "Epoch   9 Batch   80/269 - Train Accuracy: 0.0946, Validation Accuracy: 0.0962, Loss: 0.0507\n",
      "Epoch   9 Batch   90/269 - Train Accuracy: 0.1043, Validation Accuracy: 0.0973, Loss: 0.0517\n",
      "Epoch   9 Batch  100/269 - Train Accuracy: 0.0984, Validation Accuracy: 0.0992, Loss: 0.0507\n",
      "Epoch   9 Batch  110/269 - Train Accuracy: 0.0987, Validation Accuracy: 0.1012, Loss: 0.0499\n",
      "Epoch   9 Batch  120/269 - Train Accuracy: 0.1057, Validation Accuracy: 0.0988, Loss: 0.0506\n",
      "Epoch   9 Batch  130/269 - Train Accuracy: 0.1075, Validation Accuracy: 0.1012, Loss: 0.0537\n",
      "Epoch   9 Batch  140/269 - Train Accuracy: 0.0983, Validation Accuracy: 0.0991, Loss: 0.0575\n",
      "Epoch   9 Batch  150/269 - Train Accuracy: 0.0977, Validation Accuracy: 0.0977, Loss: 0.0549\n",
      "Epoch   9 Batch  160/269 - Train Accuracy: 0.1005, Validation Accuracy: 0.0978, Loss: 0.0481\n",
      "Epoch   9 Batch  170/269 - Train Accuracy: 0.0964, Validation Accuracy: 0.0947, Loss: 0.0443\n",
      "Epoch   9 Batch  180/269 - Train Accuracy: 0.1010, Validation Accuracy: 0.0977, Loss: 0.0446\n",
      "Epoch   9 Batch  190/269 - Train Accuracy: 0.1049, Validation Accuracy: 0.0983, Loss: 0.0479\n",
      "Epoch   9 Batch  200/269 - Train Accuracy: 0.1026, Validation Accuracy: 0.0969, Loss: 0.0454\n",
      "Epoch   9 Batch  210/269 - Train Accuracy: 0.0956, Validation Accuracy: 0.0980, Loss: 0.0457\n",
      "Epoch   9 Batch  220/269 - Train Accuracy: 0.0976, Validation Accuracy: 0.0969, Loss: 0.0439\n",
      "Epoch   9 Batch  230/269 - Train Accuracy: 0.1005, Validation Accuracy: 0.0984, Loss: 0.0490\n",
      "Epoch   9 Batch  240/269 - Train Accuracy: 0.0900, Validation Accuracy: 0.0985, Loss: 0.0439\n",
      "Epoch   9 Batch  250/269 - Train Accuracy: 0.1047, Validation Accuracy: 0.0968, Loss: 0.0421\n",
      "Epoch   9 Batch  260/269 - Train Accuracy: 0.1034, Validation Accuracy: 0.0974, Loss: 0.0512\n",
      "Model Trained and Saved\n"
     ]
    }
   ],
   "source": [
    "\"\"\"\n",
    "DON'T MODIFY ANYTHING IN THIS CELL\n",
    "\"\"\"\n",
    "def get_accuracy(target, logits):\n",
    "    \"\"\"\n",
    "    Calculate accuracy\n",
    "    \"\"\"\n",
    "    max_seq = max(target.shape[1], logits.shape[1])\n",
    "    if max_seq - target.shape[1]:\n",
    "        target = np.pad(\n",
    "            target,\n",
    "            [(0,0),(0,max_seq - target.shape[1])],\n",
    "            'constant')\n",
    "    if max_seq - logits.shape[1]:\n",
    "        logits = np.pad(\n",
    "            logits,\n",
    "            [(0,0),(0,max_seq - logits.shape[1])],\n",
    "            'constant')\n",
    "\n",
    "    return np.mean(np.equal(target, logits))\n",
    "\n",
    "# Split data to training and validation sets\n",
    "train_source = source_int_text[batch_size:]\n",
    "train_target = target_int_text[batch_size:]\n",
    "valid_source = source_int_text[:batch_size]\n",
    "valid_target = target_int_text[:batch_size]\n",
    "(valid_sources_batch, valid_targets_batch, valid_sources_lengths, valid_targets_lengths ) = next(get_batches(valid_source,\n",
    "                                                                                                             valid_target,\n",
    "                                                                                                             batch_size,\n",
    "                                                                                                             source_vocab_to_int['<PAD>'],\n",
    "                                                                                                             target_vocab_to_int['<PAD>']))                                                                                                  \n",
    "with tf.Session(graph=train_graph) as sess:\n",
    "    sess.run(tf.global_variables_initializer())\n",
    "\n",
    "    for epoch_i in range(epochs):\n",
    "        for batch_i, (source_batch, target_batch, sources_lengths, targets_lengths) in enumerate(\n",
    "                get_batches(train_source, train_target, batch_size,\n",
    "                            source_vocab_to_int['<PAD>'],\n",
    "                            target_vocab_to_int['<PAD>'])):\n",
    "\n",
    "            _, loss = sess.run(\n",
    "                [train_op, cost],\n",
    "                {input_data: source_batch,\n",
    "                 targets: target_batch,\n",
    "                 lr: learning_rate,\n",
    "                 target_sequence_length: targets_lengths,\n",
    "                 source_sequence_length: sources_lengths,\n",
    "                 keep_prob: keep_probability})\n",
    "\n",
    "\n",
    "            if batch_i % display_step == 0 and batch_i > 0:\n",
    "\n",
    "\n",
    "                batch_train_logits = sess.run(\n",
    "                    inference_logits,\n",
    "                    {input_data: source_batch,\n",
    "                     source_sequence_length: sources_lengths,\n",
    "                     target_sequence_length: targets_lengths,\n",
    "                     keep_prob: 1.0})\n",
    "\n",
    "\n",
    "                batch_valid_logits = sess.run(\n",
    "                    inference_logits,\n",
    "                    {input_data: valid_sources_batch,\n",
    "                     source_sequence_length: valid_sources_lengths,\n",
    "                     target_sequence_length: valid_targets_lengths,\n",
    "                     keep_prob: 1.0})\n",
    "\n",
    "                train_acc = get_accuracy(target_batch, batch_train_logits)\n",
    "\n",
    "                valid_acc = get_accuracy(valid_targets_batch, batch_valid_logits)\n",
    "\n",
    "                print('Epoch {:>3} Batch {:>4}/{} - Train Accuracy: {:>6.4f}, Validation Accuracy: {:>6.4f}, Loss: {:>6.4f}'\n",
    "                      .format(epoch_i, batch_i, len(source_int_text) // batch_size, train_acc, valid_acc, loss))\n",
    "\n",
    "    # Save Model\n",
    "    saver = tf.train.Saver()\n",
    "    saver.save(sess, save_path)\n",
    "    print('Model Trained and Saved')"
   ]
  },
  {
   "cell_type": "markdown",
   "metadata": {},
   "source": [
    "### Save Parameters\n",
    "Save the `batch_size` and `save_path` parameters for inference."
   ]
  },
  {
   "cell_type": "code",
   "execution_count": 18,
   "metadata": {
    "collapsed": true
   },
   "outputs": [],
   "source": [
    "\"\"\"\n",
    "DON'T MODIFY ANYTHING IN THIS CELL\n",
    "\"\"\"\n",
    "# Save parameters for checkpoint\n",
    "helper.save_params(save_path)"
   ]
  },
  {
   "cell_type": "markdown",
   "metadata": {},
   "source": [
    "# Checkpoint"
   ]
  },
  {
   "cell_type": "code",
   "execution_count": 19,
   "metadata": {
    "collapsed": true
   },
   "outputs": [],
   "source": [
    "\"\"\"\n",
    "DON'T MODIFY ANYTHING IN THIS CELL\n",
    "\"\"\"\n",
    "import tensorflow as tf\n",
    "import numpy as np\n",
    "import helper\n",
    "import problem_unittests as tests\n",
    "\n",
    "_, (source_vocab_to_int, target_vocab_to_int), (source_int_to_vocab, target_int_to_vocab) = helper.load_preprocess()\n",
    "load_path = helper.load_params()"
   ]
  },
  {
   "cell_type": "markdown",
   "metadata": {},
   "source": [
    "## Sentence to Sequence\n",
    "To feed a sentence into the model for translation, you first need to preprocess it.  Implement the function `sentence_to_seq()` to preprocess new sentences.\n",
    "\n",
    "- Convert the sentence to lowercase\n",
    "- Convert words into ids using `vocab_to_int`\n",
    " - Convert words not in the vocabulary, to the `<UNK>` word id."
   ]
  },
  {
   "cell_type": "code",
   "execution_count": 20,
   "metadata": {},
   "outputs": [
    {
     "name": "stdout",
     "output_type": "stream",
     "text": [
      "Tests Passed\n"
     ]
    }
   ],
   "source": [
    "def sentence_to_seq(sentence, vocab_to_int):\n",
    "    \"\"\"\n",
    "    Convert a sentence to a sequence of ids\n",
    "    :param sentence: String\n",
    "    :param vocab_to_int: Dictionary to go from the words to an id\n",
    "    :return: List of word ids\n",
    "    \"\"\"\n",
    "    sentence = sentence.lower()\n",
    "    word_list = []\n",
    "    for word in sentence.split():\n",
    "        try:\n",
    "            word_list.append(vocab_to_int[word])\n",
    "        except KeyError:\n",
    "            word_list.append(vocab_to_int['<UNK>'])\n",
    "    \n",
    "    return word_list\n",
    "\n",
    "\n",
    "\"\"\"\n",
    "DON'T MODIFY ANYTHING IN THIS CELL THAT IS BELOW THIS LINE\n",
    "\"\"\"\n",
    "tests.test_sentence_to_seq(sentence_to_seq)"
   ]
  },
  {
   "cell_type": "markdown",
   "metadata": {},
   "source": [
    "## Translate\n",
    "This will translate `translate_sentence` from English to French."
   ]
  },
  {
   "cell_type": "code",
   "execution_count": 21,
   "metadata": {},
   "outputs": [
    {
     "name": "stdout",
     "output_type": "stream",
     "text": [
      "INFO:tensorflow:Restoring parameters from checkpoints/dev\n",
      "Input\n",
      "  Word Ids:      [190, 122, 134, 124, 182, 226, 169]\n",
      "  English Words: ['he', 'saw', 'a', 'old', 'yellow', 'truck', '.']\n",
      "\n",
      "Prediction\n",
      "  Word Ids:      [197, 273, 251, 119, 119, 90, 90, 257, 257, 257, 218, 257, 218, 257]\n",
      "  French Words: il n'aime pas de de poires poires sec sec sec fraises sec fraises sec\n"
     ]
    }
   ],
   "source": [
    "translate_sentence = 'he saw a old yellow truck .'\n",
    "\n",
    "\n",
    "\"\"\"\n",
    "DON'T MODIFY ANYTHING IN THIS CELL\n",
    "\"\"\"\n",
    "translate_sentence = sentence_to_seq(translate_sentence, source_vocab_to_int)\n",
    "\n",
    "loaded_graph = tf.Graph()\n",
    "with tf.Session(graph=loaded_graph) as sess:\n",
    "    # Load saved model\n",
    "    loader = tf.train.import_meta_graph(load_path + '.meta')\n",
    "    loader.restore(sess, load_path)\n",
    "\n",
    "    input_data = loaded_graph.get_tensor_by_name('input:0')\n",
    "    logits = loaded_graph.get_tensor_by_name('predictions:0')\n",
    "    target_sequence_length = loaded_graph.get_tensor_by_name('target_sequence_length:0')\n",
    "    source_sequence_length = loaded_graph.get_tensor_by_name('source_sequence_length:0')\n",
    "    keep_prob = loaded_graph.get_tensor_by_name('keep_prob:0')\n",
    "\n",
    "    translate_logits = sess.run(logits, {input_data: [translate_sentence]*batch_size,\n",
    "                                         target_sequence_length: [len(translate_sentence)*2]*batch_size,\n",
    "                                         source_sequence_length: [len(translate_sentence)]*batch_size,\n",
    "                                         keep_prob: 1.0})[0]\n",
    "\n",
    "print('Input')\n",
    "print('  Word Ids:      {}'.format([i for i in translate_sentence]))\n",
    "print('  English Words: {}'.format([source_int_to_vocab[i] for i in translate_sentence]))\n",
    "\n",
    "print('\\nPrediction')\n",
    "print('  Word Ids:      {}'.format([i for i in translate_logits]))\n",
    "print('  French Words: {}'.format(\" \".join([target_int_to_vocab[i] for i in translate_logits])))\n"
   ]
  },
  {
   "cell_type": "markdown",
   "metadata": {},
   "source": [
    "## Imperfect Translation\n",
    "You might notice that some sentences translate better than others.  Since the dataset you're using only has a vocabulary of 227 English words of the thousands that you use, you're only going to see good results using these words.  For this project, you don't need a perfect translation. However, if you want to create a better translation model, you'll need better data.\n",
    "\n",
    "You can train on the [WMT10 French-English corpus](http://www.statmt.org/wmt10/training-giga-fren.tar).  This dataset has more vocabulary and richer in topics discussed.  However, this will take you days to train, so make sure you've a GPU and the neural network is performing well on dataset we provided.  Just make sure you play with the WMT10 corpus after you've submitted this project.\n",
    "## Submitting This Project\n",
    "When submitting this project, make sure to run all the cells before saving the notebook. Save the notebook file as \"dlnd_language_translation.ipynb\" and save it as a HTML file under \"File\" -> \"Download as\". Include the \"helper.py\" and \"problem_unittests.py\" files in your submission."
   ]
  }
 ],
 "metadata": {
  "anaconda-cloud": {},
  "kernelspec": {
   "display_name": "Python 3",
   "language": "python",
   "name": "python3"
  },
  "language_info": {
   "codemirror_mode": {
    "name": "ipython",
    "version": 3
   },
   "file_extension": ".py",
   "mimetype": "text/x-python",
   "name": "python",
   "nbconvert_exporter": "python",
   "pygments_lexer": "ipython3",
   "version": "3.5.3"
  }
 },
 "nbformat": 4,
 "nbformat_minor": 1
}
