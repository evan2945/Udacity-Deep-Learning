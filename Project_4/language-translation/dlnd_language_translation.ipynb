{
 "cells": [
  {
   "cell_type": "markdown",
   "metadata": {
    "collapsed": true
   },
   "source": [
    "# Language Translation\n",
    "In this project, you’re going to take a peek into the realm of neural network machine translation.  You’ll be training a sequence to sequence model on a dataset of English and French sentences that can translate new sentences from English to French.\n",
    "## Get the Data\n",
    "Since translating the whole language of English to French will take lots of time to train, we have provided you with a small portion of the English corpus."
   ]
  },
  {
   "cell_type": "code",
   "execution_count": 3,
   "metadata": {
    "collapsed": true
   },
   "outputs": [],
   "source": [
    "\"\"\"\n",
    "DON'T MODIFY ANYTHING IN THIS CELL\n",
    "\"\"\"\n",
    "import helper\n",
    "import problem_unittests as tests\n",
    "\n",
    "source_path = 'data/small_vocab_en'\n",
    "target_path = 'data/small_vocab_fr'\n",
    "source_text = helper.load_data(source_path)\n",
    "target_text = helper.load_data(target_path)"
   ]
  },
  {
   "cell_type": "markdown",
   "metadata": {},
   "source": [
    "## Explore the Data\n",
    "Play around with view_sentence_range to view different parts of the data."
   ]
  },
  {
   "cell_type": "code",
   "execution_count": 4,
   "metadata": {},
   "outputs": [
    {
     "name": "stdout",
     "output_type": "stream",
     "text": [
      "Dataset Stats\n",
      "Roughly the number of unique words: 227\n",
      "Number of sentences: 137861\n",
      "Average number of words in a sentence: 13.225277634719028\n",
      "\n",
      "English sentences 0 to 10:\n",
      "new jersey is sometimes quiet during autumn , and it is snowy in april .\n",
      "the united states is usually chilly during july , and it is usually freezing in november .\n",
      "california is usually quiet during march , and it is usually hot in june .\n",
      "the united states is sometimes mild during june , and it is cold in september .\n",
      "your least liked fruit is the grape , but my least liked is the apple .\n",
      "his favorite fruit is the orange , but my favorite is the grape .\n",
      "paris is relaxing during december , but it is usually chilly in july .\n",
      "new jersey is busy during spring , and it is never hot in march .\n",
      "our least liked fruit is the lemon , but my least liked is the grape .\n",
      "the united states is sometimes busy during january , and it is sometimes warm in november .\n",
      "\n",
      "French sentences 0 to 10:\n",
      "new jersey est parfois calme pendant l' automne , et il est neigeux en avril .\n",
      "les états-unis est généralement froid en juillet , et il gèle habituellement en novembre .\n",
      "california est généralement calme en mars , et il est généralement chaud en juin .\n",
      "les états-unis est parfois légère en juin , et il fait froid en septembre .\n",
      "votre moins aimé fruit est le raisin , mais mon moins aimé est la pomme .\n",
      "son fruit préféré est l'orange , mais mon préféré est le raisin .\n",
      "paris est relaxant en décembre , mais il est généralement froid en juillet .\n",
      "new jersey est occupé au printemps , et il est jamais chaude en mars .\n",
      "notre fruit est moins aimé le citron , mais mon moins aimé est le raisin .\n",
      "les états-unis est parfois occupé en janvier , et il est parfois chaud en novembre .\n"
     ]
    }
   ],
   "source": [
    "view_sentence_range = (0, 10)\n",
    "\n",
    "\"\"\"\n",
    "DON'T MODIFY ANYTHING IN THIS CELL\n",
    "\"\"\"\n",
    "import numpy as np\n",
    "\n",
    "print('Dataset Stats')\n",
    "print('Roughly the number of unique words: {}'.format(len({word: None for word in source_text.split()})))\n",
    "\n",
    "sentences = source_text.split('\\n')\n",
    "word_counts = [len(sentence.split()) for sentence in sentences]\n",
    "print('Number of sentences: {}'.format(len(sentences)))\n",
    "print('Average number of words in a sentence: {}'.format(np.average(word_counts)))\n",
    "\n",
    "print()\n",
    "print('English sentences {} to {}:'.format(*view_sentence_range))\n",
    "print('\\n'.join(source_text.split('\\n')[view_sentence_range[0]:view_sentence_range[1]]))\n",
    "print()\n",
    "print('French sentences {} to {}:'.format(*view_sentence_range))\n",
    "print('\\n'.join(target_text.split('\\n')[view_sentence_range[0]:view_sentence_range[1]]))"
   ]
  },
  {
   "cell_type": "markdown",
   "metadata": {},
   "source": [
    "## Implement Preprocessing Function\n",
    "### Text to Word Ids\n",
    "As you did with other RNNs, you must turn the text into a number so the computer can understand it. In the function `text_to_ids()`, you'll turn `source_text` and `target_text` from words to ids.  However, you need to add the `<EOS>` word id at the end of `target_text`.  This will help the neural network predict when the sentence should end.\n",
    "\n",
    "You can get the `<EOS>` word id by doing:\n",
    "```python\n",
    "target_vocab_to_int['<EOS>']\n",
    "```\n",
    "You can get other word ids using `source_vocab_to_int` and `target_vocab_to_int`."
   ]
  },
  {
   "cell_type": "code",
   "execution_count": 6,
   "metadata": {},
   "outputs": [
    {
     "name": "stdout",
     "output_type": "stream",
     "text": [
      "Tests Passed\n"
     ]
    }
   ],
   "source": [
    "def text_to_ids(source_text, target_text, source_vocab_to_int, target_vocab_to_int):\n",
    "    \"\"\"\n",
    "    Convert source and target text to proper word ids\n",
    "    :param source_text: String that contains all the source text.\n",
    "    :param target_text: String that contains all the target text.\n",
    "    :param source_vocab_to_int: Dictionary to go from the source words to an id\n",
    "    :param target_vocab_to_int: Dictionary to go from the target words to an id\n",
    "    :return: A tuple of lists (source_id_text, target_id_text)\n",
    "    \"\"\"\n",
    "    # I didn't want to do too much at once, so I split some of the logic up for readability\n",
    "    source_words = source_text.split('\\n')\n",
    "    target_words = target_text.split(\"\\n\")\n",
    "    \n",
    "    target_words = [(sentence + \" <EOS>\") for sentence in target_words]\n",
    "    \n",
    "    source_id_text = [[source_vocab_to_int[word] for word in sentence.split()] for sentence in source_words]\n",
    "    target_id_text = [[target_vocab_to_int[word] for word in sentence.split()] for sentence in target_words]\n",
    "    \n",
    "    return (source_id_text, target_id_text)\n",
    "\n",
    "\"\"\"\n",
    "DON'T MODIFY ANYTHING IN THIS CELL THAT IS BELOW THIS LINE\n",
    "\"\"\"\n",
    "tests.test_text_to_ids(text_to_ids)"
   ]
  },
  {
   "cell_type": "markdown",
   "metadata": {},
   "source": [
    "### Preprocess all the data and save it\n",
    "Running the code cell below will preprocess all the data and save it to file."
   ]
  },
  {
   "cell_type": "code",
   "execution_count": 7,
   "metadata": {
    "collapsed": true
   },
   "outputs": [],
   "source": [
    "\"\"\"\n",
    "DON'T MODIFY ANYTHING IN THIS CELL\n",
    "\"\"\"\n",
    "helper.preprocess_and_save_data(source_path, target_path, text_to_ids)"
   ]
  },
  {
   "cell_type": "markdown",
   "metadata": {},
   "source": [
    "# Check Point\n",
    "This is your first checkpoint. If you ever decide to come back to this notebook or have to restart the notebook, you can start from here. The preprocessed data has been saved to disk."
   ]
  },
  {
   "cell_type": "code",
   "execution_count": 8,
   "metadata": {
    "collapsed": true
   },
   "outputs": [],
   "source": [
    "\"\"\"\n",
    "DON'T MODIFY ANYTHING IN THIS CELL\n",
    "\"\"\"\n",
    "import numpy as np\n",
    "import helper\n",
    "\n",
    "(source_int_text, target_int_text), (source_vocab_to_int, target_vocab_to_int), _ = helper.load_preprocess()"
   ]
  },
  {
   "cell_type": "markdown",
   "metadata": {},
   "source": [
    "### Check the Version of TensorFlow and Access to GPU\n",
    "This will check to make sure you have the correct version of TensorFlow and access to a GPU"
   ]
  },
  {
   "cell_type": "code",
   "execution_count": 9,
   "metadata": {},
   "outputs": [
    {
     "name": "stdout",
     "output_type": "stream",
     "text": [
      "TensorFlow Version: 1.1.0\n",
      "Default GPU Device: /gpu:0\n"
     ]
    }
   ],
   "source": [
    "\"\"\"\n",
    "DON'T MODIFY ANYTHING IN THIS CELL\n",
    "\"\"\"\n",
    "from distutils.version import LooseVersion\n",
    "import warnings\n",
    "import tensorflow as tf\n",
    "from tensorflow.python.layers.core import Dense\n",
    "\n",
    "# Check TensorFlow Version\n",
    "assert LooseVersion(tf.__version__) >= LooseVersion('1.1'), 'Please use TensorFlow version 1.1 or newer'\n",
    "print('TensorFlow Version: {}'.format(tf.__version__))\n",
    "\n",
    "# Check for a GPU\n",
    "if not tf.test.gpu_device_name():\n",
    "    warnings.warn('No GPU found. Please use a GPU to train your neural network.')\n",
    "else:\n",
    "    print('Default GPU Device: {}'.format(tf.test.gpu_device_name()))"
   ]
  },
  {
   "cell_type": "markdown",
   "metadata": {},
   "source": [
    "## Build the Neural Network\n",
    "You'll build the components necessary to build a Sequence-to-Sequence model by implementing the following functions below:\n",
    "- `model_inputs`\n",
    "- `process_decoder_input`\n",
    "- `encoding_layer`\n",
    "- `decoding_layer_train`\n",
    "- `decoding_layer_infer`\n",
    "- `decoding_layer`\n",
    "- `seq2seq_model`\n",
    "\n",
    "### Input\n",
    "Implement the `model_inputs()` function to create TF Placeholders for the Neural Network. It should create the following placeholders:\n",
    "\n",
    "- Input text placeholder named \"input\" using the TF Placeholder name parameter with rank 2.\n",
    "- Targets placeholder with rank 2.\n",
    "- Learning rate placeholder with rank 0.\n",
    "- Keep probability placeholder named \"keep_prob\" using the TF Placeholder name parameter with rank 0.\n",
    "- Target sequence length placeholder named \"target_sequence_length\" with rank 1\n",
    "- Max target sequence length tensor named \"max_target_len\" getting its value from applying tf.reduce_max on the target_sequence_length placeholder. Rank 0.\n",
    "- Source sequence length placeholder named \"source_sequence_length\" with rank 1\n",
    "\n",
    "Return the placeholders in the following the tuple (input, targets, learning rate, keep probability, target sequence length, max target sequence length, source sequence length)"
   ]
  },
  {
   "cell_type": "code",
   "execution_count": 10,
   "metadata": {},
   "outputs": [
    {
     "name": "stdout",
     "output_type": "stream",
     "text": [
      "Tests Passed\n"
     ]
    }
   ],
   "source": [
    "def model_inputs():\n",
    "    \"\"\"\n",
    "    Create TF Placeholders for input, targets, learning rate, and lengths of source and target sequences.\n",
    "    :return: Tuple (input, targets, learning rate, keep probability, target sequence length,\n",
    "    max target sequence length, source sequence length)\n",
    "    \"\"\"\n",
    "    # TODO: Implement Function\n",
    "    inputs = tf.placeholder(tf.int32, shape=([None, None]), name='input')\n",
    "    targets = tf.placeholder(tf.int32, shape=([None, None]))\n",
    "    learning_rate = tf.placeholder(tf.float32)\n",
    "    keep_prob = tf.placeholder(tf.float32, name='keep_prob')\n",
    "    target_sequence_length = tf.placeholder(tf.int32, shape=([None]), name='target_sequence_length')\n",
    "    max_target_len = tf.reduce_max(target_sequence_length, name='max_target_len')\n",
    "    source_sequence_length = tf.placeholder(tf.int32, shape=([None]), name='source_sequence_length')\n",
    "    \n",
    "    return inputs, targets, learning_rate, keep_prob, target_sequence_length, max_target_len, source_sequence_length\n",
    "\n",
    "\n",
    "\"\"\"\n",
    "DON'T MODIFY ANYTHING IN THIS CELL THAT IS BELOW THIS LINE\n",
    "\"\"\"\n",
    "tests.test_model_inputs(model_inputs)"
   ]
  },
  {
   "cell_type": "markdown",
   "metadata": {},
   "source": [
    "### Process Decoder Input\n",
    "Implement `process_decoder_input` by removing the last word id from each batch in `target_data` and concat the GO ID to the begining of each batch."
   ]
  },
  {
   "cell_type": "code",
   "execution_count": 11,
   "metadata": {},
   "outputs": [
    {
     "name": "stdout",
     "output_type": "stream",
     "text": [
      "Tests Passed\n"
     ]
    }
   ],
   "source": [
    "def process_decoder_input(target_data, target_vocab_to_int, batch_size):\n",
    "    \"\"\"\n",
    "    Preprocess target data for encoding\n",
    "    :param target_data: Target Placehoder\n",
    "    :param target_vocab_to_int: Dictionary to go from the target words to an id\n",
    "    :param batch_size: Batch Size\n",
    "    :return: Preprocessed target data\n",
    "    \"\"\"\n",
    "    # I used the code from the seq2seq notebook. This piece of code is the type that every time I see it\n",
    "    # I have to remind myself what it does. It is concise and effective.\n",
    "    ending = tf.strided_slice(target_data, [0, 0], [batch_size, -1], [1, 1])\n",
    "    dec_input = tf.concat([tf.fill([batch_size, 1], target_vocab_to_int['<GO>']), ending], 1)\n",
    "\n",
    "    return dec_input\n",
    "\n",
    "\"\"\"\n",
    "DON'T MODIFY ANYTHING IN THIS CELL THAT IS BELOW THIS LINE\n",
    "\"\"\"\n",
    "tests.test_process_encoding_input(process_decoder_input)"
   ]
  },
  {
   "cell_type": "markdown",
   "metadata": {},
   "source": [
    "### Encoding\n",
    "Implement `encoding_layer()` to create a Encoder RNN layer:\n",
    " * Embed the encoder input using [`tf.contrib.layers.embed_sequence`](https://www.tensorflow.org/api_docs/python/tf/contrib/layers/embed_sequence)\n",
    " * Construct a [stacked](https://github.com/tensorflow/tensorflow/blob/6947f65a374ebf29e74bb71e36fd82760056d82c/tensorflow/docs_src/tutorials/recurrent.md#stacking-multiple-lstms) [`tf.contrib.rnn.LSTMCell`](https://www.tensorflow.org/api_docs/python/tf/contrib/rnn/LSTMCell) wrapped in a [`tf.contrib.rnn.DropoutWrapper`](https://www.tensorflow.org/api_docs/python/tf/contrib/rnn/DropoutWrapper)\n",
    " * Pass cell and embedded input to [`tf.nn.dynamic_rnn()`](https://www.tensorflow.org/api_docs/python/tf/nn/dynamic_rnn)"
   ]
  },
  {
   "cell_type": "code",
   "execution_count": 12,
   "metadata": {
    "scrolled": false
   },
   "outputs": [
    {
     "name": "stdout",
     "output_type": "stream",
     "text": [
      "Tests Passed\n"
     ]
    }
   ],
   "source": [
    "from imp import reload\n",
    "reload(tests)\n",
    "\n",
    "def encoding_layer(rnn_inputs, rnn_size, num_layers, keep_prob, \n",
    "                   source_sequence_length, source_vocab_size, \n",
    "                   encoding_embedding_size):\n",
    "    \"\"\"\n",
    "    Create encoding layer\n",
    "    :param rnn_inputs: Inputs for the RNN\n",
    "    :param rnn_size: RNN Size\n",
    "    :param num_layers: Number of layers\n",
    "    :param keep_prob: Dropout keep probability\n",
    "    :param source_sequence_length: a list of the lengths of each sequence in the batch\n",
    "    :param source_vocab_size: vocabulary size of source data\n",
    "    :param encoding_embedding_size: embedding size of source data\n",
    "    :return: tuple (RNN output, RNN state)\n",
    "    \"\"\"\n",
    "    encoder_input = tf.contrib.layers.embed_sequence(rnn_inputs, source_vocab_size, encoding_embedding_size)\n",
    "    stacked_lstm = tf.contrib.rnn.MultiRNNCell([tf.contrib.rnn.LSTMCell(rnn_size, initializer=tf.random_uniform_initializer(-0.1, 0.1, seed=2)) for _ in range(num_layers)])\n",
    "    dropout = tf.contrib.rnn.DropoutWrapper(stacked_lstm, output_keep_prob=keep_prob)\n",
    "    RNN_output, RNN_state = tf.nn.dynamic_rnn(dropout, encoder_input, dtype=tf.float32)\n",
    "    \n",
    "    return RNN_output, RNN_state\n",
    "\n",
    "\"\"\"\n",
    "DON'T MODIFY ANYTHING IN THIS CELL THAT IS BELOW THIS LINE\n",
    "\"\"\"\n",
    "tests.test_encoding_layer(encoding_layer)"
   ]
  },
  {
   "cell_type": "markdown",
   "metadata": {},
   "source": [
    "### Decoding - Training\n",
    "Create a training decoding layer:\n",
    "* Create a [`tf.contrib.seq2seq.TrainingHelper`](https://www.tensorflow.org/api_docs/python/tf/contrib/seq2seq/TrainingHelper) \n",
    "* Create a [`tf.contrib.seq2seq.BasicDecoder`](https://www.tensorflow.org/api_docs/python/tf/contrib/seq2seq/BasicDecoder)\n",
    "* Obtain the decoder outputs from [`tf.contrib.seq2seq.dynamic_decode`](https://www.tensorflow.org/api_docs/python/tf/contrib/seq2seq/dynamic_decode)"
   ]
  },
  {
   "cell_type": "code",
   "execution_count": 43,
   "metadata": {},
   "outputs": [
    {
     "name": "stdout",
     "output_type": "stream",
     "text": [
      "Tests Passed\n"
     ]
    }
   ],
   "source": [
    "\n",
    "def decoding_layer_train(encoder_state, dec_cell, dec_embed_input, \n",
    "                         target_sequence_length, max_summary_length, \n",
    "                         output_layer, keep_prob):\n",
    "    \"\"\"\n",
    "    Create a decoding layer for training\n",
    "    :param encoder_state: Encoder State\n",
    "    :param dec_cell: Decoder RNN Cell\n",
    "    :param dec_embed_input: Decoder embedded input\n",
    "    :param target_sequence_length: The lengths of each sequence in the target batch\n",
    "    :param max_summary_length: The length of the longest sequence in the batch\n",
    "    :param output_layer: Function to apply the output layer\n",
    "    :param keep_prob: Dropout keep probability\n",
    "    :return: BasicDecoderOutput containing training logits and sample_id\n",
    "    \"\"\"\n",
    "    \n",
    "    training_helper = tf.contrib.seq2seq.TrainingHelper(dec_embed_input, target_sequence_length)\n",
    "    \n",
    "    dropout = tf.contrib.rnn.DropoutWrapper(dec_cell, output_keep_prob=keep_prob)\n",
    "    \n",
    "    basic_decoder = tf.contrib.seq2seq.BasicDecoder(dropout, training_helper, encoder_state, output_layer=output_layer)\n",
    "    \n",
    "    decoder_output, _ = tf.contrib.seq2seq.dynamic_decode(basic_decoder, impute_finished=True, maximum_iterations=max_summary_length)\n",
    "    \n",
    "    return decoder_output\n",
    "\n",
    "\n",
    "\n",
    "\"\"\"\n",
    "DON'T MODIFY ANYTHING IN THIS CELL THAT IS BELOW THIS LINE\n",
    "\"\"\"\n",
    "tests.test_decoding_layer_train(decoding_layer_train)"
   ]
  },
  {
   "cell_type": "markdown",
   "metadata": {},
   "source": [
    "### Decoding - Inference\n",
    "Create inference decoder:\n",
    "* Create a [`tf.contrib.seq2seq.GreedyEmbeddingHelper`](https://www.tensorflow.org/api_docs/python/tf/contrib/seq2seq/GreedyEmbeddingHelper)\n",
    "* Create a [`tf.contrib.seq2seq.BasicDecoder`](https://www.tensorflow.org/api_docs/python/tf/contrib/seq2seq/BasicDecoder)\n",
    "* Obtain the decoder outputs from [`tf.contrib.seq2seq.dynamic_decode`](https://www.tensorflow.org/api_docs/python/tf/contrib/seq2seq/dynamic_decode)"
   ]
  },
  {
   "cell_type": "code",
   "execution_count": 44,
   "metadata": {
    "scrolled": true
   },
   "outputs": [
    {
     "name": "stdout",
     "output_type": "stream",
     "text": [
      "Tests Passed\n"
     ]
    }
   ],
   "source": [
    "def decoding_layer_infer(encoder_state, dec_cell, dec_embeddings, start_of_sequence_id,\n",
    "                         end_of_sequence_id, max_target_sequence_length,\n",
    "                         vocab_size, output_layer, batch_size, keep_prob):\n",
    "    \"\"\"\n",
    "    Create a decoding layer for inference\n",
    "    :param encoder_state: Encoder state\n",
    "    :param dec_cell: Decoder RNN Cell\n",
    "    :param dec_embeddings: Decoder embeddings\n",
    "    :param start_of_sequence_id: GO ID\n",
    "    :param end_of_sequence_id: EOS Id\n",
    "    :param max_target_sequence_length: Maximum length of target sequences\n",
    "    :param vocab_size: Size of decoder/target vocabulary\n",
    "    :param decoding_scope: TenorFlow Variable Scope for decoding\n",
    "    :param output_layer: Function to apply the output layer\n",
    "    :param batch_size: Batch size\n",
    "    :param keep_prob: Dropout keep probability\n",
    "    :return: BasicDecoderOutput containing inference logits and sample_id\n",
    "    \"\"\"\n",
    "    start_tokens = tf.tile(tf.constant([start_of_sequence_id], dtype=tf.int32), [batch_size], name='start_tokens')\n",
    "    inference_helper = tf.contrib.seq2seq.GreedyEmbeddingHelper(dec_embeddings, start_tokens, end_of_sequence_id)\n",
    "    inference_decoder = tf.contrib.seq2seq.BasicDecoder(dec_cell, inference_helper, encoder_state, output_layer)\n",
    "    decoder_outputs, _ = tf.contrib.seq2seq.dynamic_decode(inference_decoder, impute_finished=True, maximum_iterations=max_target_sequence_length)\n",
    "    \n",
    "    return decoder_outputs\n",
    "\n",
    "\n",
    "\n",
    "\"\"\"\n",
    "DON'T MODIFY ANYTHING IN THIS CELL THAT IS BELOW THIS LINE\n",
    "\"\"\"\n",
    "tests.test_decoding_layer_infer(decoding_layer_infer)"
   ]
  },
  {
   "cell_type": "markdown",
   "metadata": {},
   "source": [
    "### Build the Decoding Layer\n",
    "Implement `decoding_layer()` to create a Decoder RNN layer.\n",
    "\n",
    "* Embed the target sequences\n",
    "* Construct the decoder LSTM cell (just like you constructed the encoder cell above)\n",
    "* Create an output layer to map the outputs of the decoder to the elements of our vocabulary\n",
    "* Use the your `decoding_layer_train(encoder_state, dec_cell, dec_embed_input, target_sequence_length, max_target_sequence_length, output_layer, keep_prob)` function to get the training logits.\n",
    "* Use your `decoding_layer_infer(encoder_state, dec_cell, dec_embeddings, start_of_sequence_id, end_of_sequence_id, max_target_sequence_length, vocab_size, output_layer, batch_size, keep_prob)` function to get the inference logits.\n",
    "\n",
    "Note: You'll need to use [tf.variable_scope](https://www.tensorflow.org/api_docs/python/tf/variable_scope) to share variables between training and inference."
   ]
  },
  {
   "cell_type": "code",
   "execution_count": 45,
   "metadata": {
    "scrolled": false
   },
   "outputs": [
    {
     "name": "stdout",
     "output_type": "stream",
     "text": [
      "Tests Passed\n"
     ]
    }
   ],
   "source": [
    "def decoding_layer(dec_input, encoder_state,\n",
    "                   target_sequence_length, max_target_sequence_length,\n",
    "                   rnn_size,\n",
    "                   num_layers, target_vocab_to_int, target_vocab_size,\n",
    "                   batch_size, keep_prob, decoding_embedding_size):\n",
    "    \"\"\"\n",
    "    Create decoding layer\n",
    "    :param dec_input: Decoder input\n",
    "    :param encoder_state: Encoder state\n",
    "    :param target_sequence_length: The lengths of each sequence in the target batch\n",
    "    :param max_target_sequence_length: Maximum length of target sequences\n",
    "    :param rnn_size: RNN Size\n",
    "    :param num_layers: Number of layers\n",
    "    :param target_vocab_to_int: Dictionary to go from the target words to an id\n",
    "    :param target_vocab_size: Size of target vocabulary\n",
    "    :param batch_size: The size of the batch\n",
    "    :param keep_prob: Dropout keep probability\n",
    "    :return: Tuple of (Training BasicDecoderOutput, Inference BasicDecoderOutput)\n",
    "    \"\"\"\n",
    "    start_of_sequence_id = target_vocab_to_int['<GO>']\n",
    "    end_of_sequence_id = target_vocab_to_int['<EOS>']\n",
    "\n",
    "    decoder_embeddings = tf.Variable(tf.random_uniform([target_vocab_size, decoding_embedding_size]))\n",
    "\n",
    "    decoder_embed_input = tf.contrib.layers.embed_sequence(dec_input, target_vocab_size, decoding_embedding_size)\n",
    "    dec_cell = tf.contrib.rnn.DropoutWrapper(tf.contrib.rnn.MultiRNNCell([tf.contrib.rnn.BasicLSTMCell(rnn_size) for _ in range(num_layers)]),output_keep_prob=keep_prob)\n",
    "\n",
    "    with tf.variable_scope(\"decode\") as decoding_scope:\n",
    "        output_layer = Dense(target_vocab_size, kernel_initializer = tf.truncated_normal_initializer(mean = 0.0, stddev=0.1))\n",
    "\n",
    "        training_logits = decoding_layer_train(encoder_state, dec_cell, decoder_embed_input, target_sequence_length, \n",
    "                                               max_target_sequence_length, output_layer, keep_prob)\n",
    "   \n",
    "    with tf.variable_scope(\"decode\", reuse=True):\n",
    "        inference_logits = decoding_layer_infer(encoder_state, dec_cell, decoder_embeddings, start_of_sequence_id, end_of_sequence_id,\n",
    "                                               max_target_sequence_length, target_vocab_size, output_layer, batch_size, keep_prob)\n",
    "    \n",
    "    return training_logits, inference_logits\n",
    "\n",
    "\n",
    "\n",
    "\"\"\"\n",
    "DON'T MODIFY ANYTHING IN THIS CELL THAT IS BELOW THIS LINE\n",
    "\"\"\"\n",
    "tests.test_decoding_layer(decoding_layer)"
   ]
  },
  {
   "cell_type": "markdown",
   "metadata": {},
   "source": [
    "### Build the Neural Network\n",
    "Apply the functions you implemented above to:\n",
    "\n",
    "- Apply embedding to the input data for the encoder.\n",
    "- Encode the input using your `encoding_layer(rnn_inputs, rnn_size, num_layers, keep_prob,  source_sequence_length, source_vocab_size, encoding_embedding_size)`.\n",
    "- Process target data using your `process_decoder_input(target_data, target_vocab_to_int, batch_size)` function.\n",
    "- Apply embedding to the target data for the decoder.\n",
    "- Decode the encoded input using your `decoding_layer(dec_input, enc_state, target_sequence_length, max_target_sentence_length, rnn_size, num_layers, target_vocab_to_int, target_vocab_size, batch_size, keep_prob, dec_embedding_size)` function."
   ]
  },
  {
   "cell_type": "code",
   "execution_count": 46,
   "metadata": {},
   "outputs": [
    {
     "name": "stdout",
     "output_type": "stream",
     "text": [
      "Tests Passed\n"
     ]
    }
   ],
   "source": [
    "def seq2seq_model(input_data, target_data, keep_prob, batch_size,\n",
    "                  source_sequence_length, target_sequence_length,\n",
    "                  max_target_sentence_length,\n",
    "                  source_vocab_size, target_vocab_size,\n",
    "                  enc_embedding_size, dec_embedding_size,\n",
    "                  rnn_size, num_layers, target_vocab_to_int):\n",
    "    \"\"\"\n",
    "    Build the Sequence-to-Sequence part of the neural network\n",
    "    :param input_data: Input placeholder\n",
    "    :param target_data: Target placeholder\n",
    "    :param keep_prob: Dropout keep probability placeholder\n",
    "    :param batch_size: Batch Size\n",
    "    :param source_sequence_length: Sequence Lengths of source sequences in the batch\n",
    "    :param target_sequence_length: Sequence Lengths of target sequences in the batch\n",
    "    :param source_vocab_size: Source vocabulary size\n",
    "    :param target_vocab_size: Target vocabulary size\n",
    "    :param enc_embedding_size: Decoder embedding size\n",
    "    :param dec_embedding_size: Encoder embedding size\n",
    "    :param rnn_size: RNN Size\n",
    "    :param num_layers: Number of layers\n",
    "    :param target_vocab_to_int: Dictionary to go from the target words to an id\n",
    "    :return: Tuple of (Training BasicDecoderOutput, Inference BasicDecoderOutput)\n",
    "    \"\"\"\n",
    "    _, enc_state = encoding_layer(input_data, \n",
    "                                  rnn_size, \n",
    "                                  num_layers, \n",
    "                                  keep_prob,\n",
    "                                  source_sequence_length,\n",
    "                                  source_vocab_size, \n",
    "                                  enc_embedding_size)\n",
    "    \n",
    "    dec_input = process_decoder_input(target_data, target_vocab_to_int, batch_size)\n",
    "    \n",
    "    training_decoder_output, inference_decoder_output = decoding_layer(dec_input,\n",
    "                                                                       enc_state,\n",
    "                                                                       target_sequence_length,\n",
    "                                                                       max_target_sentence_length,\n",
    "                                                                       rnn_size,\n",
    "                                                                       num_layers,\n",
    "                                                                       target_vocab_to_int,\n",
    "                                                                       target_vocab_size, \n",
    "                                                                       batch_size,\n",
    "                                                                       keep_prob,\n",
    "                                                                       dec_embedding_size)\n",
    "    \n",
    "    return training_decoder_output, inference_decoder_output\n",
    "\n",
    "\n",
    "\"\"\"\n",
    "DON'T MODIFY ANYTHING IN THIS CELL THAT IS BELOW THIS LINE\n",
    "\"\"\"\n",
    "tests.test_seq2seq_model(seq2seq_model)"
   ]
  },
  {
   "cell_type": "markdown",
   "metadata": {},
   "source": [
    "## Neural Network Training\n",
    "### Hyperparameters\n",
    "Tune the following parameters:\n",
    "\n",
    "- Set `epochs` to the number of epochs.\n",
    "- Set `batch_size` to the batch size.\n",
    "- Set `rnn_size` to the size of the RNNs.\n",
    "- Set `num_layers` to the number of layers.\n",
    "- Set `encoding_embedding_size` to the size of the embedding for the encoder.\n",
    "- Set `decoding_embedding_size` to the size of the embedding for the decoder.\n",
    "- Set `learning_rate` to the learning rate.\n",
    "- Set `keep_probability` to the Dropout keep probability\n",
    "- Set `display_step` to state how many steps between each debug output statement"
   ]
  },
  {
   "cell_type": "code",
   "execution_count": 47,
   "metadata": {
    "collapsed": true
   },
   "outputs": [],
   "source": [
    "# Number of Epochs\n",
    "epochs = 10\n",
    "# Batch Size\n",
    "batch_size = 512\n",
    "# RNN Size\n",
    "rnn_size = 256\n",
    "# Number of Layers\n",
    "num_layers = 2\n",
    "# Embedding Size\n",
    "encoding_embedding_size = 128\n",
    "decoding_embedding_size = 128\n",
    "# Learning Rate\n",
    "learning_rate = 0.001\n",
    "# Dropout Keep Probability\n",
    "keep_probability = 0.7\n",
    "display_step = 10"
   ]
  },
  {
   "cell_type": "markdown",
   "metadata": {},
   "source": [
    "### Build the Graph\n",
    "Build the graph using the neural network you implemented."
   ]
  },
  {
   "cell_type": "code",
   "execution_count": 48,
   "metadata": {
    "collapsed": true
   },
   "outputs": [],
   "source": [
    "\"\"\"\n",
    "DON'T MODIFY ANYTHING IN THIS CELL\n",
    "\"\"\"\n",
    "save_path = 'checkpoints/dev'\n",
    "(source_int_text, target_int_text), (source_vocab_to_int, target_vocab_to_int), _ = helper.load_preprocess()\n",
    "max_target_sentence_length = max([len(sentence) for sentence in source_int_text])\n",
    "\n",
    "train_graph = tf.Graph()\n",
    "with train_graph.as_default():\n",
    "    input_data, targets, lr, keep_prob, target_sequence_length, max_target_sequence_length, source_sequence_length = model_inputs()\n",
    "    \n",
    "    #sequence_length = tf.placeholder_with_default(max_target_sentence_length, None, name='sequence_length')\n",
    "    input_shape = tf.shape(input_data)\n",
    "    \n",
    "    train_logits, inference_logits = seq2seq_model(tf.reverse(input_data, [-1]),\n",
    "                                                   targets,\n",
    "                                                   keep_prob,\n",
    "                                                   batch_size,\n",
    "                                                   source_sequence_length,\n",
    "                                                   target_sequence_length,\n",
    "                                                   max_target_sequence_length,\n",
    "                                                   len(source_vocab_to_int),\n",
    "                                                   len(target_vocab_to_int),\n",
    "                                                   encoding_embedding_size,\n",
    "                                                   decoding_embedding_size,\n",
    "                                                   rnn_size,\n",
    "                                                   num_layers,\n",
    "                                                   target_vocab_to_int)\n",
    "\n",
    "\n",
    "    training_logits = tf.identity(train_logits.rnn_output, name='logits')\n",
    "    inference_logits = tf.identity(inference_logits.sample_id, name='predictions')\n",
    "\n",
    "    masks = tf.sequence_mask(target_sequence_length, max_target_sequence_length, dtype=tf.float32, name='masks')\n",
    "\n",
    "    with tf.name_scope(\"optimization\"):\n",
    "        # Loss function\n",
    "        cost = tf.contrib.seq2seq.sequence_loss(\n",
    "            training_logits,\n",
    "            targets,\n",
    "            masks)\n",
    "\n",
    "        # Optimizer\n",
    "        optimizer = tf.train.AdamOptimizer(lr)\n",
    "\n",
    "        # Gradient Clipping\n",
    "        gradients = optimizer.compute_gradients(cost)\n",
    "        capped_gradients = [(tf.clip_by_value(grad, -1., 1.), var) for grad, var in gradients if grad is not None]\n",
    "        train_op = optimizer.apply_gradients(capped_gradients)\n"
   ]
  },
  {
   "cell_type": "markdown",
   "metadata": {},
   "source": [
    "Batch and pad the source and target sequences"
   ]
  },
  {
   "cell_type": "code",
   "execution_count": 49,
   "metadata": {
    "collapsed": true
   },
   "outputs": [],
   "source": [
    "\"\"\"\n",
    "DON'T MODIFY ANYTHING IN THIS CELL\n",
    "\"\"\"\n",
    "def pad_sentence_batch(sentence_batch, pad_int):\n",
    "    \"\"\"Pad sentences with <PAD> so that each sentence of a batch has the same length\"\"\"\n",
    "    max_sentence = max([len(sentence) for sentence in sentence_batch])\n",
    "    return [sentence + [pad_int] * (max_sentence - len(sentence)) for sentence in sentence_batch]\n",
    "\n",
    "\n",
    "def get_batches(sources, targets, batch_size, source_pad_int, target_pad_int):\n",
    "    \"\"\"Batch targets, sources, and the lengths of their sentences together\"\"\"\n",
    "    for batch_i in range(0, len(sources)//batch_size):\n",
    "        start_i = batch_i * batch_size\n",
    "\n",
    "        # Slice the right amount for the batch\n",
    "        sources_batch = sources[start_i:start_i + batch_size]\n",
    "        targets_batch = targets[start_i:start_i + batch_size]\n",
    "\n",
    "        # Pad\n",
    "        pad_sources_batch = np.array(pad_sentence_batch(sources_batch, source_pad_int))\n",
    "        pad_targets_batch = np.array(pad_sentence_batch(targets_batch, target_pad_int))\n",
    "\n",
    "        # Need the lengths for the _lengths parameters\n",
    "        pad_targets_lengths = []\n",
    "        for target in pad_targets_batch:\n",
    "            pad_targets_lengths.append(len(target))\n",
    "\n",
    "        pad_source_lengths = []\n",
    "        for source in pad_sources_batch:\n",
    "            pad_source_lengths.append(len(source))\n",
    "\n",
    "        yield pad_sources_batch, pad_targets_batch, pad_source_lengths, pad_targets_lengths\n"
   ]
  },
  {
   "cell_type": "markdown",
   "metadata": {},
   "source": [
    "### Train\n",
    "Train the neural network on the preprocessed data. If you have a hard time getting a good loss, check the forms to see if anyone is having the same problem."
   ]
  },
  {
   "cell_type": "code",
   "execution_count": 50,
   "metadata": {
    "scrolled": false
   },
   "outputs": [
    {
     "name": "stdout",
     "output_type": "stream",
     "text": [
      "Epoch   0 Batch   10/269 - Train Accuracy: 0.2718, Validation Accuracy: 0.3388, Loss: 3.7852\n",
      "Epoch   0 Batch   20/269 - Train Accuracy: 0.0749, Validation Accuracy: 0.0658, Loss: 3.1949\n",
      "Epoch   0 Batch   30/269 - Train Accuracy: 0.0890, Validation Accuracy: 0.0832, Loss: 2.8180\n",
      "Epoch   0 Batch   40/269 - Train Accuracy: 0.1033, Validation Accuracy: 0.0945, Loss: 2.7454\n",
      "Epoch   0 Batch   50/269 - Train Accuracy: 0.1056, Validation Accuracy: 0.0969, Loss: 2.5624\n",
      "Epoch   0 Batch   60/269 - Train Accuracy: 0.1095, Validation Accuracy: 0.1048, Loss: 2.2672\n",
      "Epoch   0 Batch   70/269 - Train Accuracy: 0.1189, Validation Accuracy: 0.1143, Loss: 2.2187\n",
      "Epoch   0 Batch   80/269 - Train Accuracy: 0.1333, Validation Accuracy: 0.1314, Loss: 2.0325\n",
      "Epoch   0 Batch   90/269 - Train Accuracy: 0.1379, Validation Accuracy: 0.1231, Loss: 2.0278\n",
      "Epoch   0 Batch  100/269 - Train Accuracy: 0.1223, Validation Accuracy: 0.1210, Loss: 1.7519\n",
      "Epoch   0 Batch  110/269 - Train Accuracy: 0.1286, Validation Accuracy: 0.1207, Loss: 1.7153\n",
      "Epoch   0 Batch  120/269 - Train Accuracy: 0.1391, Validation Accuracy: 0.1150, Loss: 1.7166\n",
      "Epoch   0 Batch  130/269 - Train Accuracy: 0.1367, Validation Accuracy: 0.1150, Loss: 1.6823\n",
      "Epoch   0 Batch  140/269 - Train Accuracy: 0.1243, Validation Accuracy: 0.1134, Loss: 1.5753\n",
      "Epoch   0 Batch  150/269 - Train Accuracy: 0.1290, Validation Accuracy: 0.1198, Loss: 1.4851\n",
      "Epoch   0 Batch  160/269 - Train Accuracy: 0.1317, Validation Accuracy: 0.1193, Loss: 1.4271\n",
      "Epoch   0 Batch  170/269 - Train Accuracy: 0.1356, Validation Accuracy: 0.1191, Loss: 1.3730\n",
      "Epoch   0 Batch  180/269 - Train Accuracy: 0.1385, Validation Accuracy: 0.1254, Loss: 1.3129\n",
      "Epoch   0 Batch  190/269 - Train Accuracy: 0.1460, Validation Accuracy: 0.1323, Loss: 1.2657\n",
      "Epoch   0 Batch  200/269 - Train Accuracy: 0.1518, Validation Accuracy: 0.1305, Loss: 1.2903\n",
      "Epoch   0 Batch  210/269 - Train Accuracy: 0.1527, Validation Accuracy: 0.1336, Loss: 1.1939\n",
      "Epoch   0 Batch  220/269 - Train Accuracy: 0.1393, Validation Accuracy: 0.1238, Loss: 1.1162\n",
      "Epoch   0 Batch  230/269 - Train Accuracy: 0.1496, Validation Accuracy: 0.1355, Loss: 1.1287\n",
      "Epoch   0 Batch  240/269 - Train Accuracy: 0.1337, Validation Accuracy: 0.1312, Loss: 1.0180\n",
      "Epoch   0 Batch  250/269 - Train Accuracy: 0.1618, Validation Accuracy: 0.1396, Loss: 1.1923\n",
      "Epoch   0 Batch  260/269 - Train Accuracy: 0.1582, Validation Accuracy: 0.1391, Loss: 1.2020\n",
      "Epoch   1 Batch   10/269 - Train Accuracy: 0.1618, Validation Accuracy: 0.1446, Loss: 1.0483\n",
      "Epoch   1 Batch   20/269 - Train Accuracy: 0.1549, Validation Accuracy: 0.1363, Loss: 1.0322\n",
      "Epoch   1 Batch   30/269 - Train Accuracy: 0.1538, Validation Accuracy: 0.1371, Loss: 0.9513\n",
      "Epoch   1 Batch   40/269 - Train Accuracy: 0.1575, Validation Accuracy: 0.1423, Loss: 0.9725\n",
      "Epoch   1 Batch   50/269 - Train Accuracy: 0.1609, Validation Accuracy: 0.1444, Loss: 0.9586\n",
      "Epoch   1 Batch   60/269 - Train Accuracy: 0.1504, Validation Accuracy: 0.1396, Loss: 0.8578\n",
      "Epoch   1 Batch   70/269 - Train Accuracy: 0.1526, Validation Accuracy: 0.1468, Loss: 0.8856\n",
      "Epoch   1 Batch   80/269 - Train Accuracy: 0.1521, Validation Accuracy: 0.1474, Loss: 0.8545\n",
      "Epoch   1 Batch   90/269 - Train Accuracy: 0.1644, Validation Accuracy: 0.1464, Loss: 0.8931\n",
      "Epoch   1 Batch  100/269 - Train Accuracy: 0.1443, Validation Accuracy: 0.1409, Loss: 0.8146\n",
      "Epoch   1 Batch  110/269 - Train Accuracy: 0.1554, Validation Accuracy: 0.1451, Loss: 0.8077\n",
      "Epoch   1 Batch  120/269 - Train Accuracy: 0.1685, Validation Accuracy: 0.1438, Loss: 0.8259\n",
      "Epoch   1 Batch  130/269 - Train Accuracy: 0.1688, Validation Accuracy: 0.1440, Loss: 0.8224\n",
      "Epoch   1 Batch  140/269 - Train Accuracy: 0.1535, Validation Accuracy: 0.1414, Loss: 0.7864\n",
      "Epoch   1 Batch  150/269 - Train Accuracy: 0.1520, Validation Accuracy: 0.1450, Loss: 0.7775\n",
      "Epoch   1 Batch  160/269 - Train Accuracy: 0.1557, Validation Accuracy: 0.1444, Loss: 0.7554\n",
      "Epoch   1 Batch  170/269 - Train Accuracy: 0.1552, Validation Accuracy: 0.1454, Loss: 0.7323\n",
      "Epoch   1 Batch  180/269 - Train Accuracy: 0.1589, Validation Accuracy: 0.1437, Loss: 0.7325\n",
      "Epoch   1 Batch  190/269 - Train Accuracy: 0.1513, Validation Accuracy: 0.1463, Loss: 0.7134\n",
      "Epoch   1 Batch  200/269 - Train Accuracy: 0.1535, Validation Accuracy: 0.1406, Loss: 0.7362\n",
      "Epoch   1 Batch  210/269 - Train Accuracy: 0.1486, Validation Accuracy: 0.1443, Loss: 0.6925\n",
      "Epoch   1 Batch  220/269 - Train Accuracy: 0.1528, Validation Accuracy: 0.1444, Loss: 0.6627\n",
      "Epoch   1 Batch  230/269 - Train Accuracy: 0.1496, Validation Accuracy: 0.1384, Loss: 0.6930\n",
      "Epoch   1 Batch  240/269 - Train Accuracy: 0.1409, Validation Accuracy: 0.1455, Loss: 0.6215\n",
      "Epoch   1 Batch  250/269 - Train Accuracy: 0.1576, Validation Accuracy: 0.1432, Loss: 0.6748\n",
      "Epoch   1 Batch  260/269 - Train Accuracy: 0.1614, Validation Accuracy: 0.1460, Loss: 0.6869\n",
      "Epoch   2 Batch   10/269 - Train Accuracy: 0.1584, Validation Accuracy: 0.1439, Loss: 0.6607\n",
      "Epoch   2 Batch   20/269 - Train Accuracy: 0.1540, Validation Accuracy: 0.1437, Loss: 0.6579\n",
      "Epoch   2 Batch   30/269 - Train Accuracy: 0.1501, Validation Accuracy: 0.1391, Loss: 0.6185\n",
      "Epoch   2 Batch   40/269 - Train Accuracy: 0.1551, Validation Accuracy: 0.1416, Loss: 0.6497\n",
      "Epoch   2 Batch   50/269 - Train Accuracy: 0.1575, Validation Accuracy: 0.1424, Loss: 0.6420\n",
      "Epoch   2 Batch   60/269 - Train Accuracy: 0.1512, Validation Accuracy: 0.1412, Loss: 0.5787\n",
      "Epoch   2 Batch   70/269 - Train Accuracy: 0.1465, Validation Accuracy: 0.1395, Loss: 0.5975\n",
      "Epoch   2 Batch   80/269 - Train Accuracy: 0.1440, Validation Accuracy: 0.1389, Loss: 0.5887\n",
      "Epoch   2 Batch   90/269 - Train Accuracy: 0.1627, Validation Accuracy: 0.1431, Loss: 0.6275\n",
      "Epoch   2 Batch  100/269 - Train Accuracy: 0.1416, Validation Accuracy: 0.1404, Loss: 0.5714\n",
      "Epoch   2 Batch  110/269 - Train Accuracy: 0.1533, Validation Accuracy: 0.1462, Loss: 0.5650\n",
      "Epoch   2 Batch  120/269 - Train Accuracy: 0.1624, Validation Accuracy: 0.1452, Loss: 0.5861\n",
      "Epoch   2 Batch  130/269 - Train Accuracy: 0.1567, Validation Accuracy: 0.1436, Loss: 0.5796\n",
      "Epoch   2 Batch  140/269 - Train Accuracy: 0.1519, Validation Accuracy: 0.1457, Loss: 0.5680\n",
      "Epoch   2 Batch  150/269 - Train Accuracy: 0.1483, Validation Accuracy: 0.1420, Loss: 0.5454\n",
      "Epoch   2 Batch  160/269 - Train Accuracy: 0.1467, Validation Accuracy: 0.1428, Loss: 0.5357\n",
      "Epoch   2 Batch  170/269 - Train Accuracy: 0.1513, Validation Accuracy: 0.1460, Loss: 0.5316\n",
      "Epoch   2 Batch  180/269 - Train Accuracy: 0.1565, Validation Accuracy: 0.1461, Loss: 0.5185\n",
      "Epoch   2 Batch  190/269 - Train Accuracy: 0.1574, Validation Accuracy: 0.1493, Loss: 0.4983\n",
      "Epoch   2 Batch  200/269 - Train Accuracy: 0.1538, Validation Accuracy: 0.1443, Loss: 0.5218\n",
      "Epoch   2 Batch  210/269 - Train Accuracy: 0.1536, Validation Accuracy: 0.1459, Loss: 0.4844\n",
      "Epoch   2 Batch  220/269 - Train Accuracy: 0.1552, Validation Accuracy: 0.1502, Loss: 0.4606\n",
      "Epoch   2 Batch  230/269 - Train Accuracy: 0.1601, Validation Accuracy: 0.1490, Loss: 0.4788\n",
      "Epoch   2 Batch  240/269 - Train Accuracy: 0.1497, Validation Accuracy: 0.1542, Loss: 0.4249\n",
      "Epoch   2 Batch  250/269 - Train Accuracy: 0.1661, Validation Accuracy: 0.1526, Loss: 0.4628\n",
      "Epoch   2 Batch  260/269 - Train Accuracy: 0.1681, Validation Accuracy: 0.1503, Loss: 0.4669\n",
      "Epoch   3 Batch   10/269 - Train Accuracy: 0.1760, Validation Accuracy: 0.1553, Loss: 0.4528\n",
      "Epoch   3 Batch   20/269 - Train Accuracy: 0.1696, Validation Accuracy: 0.1498, Loss: 0.4367\n",
      "Epoch   3 Batch   30/269 - Train Accuracy: 0.1617, Validation Accuracy: 0.1500, Loss: 0.4096\n",
      "Epoch   3 Batch   40/269 - Train Accuracy: 0.1624, Validation Accuracy: 0.1535, Loss: 0.4208\n",
      "Epoch   3 Batch   50/269 - Train Accuracy: 0.1723, Validation Accuracy: 0.1514, Loss: 0.4191\n",
      "Epoch   3 Batch   60/269 - Train Accuracy: 0.1601, Validation Accuracy: 0.1509, Loss: 0.3651\n",
      "Epoch   3 Batch   70/269 - Train Accuracy: 0.1600, Validation Accuracy: 0.1515, Loss: 0.3793\n",
      "Epoch   3 Batch   80/269 - Train Accuracy: 0.1545, Validation Accuracy: 0.1511, Loss: 0.3615\n",
      "Epoch   3 Batch   90/269 - Train Accuracy: 0.1751, Validation Accuracy: 0.1531, Loss: 0.3828\n",
      "Epoch   3 Batch  100/269 - Train Accuracy: 0.1543, Validation Accuracy: 0.1523, Loss: 0.3513\n",
      "Epoch   3 Batch  110/269 - Train Accuracy: 0.1581, Validation Accuracy: 0.1478, Loss: 0.3478\n"
     ]
    },
    {
     "name": "stdout",
     "output_type": "stream",
     "text": [
      "Epoch   3 Batch  120/269 - Train Accuracy: 0.1736, Validation Accuracy: 0.1520, Loss: 0.3563\n",
      "Epoch   3 Batch  130/269 - Train Accuracy: 0.1716, Validation Accuracy: 0.1538, Loss: 0.3512\n",
      "Epoch   3 Batch  140/269 - Train Accuracy: 0.1619, Validation Accuracy: 0.1523, Loss: 0.3392\n",
      "Epoch   3 Batch  150/269 - Train Accuracy: 0.1638, Validation Accuracy: 0.1514, Loss: 0.3163\n",
      "Epoch   3 Batch  160/269 - Train Accuracy: 0.1582, Validation Accuracy: 0.1489, Loss: 0.3145\n",
      "Epoch   3 Batch  170/269 - Train Accuracy: 0.1549, Validation Accuracy: 0.1493, Loss: 0.3022\n",
      "Epoch   3 Batch  180/269 - Train Accuracy: 0.1634, Validation Accuracy: 0.1487, Loss: 0.2992\n",
      "Epoch   3 Batch  190/269 - Train Accuracy: 0.1587, Validation Accuracy: 0.1534, Loss: 0.2848\n",
      "Epoch   3 Batch  200/269 - Train Accuracy: 0.1635, Validation Accuracy: 0.1509, Loss: 0.2909\n",
      "Epoch   3 Batch  210/269 - Train Accuracy: 0.1600, Validation Accuracy: 0.1497, Loss: 0.2780\n",
      "Epoch   3 Batch  220/269 - Train Accuracy: 0.1567, Validation Accuracy: 0.1491, Loss: 0.2607\n",
      "Epoch   3 Batch  230/269 - Train Accuracy: 0.1613, Validation Accuracy: 0.1502, Loss: 0.2613\n",
      "Epoch   3 Batch  240/269 - Train Accuracy: 0.1471, Validation Accuracy: 0.1501, Loss: 0.2475\n",
      "Epoch   3 Batch  250/269 - Train Accuracy: 0.1605, Validation Accuracy: 0.1483, Loss: 0.2586\n",
      "Epoch   3 Batch  260/269 - Train Accuracy: 0.1647, Validation Accuracy: 0.1512, Loss: 0.2700\n",
      "Epoch   4 Batch   10/269 - Train Accuracy: 0.1701, Validation Accuracy: 0.1476, Loss: 0.2515\n",
      "Epoch   4 Batch   20/269 - Train Accuracy: 0.1709, Validation Accuracy: 0.1492, Loss: 0.2416\n",
      "Epoch   4 Batch   30/269 - Train Accuracy: 0.1614, Validation Accuracy: 0.1499, Loss: 0.2276\n",
      "Epoch   4 Batch   40/269 - Train Accuracy: 0.1671, Validation Accuracy: 0.1490, Loss: 0.2336\n",
      "Epoch   4 Batch   50/269 - Train Accuracy: 0.1646, Validation Accuracy: 0.1473, Loss: 0.2353\n",
      "Epoch   4 Batch   60/269 - Train Accuracy: 0.1596, Validation Accuracy: 0.1487, Loss: 0.2059\n",
      "Epoch   4 Batch   70/269 - Train Accuracy: 0.1623, Validation Accuracy: 0.1524, Loss: 0.2196\n",
      "Epoch   4 Batch   80/269 - Train Accuracy: 0.1542, Validation Accuracy: 0.1459, Loss: 0.2299\n",
      "Epoch   4 Batch   90/269 - Train Accuracy: 0.1743, Validation Accuracy: 0.1508, Loss: 0.2186\n",
      "Epoch   4 Batch  100/269 - Train Accuracy: 0.1564, Validation Accuracy: 0.1515, Loss: 0.2050\n",
      "Epoch   4 Batch  110/269 - Train Accuracy: 0.1598, Validation Accuracy: 0.1512, Loss: 0.1917\n",
      "Epoch   4 Batch  120/269 - Train Accuracy: 0.1700, Validation Accuracy: 0.1480, Loss: 0.1952\n",
      "Epoch   4 Batch  130/269 - Train Accuracy: 0.1735, Validation Accuracy: 0.1492, Loss: 0.1930\n",
      "Epoch   4 Batch  140/269 - Train Accuracy: 0.1639, Validation Accuracy: 0.1513, Loss: 0.1917\n",
      "Epoch   4 Batch  150/269 - Train Accuracy: 0.1566, Validation Accuracy: 0.1491, Loss: 0.1781\n",
      "Epoch   4 Batch  160/269 - Train Accuracy: 0.1560, Validation Accuracy: 0.1516, Loss: 0.1812\n",
      "Epoch   4 Batch  170/269 - Train Accuracy: 0.1550, Validation Accuracy: 0.1492, Loss: 0.1633\n",
      "Epoch   4 Batch  180/269 - Train Accuracy: 0.1621, Validation Accuracy: 0.1514, Loss: 0.1616\n",
      "Epoch   4 Batch  190/269 - Train Accuracy: 0.1613, Validation Accuracy: 0.1512, Loss: 0.1517\n",
      "Epoch   4 Batch  200/269 - Train Accuracy: 0.1625, Validation Accuracy: 0.1467, Loss: 0.1624\n",
      "Epoch   4 Batch  210/269 - Train Accuracy: 0.1611, Validation Accuracy: 0.1487, Loss: 0.1488\n",
      "Epoch   4 Batch  220/269 - Train Accuracy: 0.1557, Validation Accuracy: 0.1487, Loss: 0.1463\n",
      "Epoch   4 Batch  230/269 - Train Accuracy: 0.1605, Validation Accuracy: 0.1483, Loss: 0.1495\n",
      "Epoch   4 Batch  240/269 - Train Accuracy: 0.1449, Validation Accuracy: 0.1490, Loss: 0.1330\n",
      "Epoch   4 Batch  250/269 - Train Accuracy: 0.1636, Validation Accuracy: 0.1453, Loss: 0.1401\n",
      "Epoch   4 Batch  260/269 - Train Accuracy: 0.1670, Validation Accuracy: 0.1505, Loss: 0.1494\n",
      "Epoch   5 Batch   10/269 - Train Accuracy: 0.1754, Validation Accuracy: 0.1495, Loss: 0.1241\n",
      "Epoch   5 Batch   20/269 - Train Accuracy: 0.1712, Validation Accuracy: 0.1489, Loss: 0.1227\n",
      "Epoch   5 Batch   30/269 - Train Accuracy: 0.1642, Validation Accuracy: 0.1480, Loss: 0.1168\n",
      "Epoch   5 Batch   40/269 - Train Accuracy: 0.1704, Validation Accuracy: 0.1496, Loss: 0.1271\n",
      "Epoch   5 Batch   50/269 - Train Accuracy: 0.1704, Validation Accuracy: 0.1512, Loss: 0.1347\n",
      "Epoch   5 Batch   60/269 - Train Accuracy: 0.1622, Validation Accuracy: 0.1504, Loss: 0.1101\n",
      "Epoch   5 Batch   70/269 - Train Accuracy: 0.1637, Validation Accuracy: 0.1555, Loss: 0.1249\n",
      "Epoch   5 Batch   80/269 - Train Accuracy: 0.1628, Validation Accuracy: 0.1515, Loss: 0.1086\n",
      "Epoch   5 Batch   90/269 - Train Accuracy: 0.1753, Validation Accuracy: 0.1545, Loss: 0.1203\n",
      "Epoch   5 Batch  100/269 - Train Accuracy: 0.1600, Validation Accuracy: 0.1506, Loss: 0.1102\n",
      "Epoch   5 Batch  110/269 - Train Accuracy: 0.1660, Validation Accuracy: 0.1528, Loss: 0.1051\n",
      "Epoch   5 Batch  120/269 - Train Accuracy: 0.1776, Validation Accuracy: 0.1535, Loss: 0.1085\n",
      "Epoch   5 Batch  130/269 - Train Accuracy: 0.1769, Validation Accuracy: 0.1531, Loss: 0.1107\n",
      "Epoch   5 Batch  140/269 - Train Accuracy: 0.1696, Validation Accuracy: 0.1560, Loss: 0.1108\n",
      "Epoch   5 Batch  150/269 - Train Accuracy: 0.1667, Validation Accuracy: 0.1558, Loss: 0.1064\n",
      "Epoch   5 Batch  160/269 - Train Accuracy: 0.1621, Validation Accuracy: 0.1531, Loss: 0.1044\n",
      "Epoch   5 Batch  170/269 - Train Accuracy: 0.1615, Validation Accuracy: 0.1530, Loss: 0.0947\n",
      "Epoch   5 Batch  180/269 - Train Accuracy: 0.1683, Validation Accuracy: 0.1528, Loss: 0.0957\n",
      "Epoch   5 Batch  190/269 - Train Accuracy: 0.1677, Validation Accuracy: 0.1533, Loss: 0.0895\n",
      "Epoch   5 Batch  200/269 - Train Accuracy: 0.1700, Validation Accuracy: 0.1522, Loss: 0.0950\n",
      "Epoch   5 Batch  210/269 - Train Accuracy: 0.1695, Validation Accuracy: 0.1548, Loss: 0.0887\n",
      "Epoch   5 Batch  220/269 - Train Accuracy: 0.1645, Validation Accuracy: 0.1571, Loss: 0.0939\n",
      "Epoch   5 Batch  230/269 - Train Accuracy: 0.1652, Validation Accuracy: 0.1529, Loss: 0.0934\n",
      "Epoch   5 Batch  240/269 - Train Accuracy: 0.1509, Validation Accuracy: 0.1515, Loss: 0.0819\n",
      "Epoch   5 Batch  250/269 - Train Accuracy: 0.1727, Validation Accuracy: 0.1547, Loss: 0.0860\n",
      "Epoch   5 Batch  260/269 - Train Accuracy: 0.1753, Validation Accuracy: 0.1569, Loss: 0.0945\n",
      "Epoch   6 Batch   10/269 - Train Accuracy: 0.1814, Validation Accuracy: 0.1580, Loss: 0.0775\n",
      "Epoch   6 Batch   20/269 - Train Accuracy: 0.1778, Validation Accuracy: 0.1570, Loss: 0.0829\n",
      "Epoch   6 Batch   30/269 - Train Accuracy: 0.1694, Validation Accuracy: 0.1554, Loss: 0.0837\n",
      "Epoch   6 Batch   40/269 - Train Accuracy: 0.1743, Validation Accuracy: 0.1565, Loss: 0.0872\n",
      "Epoch   6 Batch   50/269 - Train Accuracy: 0.1728, Validation Accuracy: 0.1580, Loss: 0.0909\n",
      "Epoch   6 Batch   60/269 - Train Accuracy: 0.1653, Validation Accuracy: 0.1557, Loss: 0.0739\n",
      "Epoch   6 Batch   70/269 - Train Accuracy: 0.1648, Validation Accuracy: 0.1582, Loss: 0.0853\n",
      "Epoch   6 Batch   80/269 - Train Accuracy: 0.1658, Validation Accuracy: 0.1568, Loss: 0.0768\n",
      "Epoch   6 Batch   90/269 - Train Accuracy: 0.1822, Validation Accuracy: 0.1575, Loss: 0.0828\n",
      "Epoch   6 Batch  100/269 - Train Accuracy: 0.1649, Validation Accuracy: 0.1564, Loss: 0.0807\n",
      "Epoch   6 Batch  110/269 - Train Accuracy: 0.1693, Validation Accuracy: 0.1568, Loss: 0.0734\n",
      "Epoch   6 Batch  120/269 - Train Accuracy: 0.1807, Validation Accuracy: 0.1560, Loss: 0.0724\n",
      "Epoch   6 Batch  130/269 - Train Accuracy: 0.1814, Validation Accuracy: 0.1562, Loss: 0.0778\n",
      "Epoch   6 Batch  140/269 - Train Accuracy: 0.1715, Validation Accuracy: 0.1585, Loss: 0.0783\n",
      "Epoch   6 Batch  150/269 - Train Accuracy: 0.1691, Validation Accuracy: 0.1574, Loss: 0.0744\n",
      "Epoch   6 Batch  160/269 - Train Accuracy: 0.1696, Validation Accuracy: 0.1565, Loss: 0.0761\n",
      "Epoch   6 Batch  170/269 - Train Accuracy: 0.1671, Validation Accuracy: 0.1570, Loss: 0.0700\n",
      "Epoch   6 Batch  180/269 - Train Accuracy: 0.1710, Validation Accuracy: 0.1567, Loss: 0.0693\n",
      "Epoch   6 Batch  190/269 - Train Accuracy: 0.1717, Validation Accuracy: 0.1599, Loss: 0.0670\n",
      "Epoch   6 Batch  200/269 - Train Accuracy: 0.1720, Validation Accuracy: 0.1548, Loss: 0.0654\n",
      "Epoch   6 Batch  210/269 - Train Accuracy: 0.1695, Validation Accuracy: 0.1551, Loss: 0.0706\n",
      "Epoch   6 Batch  220/269 - Train Accuracy: 0.1645, Validation Accuracy: 0.1606, Loss: 0.0647\n"
     ]
    },
    {
     "name": "stdout",
     "output_type": "stream",
     "text": [
      "Epoch   6 Batch  230/269 - Train Accuracy: 0.1705, Validation Accuracy: 0.1590, Loss: 0.0702\n",
      "Epoch   6 Batch  240/269 - Train Accuracy: 0.1544, Validation Accuracy: 0.1560, Loss: 0.0633\n",
      "Epoch   6 Batch  250/269 - Train Accuracy: 0.1743, Validation Accuracy: 0.1566, Loss: 0.0669\n",
      "Epoch   6 Batch  260/269 - Train Accuracy: 0.1746, Validation Accuracy: 0.1561, Loss: 0.0706\n",
      "Epoch   7 Batch   10/269 - Train Accuracy: 0.1846, Validation Accuracy: 0.1613, Loss: 0.0592\n",
      "Epoch   7 Batch   20/269 - Train Accuracy: 0.1794, Validation Accuracy: 0.1623, Loss: 0.0590\n",
      "Epoch   7 Batch   30/269 - Train Accuracy: 0.1730, Validation Accuracy: 0.1602, Loss: 0.0615\n",
      "Epoch   7 Batch   40/269 - Train Accuracy: 0.1803, Validation Accuracy: 0.1572, Loss: 0.0636\n",
      "Epoch   7 Batch   50/269 - Train Accuracy: 0.1798, Validation Accuracy: 0.1577, Loss: 0.0722\n",
      "Epoch   7 Batch   60/269 - Train Accuracy: 0.1697, Validation Accuracy: 0.1595, Loss: 0.0585\n",
      "Epoch   7 Batch   70/269 - Train Accuracy: 0.1724, Validation Accuracy: 0.1618, Loss: 0.0680\n",
      "Epoch   7 Batch   80/269 - Train Accuracy: 0.1726, Validation Accuracy: 0.1623, Loss: 0.0592\n",
      "Epoch   7 Batch   90/269 - Train Accuracy: 0.1849, Validation Accuracy: 0.1634, Loss: 0.0609\n",
      "Epoch   7 Batch  100/269 - Train Accuracy: 0.1700, Validation Accuracy: 0.1611, Loss: 0.0595\n",
      "Epoch   7 Batch  110/269 - Train Accuracy: 0.1703, Validation Accuracy: 0.1595, Loss: 0.0545\n",
      "Epoch   7 Batch  120/269 - Train Accuracy: 0.1853, Validation Accuracy: 0.1572, Loss: 0.0593\n",
      "Epoch   7 Batch  130/269 - Train Accuracy: 0.1859, Validation Accuracy: 0.1600, Loss: 0.0644\n",
      "Epoch   7 Batch  140/269 - Train Accuracy: 0.1731, Validation Accuracy: 0.1607, Loss: 0.0649\n",
      "Epoch   7 Batch  150/269 - Train Accuracy: 0.1704, Validation Accuracy: 0.1573, Loss: 0.0604\n",
      "Epoch   7 Batch  160/269 - Train Accuracy: 0.1702, Validation Accuracy: 0.1611, Loss: 0.0562\n",
      "Epoch   7 Batch  170/269 - Train Accuracy: 0.1722, Validation Accuracy: 0.1620, Loss: 0.0521\n",
      "Epoch   7 Batch  180/269 - Train Accuracy: 0.1754, Validation Accuracy: 0.1608, Loss: 0.0558\n",
      "Epoch   7 Batch  190/269 - Train Accuracy: 0.1763, Validation Accuracy: 0.1660, Loss: 0.0531\n",
      "Epoch   7 Batch  200/269 - Train Accuracy: 0.1794, Validation Accuracy: 0.1613, Loss: 0.0528\n",
      "Epoch   7 Batch  210/269 - Train Accuracy: 0.1762, Validation Accuracy: 0.1607, Loss: 0.0514\n",
      "Epoch   7 Batch  220/269 - Train Accuracy: 0.1673, Validation Accuracy: 0.1642, Loss: 0.0528\n",
      "Epoch   7 Batch  230/269 - Train Accuracy: 0.1759, Validation Accuracy: 0.1610, Loss: 0.0565\n",
      "Epoch   7 Batch  240/269 - Train Accuracy: 0.1574, Validation Accuracy: 0.1615, Loss: 0.0504\n",
      "Epoch   7 Batch  250/269 - Train Accuracy: 0.1819, Validation Accuracy: 0.1618, Loss: 0.0529\n",
      "Epoch   7 Batch  260/269 - Train Accuracy: 0.1803, Validation Accuracy: 0.1617, Loss: 0.0632\n",
      "Epoch   8 Batch   10/269 - Train Accuracy: 0.1872, Validation Accuracy: 0.1650, Loss: 0.0475\n",
      "Epoch   8 Batch   20/269 - Train Accuracy: 0.1805, Validation Accuracy: 0.1637, Loss: 0.0508\n",
      "Epoch   8 Batch   30/269 - Train Accuracy: 0.1776, Validation Accuracy: 0.1666, Loss: 0.0549\n",
      "Epoch   8 Batch   40/269 - Train Accuracy: 0.1866, Validation Accuracy: 0.1647, Loss: 0.0548\n",
      "Epoch   8 Batch   50/269 - Train Accuracy: 0.1838, Validation Accuracy: 0.1631, Loss: 0.0644\n",
      "Epoch   8 Batch   60/269 - Train Accuracy: 0.1709, Validation Accuracy: 0.1618, Loss: 0.0488\n",
      "Epoch   8 Batch   70/269 - Train Accuracy: 0.1772, Validation Accuracy: 0.1642, Loss: 0.0535\n",
      "Epoch   8 Batch   80/269 - Train Accuracy: 0.1764, Validation Accuracy: 0.1645, Loss: 0.0454\n",
      "Epoch   8 Batch   90/269 - Train Accuracy: 0.1903, Validation Accuracy: 0.1647, Loss: 0.0526\n",
      "Epoch   8 Batch  100/269 - Train Accuracy: 0.1745, Validation Accuracy: 0.1642, Loss: 0.0522\n",
      "Epoch   8 Batch  110/269 - Train Accuracy: 0.1780, Validation Accuracy: 0.1656, Loss: 0.0507\n",
      "Epoch   8 Batch  120/269 - Train Accuracy: 0.1935, Validation Accuracy: 0.1654, Loss: 0.0483\n",
      "Epoch   8 Batch  130/269 - Train Accuracy: 0.1917, Validation Accuracy: 0.1649, Loss: 0.0557\n",
      "Epoch   8 Batch  140/269 - Train Accuracy: 0.1809, Validation Accuracy: 0.1674, Loss: 0.0543\n",
      "Epoch   8 Batch  150/269 - Train Accuracy: 0.1745, Validation Accuracy: 0.1632, Loss: 0.0515\n",
      "Epoch   8 Batch  160/269 - Train Accuracy: 0.1753, Validation Accuracy: 0.1636, Loss: 0.0482\n",
      "Epoch   8 Batch  170/269 - Train Accuracy: 0.1786, Validation Accuracy: 0.1661, Loss: 0.0409\n",
      "Epoch   8 Batch  180/269 - Train Accuracy: 0.1781, Validation Accuracy: 0.1657, Loss: 0.0448\n",
      "Epoch   8 Batch  190/269 - Train Accuracy: 0.1774, Validation Accuracy: 0.1662, Loss: 0.0459\n",
      "Epoch   8 Batch  200/269 - Train Accuracy: 0.1821, Validation Accuracy: 0.1656, Loss: 0.0419\n",
      "Epoch   8 Batch  210/269 - Train Accuracy: 0.1805, Validation Accuracy: 0.1679, Loss: 0.0429\n",
      "Epoch   8 Batch  220/269 - Train Accuracy: 0.1725, Validation Accuracy: 0.1665, Loss: 0.0442\n",
      "Epoch   8 Batch  230/269 - Train Accuracy: 0.1789, Validation Accuracy: 0.1679, Loss: 0.0452\n",
      "Epoch   8 Batch  240/269 - Train Accuracy: 0.1599, Validation Accuracy: 0.1657, Loss: 0.0437\n",
      "Epoch   8 Batch  250/269 - Train Accuracy: 0.1849, Validation Accuracy: 0.1660, Loss: 0.0434\n",
      "Epoch   8 Batch  260/269 - Train Accuracy: 0.1856, Validation Accuracy: 0.1651, Loss: 0.0511\n",
      "Epoch   9 Batch   10/269 - Train Accuracy: 0.1907, Validation Accuracy: 0.1675, Loss: 0.0384\n",
      "Epoch   9 Batch   20/269 - Train Accuracy: 0.1854, Validation Accuracy: 0.1678, Loss: 0.0393\n",
      "Epoch   9 Batch   30/269 - Train Accuracy: 0.1801, Validation Accuracy: 0.1698, Loss: 0.0410\n",
      "Epoch   9 Batch   40/269 - Train Accuracy: 0.1884, Validation Accuracy: 0.1691, Loss: 0.0450\n",
      "Epoch   9 Batch   50/269 - Train Accuracy: 0.1866, Validation Accuracy: 0.1675, Loss: 0.0531\n",
      "Epoch   9 Batch   60/269 - Train Accuracy: 0.1790, Validation Accuracy: 0.1697, Loss: 0.0419\n",
      "Epoch   9 Batch   70/269 - Train Accuracy: 0.1787, Validation Accuracy: 0.1688, Loss: 0.0463\n",
      "Epoch   9 Batch   80/269 - Train Accuracy: 0.1798, Validation Accuracy: 0.1665, Loss: 0.0447\n",
      "Epoch   9 Batch   90/269 - Train Accuracy: 0.1940, Validation Accuracy: 0.1702, Loss: 0.0474\n",
      "Epoch   9 Batch  100/269 - Train Accuracy: 0.1782, Validation Accuracy: 0.1681, Loss: 0.0439\n",
      "Epoch   9 Batch  110/269 - Train Accuracy: 0.1809, Validation Accuracy: 0.1688, Loss: 0.0374\n",
      "Epoch   9 Batch  120/269 - Train Accuracy: 0.1938, Validation Accuracy: 0.1681, Loss: 0.0394\n",
      "Epoch   9 Batch  130/269 - Train Accuracy: 0.1924, Validation Accuracy: 0.1697, Loss: 0.0440\n",
      "Epoch   9 Batch  140/269 - Train Accuracy: 0.1820, Validation Accuracy: 0.1705, Loss: 0.0454\n",
      "Epoch   9 Batch  150/269 - Train Accuracy: 0.1806, Validation Accuracy: 0.1708, Loss: 0.0442\n",
      "Epoch   9 Batch  160/269 - Train Accuracy: 0.1778, Validation Accuracy: 0.1673, Loss: 0.0408\n",
      "Epoch   9 Batch  170/269 - Train Accuracy: 0.1829, Validation Accuracy: 0.1719, Loss: 0.0382\n",
      "Epoch   9 Batch  180/269 - Train Accuracy: 0.1822, Validation Accuracy: 0.1697, Loss: 0.0386\n",
      "Epoch   9 Batch  190/269 - Train Accuracy: 0.1823, Validation Accuracy: 0.1727, Loss: 0.0402\n",
      "Epoch   9 Batch  200/269 - Train Accuracy: 0.1847, Validation Accuracy: 0.1679, Loss: 0.0390\n",
      "Epoch   9 Batch  210/269 - Train Accuracy: 0.1825, Validation Accuracy: 0.1688, Loss: 0.0370\n",
      "Epoch   9 Batch  220/269 - Train Accuracy: 0.1775, Validation Accuracy: 0.1719, Loss: 0.0393\n",
      "Epoch   9 Batch  230/269 - Train Accuracy: 0.1821, Validation Accuracy: 0.1710, Loss: 0.0420\n",
      "Epoch   9 Batch  240/269 - Train Accuracy: 0.1625, Validation Accuracy: 0.1694, Loss: 0.0397\n",
      "Epoch   9 Batch  250/269 - Train Accuracy: 0.1880, Validation Accuracy: 0.1689, Loss: 0.0407\n",
      "Epoch   9 Batch  260/269 - Train Accuracy: 0.1895, Validation Accuracy: 0.1714, Loss: 0.0438\n",
      "Model Trained and Saved\n"
     ]
    }
   ],
   "source": [
    "\"\"\"\n",
    "DON'T MODIFY ANYTHING IN THIS CELL\n",
    "\"\"\"\n",
    "def get_accuracy(target, logits):\n",
    "    \"\"\"\n",
    "    Calculate accuracy\n",
    "    \"\"\"\n",
    "    max_seq = max(target.shape[1], logits.shape[1])\n",
    "    if max_seq - target.shape[1]:\n",
    "        target = np.pad(\n",
    "            target,\n",
    "            [(0,0),(0,max_seq - target.shape[1])],\n",
    "            'constant')\n",
    "    if max_seq - logits.shape[1]:\n",
    "        logits = np.pad(\n",
    "            logits,\n",
    "            [(0,0),(0,max_seq - logits.shape[1])],\n",
    "            'constant')\n",
    "\n",
    "    return np.mean(np.equal(target, logits))\n",
    "\n",
    "# Split data to training and validation sets\n",
    "train_source = source_int_text[batch_size:]\n",
    "train_target = target_int_text[batch_size:]\n",
    "valid_source = source_int_text[:batch_size]\n",
    "valid_target = target_int_text[:batch_size]\n",
    "(valid_sources_batch, valid_targets_batch, valid_sources_lengths, valid_targets_lengths ) = next(get_batches(valid_source,\n",
    "                                                                                                             valid_target,\n",
    "                                                                                                             batch_size,\n",
    "                                                                                                             source_vocab_to_int['<PAD>'],\n",
    "                                                                                                             target_vocab_to_int['<PAD>']))                                                                                                  \n",
    "with tf.Session(graph=train_graph) as sess:\n",
    "    sess.run(tf.global_variables_initializer())\n",
    "\n",
    "    for epoch_i in range(epochs):\n",
    "        for batch_i, (source_batch, target_batch, sources_lengths, targets_lengths) in enumerate(\n",
    "                get_batches(train_source, train_target, batch_size,\n",
    "                            source_vocab_to_int['<PAD>'],\n",
    "                            target_vocab_to_int['<PAD>'])):\n",
    "\n",
    "            _, loss = sess.run(\n",
    "                [train_op, cost],\n",
    "                {input_data: source_batch,\n",
    "                 targets: target_batch,\n",
    "                 lr: learning_rate,\n",
    "                 target_sequence_length: targets_lengths,\n",
    "                 source_sequence_length: sources_lengths,\n",
    "                 keep_prob: keep_probability})\n",
    "\n",
    "\n",
    "            if batch_i % display_step == 0 and batch_i > 0:\n",
    "\n",
    "\n",
    "                batch_train_logits = sess.run(\n",
    "                    inference_logits,\n",
    "                    {input_data: source_batch,\n",
    "                     source_sequence_length: sources_lengths,\n",
    "                     target_sequence_length: targets_lengths,\n",
    "                     keep_prob: 1.0})\n",
    "\n",
    "\n",
    "                batch_valid_logits = sess.run(\n",
    "                    inference_logits,\n",
    "                    {input_data: valid_sources_batch,\n",
    "                     source_sequence_length: valid_sources_lengths,\n",
    "                     target_sequence_length: valid_targets_lengths,\n",
    "                     keep_prob: 1.0})\n",
    "\n",
    "                train_acc = get_accuracy(target_batch, batch_train_logits)\n",
    "\n",
    "                valid_acc = get_accuracy(valid_targets_batch, batch_valid_logits)\n",
    "\n",
    "                print('Epoch {:>3} Batch {:>4}/{} - Train Accuracy: {:>6.4f}, Validation Accuracy: {:>6.4f}, Loss: {:>6.4f}'\n",
    "                      .format(epoch_i, batch_i, len(source_int_text) // batch_size, train_acc, valid_acc, loss))\n",
    "\n",
    "    # Save Model\n",
    "    saver = tf.train.Saver()\n",
    "    saver.save(sess, save_path)\n",
    "    print('Model Trained and Saved')"
   ]
  },
  {
   "cell_type": "markdown",
   "metadata": {},
   "source": [
    "### Save Parameters\n",
    "Save the `batch_size` and `save_path` parameters for inference."
   ]
  },
  {
   "cell_type": "code",
   "execution_count": 51,
   "metadata": {
    "collapsed": true
   },
   "outputs": [],
   "source": [
    "\"\"\"\n",
    "DON'T MODIFY ANYTHING IN THIS CELL\n",
    "\"\"\"\n",
    "# Save parameters for checkpoint\n",
    "helper.save_params(save_path)"
   ]
  },
  {
   "cell_type": "markdown",
   "metadata": {},
   "source": [
    "# Checkpoint"
   ]
  },
  {
   "cell_type": "code",
   "execution_count": 52,
   "metadata": {
    "collapsed": true
   },
   "outputs": [],
   "source": [
    "\"\"\"\n",
    "DON'T MODIFY ANYTHING IN THIS CELL\n",
    "\"\"\"\n",
    "import tensorflow as tf\n",
    "import numpy as np\n",
    "import helper\n",
    "import problem_unittests as tests\n",
    "\n",
    "_, (source_vocab_to_int, target_vocab_to_int), (source_int_to_vocab, target_int_to_vocab) = helper.load_preprocess()\n",
    "load_path = helper.load_params()"
   ]
  },
  {
   "cell_type": "markdown",
   "metadata": {},
   "source": [
    "## Sentence to Sequence\n",
    "To feed a sentence into the model for translation, you first need to preprocess it.  Implement the function `sentence_to_seq()` to preprocess new sentences.\n",
    "\n",
    "- Convert the sentence to lowercase\n",
    "- Convert words into ids using `vocab_to_int`\n",
    " - Convert words not in the vocabulary, to the `<UNK>` word id."
   ]
  },
  {
   "cell_type": "code",
   "execution_count": 53,
   "metadata": {},
   "outputs": [
    {
     "name": "stdout",
     "output_type": "stream",
     "text": [
      "Tests Passed\n"
     ]
    }
   ],
   "source": [
    "def sentence_to_seq(sentence, vocab_to_int):\n",
    "    \"\"\"\n",
    "    Convert a sentence to a sequence of ids\n",
    "    :param sentence: String\n",
    "    :param vocab_to_int: Dictionary to go from the words to an id\n",
    "    :return: List of word ids\n",
    "    \"\"\"\n",
    "    sentence = sentence.lower()\n",
    "    word_list = []\n",
    "    for word in sentence.split():\n",
    "        try:\n",
    "            word_list.append(vocab_to_int[word])\n",
    "        except KeyError:\n",
    "            word_list.append(vocab_to_int['<UNK>'])\n",
    "    \n",
    "    return word_list\n",
    "\n",
    "\n",
    "\"\"\"\n",
    "DON'T MODIFY ANYTHING IN THIS CELL THAT IS BELOW THIS LINE\n",
    "\"\"\"\n",
    "tests.test_sentence_to_seq(sentence_to_seq)"
   ]
  },
  {
   "cell_type": "markdown",
   "metadata": {},
   "source": [
    "## Translate\n",
    "This will translate `translate_sentence` from English to French."
   ]
  },
  {
   "cell_type": "code",
   "execution_count": 55,
   "metadata": {},
   "outputs": [
    {
     "name": "stdout",
     "output_type": "stream",
     "text": [
      "INFO:tensorflow:Restoring parameters from checkpoints/dev\n",
      "Input\n",
      "  Word Ids:      [125, 10, 158, 176, 132, 166, 48]\n",
      "  English Words: ['he', 'saw', 'a', 'old', 'yellow', 'truck', '.']\n",
      "\n",
      "Prediction\n",
      "  Word Ids:      [228, 333, 247, 233, 233, 101, 101, 16, 16, 16, 16, 16, 16, 16]\n",
      "  French Words: il a est le le de de en en en en en en en\n"
     ]
    }
   ],
   "source": [
    "translate_sentence = 'he saw a old yellow truck .'\n",
    "\n",
    "\n",
    "\"\"\"\n",
    "DON'T MODIFY ANYTHING IN THIS CELL\n",
    "\"\"\"\n",
    "translate_sentence = sentence_to_seq(translate_sentence, source_vocab_to_int)\n",
    "\n",
    "loaded_graph = tf.Graph()\n",
    "with tf.Session(graph=loaded_graph) as sess:\n",
    "    # Load saved model\n",
    "    loader = tf.train.import_meta_graph(load_path + '.meta')\n",
    "    loader.restore(sess, load_path)\n",
    "\n",
    "    input_data = loaded_graph.get_tensor_by_name('input:0')\n",
    "    logits = loaded_graph.get_tensor_by_name('predictions:0')\n",
    "    target_sequence_length = loaded_graph.get_tensor_by_name('target_sequence_length:0')\n",
    "    source_sequence_length = loaded_graph.get_tensor_by_name('source_sequence_length:0')\n",
    "    keep_prob = loaded_graph.get_tensor_by_name('keep_prob:0')\n",
    "\n",
    "    translate_logits = sess.run(logits, {input_data: [translate_sentence]*batch_size,\n",
    "                                         target_sequence_length: [len(translate_sentence)*2]*batch_size,\n",
    "                                         source_sequence_length: [len(translate_sentence)]*batch_size,\n",
    "                                         keep_prob: 1.0})[0]\n",
    "\n",
    "print('Input')\n",
    "print('  Word Ids:      {}'.format([i for i in translate_sentence]))\n",
    "print('  English Words: {}'.format([source_int_to_vocab[i] for i in translate_sentence]))\n",
    "\n",
    "print('\\nPrediction')\n",
    "print('  Word Ids:      {}'.format([i for i in translate_logits]))\n",
    "print('  French Words: {}'.format(\" \".join([target_int_to_vocab[i] for i in translate_logits])))\n"
   ]
  },
  {
   "cell_type": "markdown",
   "metadata": {},
   "source": [
    "## Imperfect Translation\n",
    "You might notice that some sentences translate better than others.  Since the dataset you're using only has a vocabulary of 227 English words of the thousands that you use, you're only going to see good results using these words.  For this project, you don't need a perfect translation. However, if you want to create a better translation model, you'll need better data.\n",
    "\n",
    "You can train on the [WMT10 French-English corpus](http://www.statmt.org/wmt10/training-giga-fren.tar).  This dataset has more vocabulary and richer in topics discussed.  However, this will take you days to train, so make sure you've a GPU and the neural network is performing well on dataset we provided.  Just make sure you play with the WMT10 corpus after you've submitted this project.\n",
    "## Submitting This Project\n",
    "When submitting this project, make sure to run all the cells before saving the notebook. Save the notebook file as \"dlnd_language_translation.ipynb\" and save it as a HTML file under \"File\" -> \"Download as\". Include the \"helper.py\" and \"problem_unittests.py\" files in your submission."
   ]
  }
 ],
 "metadata": {
  "anaconda-cloud": {},
  "kernelspec": {
   "display_name": "Python 3",
   "language": "python",
   "name": "python3"
  },
  "language_info": {
   "codemirror_mode": {
    "name": "ipython",
    "version": 3
   },
   "file_extension": ".py",
   "mimetype": "text/x-python",
   "name": "python",
   "nbconvert_exporter": "python",
   "pygments_lexer": "ipython3",
   "version": "3.5.3"
  }
 },
 "nbformat": 4,
 "nbformat_minor": 1
}
