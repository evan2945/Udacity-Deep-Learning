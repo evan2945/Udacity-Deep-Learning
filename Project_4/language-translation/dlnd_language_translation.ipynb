{
 "cells": [
  {
   "cell_type": "markdown",
   "metadata": {
    "collapsed": true
   },
   "source": [
    "# Language Translation\n",
    "In this project, you’re going to take a peek into the realm of neural network machine translation.  You’ll be training a sequence to sequence model on a dataset of English and French sentences that can translate new sentences from English to French.\n",
    "## Get the Data\n",
    "Since translating the whole language of English to French will take lots of time to train, we have provided you with a small portion of the English corpus."
   ]
  },
  {
   "cell_type": "code",
   "execution_count": 1,
   "metadata": {
    "collapsed": true
   },
   "outputs": [],
   "source": [
    "\"\"\"\n",
    "DON'T MODIFY ANYTHING IN THIS CELL\n",
    "\"\"\"\n",
    "import helper\n",
    "import problem_unittests as tests\n",
    "\n",
    "source_path = 'data/small_vocab_en'\n",
    "target_path = 'data/small_vocab_fr'\n",
    "source_text = helper.load_data(source_path)\n",
    "target_text = helper.load_data(target_path)"
   ]
  },
  {
   "cell_type": "markdown",
   "metadata": {},
   "source": [
    "## Explore the Data\n",
    "Play around with view_sentence_range to view different parts of the data."
   ]
  },
  {
   "cell_type": "code",
   "execution_count": 2,
   "metadata": {},
   "outputs": [
    {
     "name": "stdout",
     "output_type": "stream",
     "text": [
      "Dataset Stats\n",
      "Roughly the number of unique words: 227\n",
      "Number of sentences: 137861\n",
      "Average number of words in a sentence: 13.225277634719028\n",
      "\n",
      "English sentences 0 to 10:\n",
      "new jersey is sometimes quiet during autumn , and it is snowy in april .\n",
      "the united states is usually chilly during july , and it is usually freezing in november .\n",
      "california is usually quiet during march , and it is usually hot in june .\n",
      "the united states is sometimes mild during june , and it is cold in september .\n",
      "your least liked fruit is the grape , but my least liked is the apple .\n",
      "his favorite fruit is the orange , but my favorite is the grape .\n",
      "paris is relaxing during december , but it is usually chilly in july .\n",
      "new jersey is busy during spring , and it is never hot in march .\n",
      "our least liked fruit is the lemon , but my least liked is the grape .\n",
      "the united states is sometimes busy during january , and it is sometimes warm in november .\n",
      "\n",
      "French sentences 0 to 10:\n",
      "new jersey est parfois calme pendant l' automne , et il est neigeux en avril .\n",
      "les états-unis est généralement froid en juillet , et il gèle habituellement en novembre .\n",
      "california est généralement calme en mars , et il est généralement chaud en juin .\n",
      "les états-unis est parfois légère en juin , et il fait froid en septembre .\n",
      "votre moins aimé fruit est le raisin , mais mon moins aimé est la pomme .\n",
      "son fruit préféré est l'orange , mais mon préféré est le raisin .\n",
      "paris est relaxant en décembre , mais il est généralement froid en juillet .\n",
      "new jersey est occupé au printemps , et il est jamais chaude en mars .\n",
      "notre fruit est moins aimé le citron , mais mon moins aimé est le raisin .\n",
      "les états-unis est parfois occupé en janvier , et il est parfois chaud en novembre .\n"
     ]
    }
   ],
   "source": [
    "view_sentence_range = (0, 10)\n",
    "\n",
    "\"\"\"\n",
    "DON'T MODIFY ANYTHING IN THIS CELL\n",
    "\"\"\"\n",
    "import numpy as np\n",
    "\n",
    "print('Dataset Stats')\n",
    "print('Roughly the number of unique words: {}'.format(len({word: None for word in source_text.split()})))\n",
    "\n",
    "sentences = source_text.split('\\n')\n",
    "word_counts = [len(sentence.split()) for sentence in sentences]\n",
    "print('Number of sentences: {}'.format(len(sentences)))\n",
    "print('Average number of words in a sentence: {}'.format(np.average(word_counts)))\n",
    "\n",
    "print()\n",
    "print('English sentences {} to {}:'.format(*view_sentence_range))\n",
    "print('\\n'.join(source_text.split('\\n')[view_sentence_range[0]:view_sentence_range[1]]))\n",
    "print()\n",
    "print('French sentences {} to {}:'.format(*view_sentence_range))\n",
    "print('\\n'.join(target_text.split('\\n')[view_sentence_range[0]:view_sentence_range[1]]))"
   ]
  },
  {
   "cell_type": "markdown",
   "metadata": {},
   "source": [
    "## Implement Preprocessing Function\n",
    "### Text to Word Ids\n",
    "As you did with other RNNs, you must turn the text into a number so the computer can understand it. In the function `text_to_ids()`, you'll turn `source_text` and `target_text` from words to ids.  However, you need to add the `<EOS>` word id at the end of `target_text`.  This will help the neural network predict when the sentence should end.\n",
    "\n",
    "You can get the `<EOS>` word id by doing:\n",
    "```python\n",
    "target_vocab_to_int['<EOS>']\n",
    "```\n",
    "You can get other word ids using `source_vocab_to_int` and `target_vocab_to_int`."
   ]
  },
  {
   "cell_type": "code",
   "execution_count": 3,
   "metadata": {},
   "outputs": [
    {
     "name": "stdout",
     "output_type": "stream",
     "text": [
      "Tests Passed\n"
     ]
    }
   ],
   "source": [
    "def text_to_ids(source_text, target_text, source_vocab_to_int, target_vocab_to_int):\n",
    "    \"\"\"\n",
    "    Convert source and target text to proper word ids\n",
    "    :param source_text: String that contains all the source text.\n",
    "    :param target_text: String that contains all the target text.\n",
    "    :param source_vocab_to_int: Dictionary to go from the source words to an id\n",
    "    :param target_vocab_to_int: Dictionary to go from the target words to an id\n",
    "    :return: A tuple of lists (source_id_text, target_id_text)\n",
    "    \"\"\"\n",
    "    # I didn't want to do too much at once, so I split some of the logic up for readability\n",
    "    source_words = source_text.split('\\n')\n",
    "    target_words = target_text.split(\"\\n\")\n",
    "    \n",
    "    target_words = [(sentence + \" <EOS>\") for sentence in target_words]\n",
    "    \n",
    "    source_id_text = [[source_vocab_to_int[word] for word in sentence.split()] for sentence in source_words]\n",
    "    target_id_text = [[target_vocab_to_int[word] for word in sentence.split()] for sentence in target_words]\n",
    "    \n",
    "    return (source_id_text, target_id_text)\n",
    "\n",
    "\"\"\"\n",
    "DON'T MODIFY ANYTHING IN THIS CELL THAT IS BELOW THIS LINE\n",
    "\"\"\"\n",
    "tests.test_text_to_ids(text_to_ids)"
   ]
  },
  {
   "cell_type": "markdown",
   "metadata": {},
   "source": [
    "### Preprocess all the data and save it\n",
    "Running the code cell below will preprocess all the data and save it to file."
   ]
  },
  {
   "cell_type": "code",
   "execution_count": 4,
   "metadata": {
    "collapsed": true
   },
   "outputs": [],
   "source": [
    "\"\"\"\n",
    "DON'T MODIFY ANYTHING IN THIS CELL\n",
    "\"\"\"\n",
    "helper.preprocess_and_save_data(source_path, target_path, text_to_ids)"
   ]
  },
  {
   "cell_type": "markdown",
   "metadata": {},
   "source": [
    "# Check Point\n",
    "This is your first checkpoint. If you ever decide to come back to this notebook or have to restart the notebook, you can start from here. The preprocessed data has been saved to disk."
   ]
  },
  {
   "cell_type": "code",
   "execution_count": 5,
   "metadata": {
    "collapsed": true
   },
   "outputs": [],
   "source": [
    "\"\"\"\n",
    "DON'T MODIFY ANYTHING IN THIS CELL\n",
    "\"\"\"\n",
    "import numpy as np\n",
    "import helper\n",
    "\n",
    "(source_int_text, target_int_text), (source_vocab_to_int, target_vocab_to_int), _ = helper.load_preprocess()"
   ]
  },
  {
   "cell_type": "markdown",
   "metadata": {},
   "source": [
    "### Check the Version of TensorFlow and Access to GPU\n",
    "This will check to make sure you have the correct version of TensorFlow and access to a GPU"
   ]
  },
  {
   "cell_type": "code",
   "execution_count": 6,
   "metadata": {},
   "outputs": [
    {
     "name": "stdout",
     "output_type": "stream",
     "text": [
      "TensorFlow Version: 1.1.0\n",
      "Default GPU Device: /gpu:0\n"
     ]
    }
   ],
   "source": [
    "\"\"\"\n",
    "DON'T MODIFY ANYTHING IN THIS CELL\n",
    "\"\"\"\n",
    "from distutils.version import LooseVersion\n",
    "import warnings\n",
    "import tensorflow as tf\n",
    "from tensorflow.python.layers.core import Dense\n",
    "\n",
    "# Check TensorFlow Version\n",
    "assert LooseVersion(tf.__version__) >= LooseVersion('1.1'), 'Please use TensorFlow version 1.1 or newer'\n",
    "print('TensorFlow Version: {}'.format(tf.__version__))\n",
    "\n",
    "# Check for a GPU\n",
    "if not tf.test.gpu_device_name():\n",
    "    warnings.warn('No GPU found. Please use a GPU to train your neural network.')\n",
    "else:\n",
    "    print('Default GPU Device: {}'.format(tf.test.gpu_device_name()))"
   ]
  },
  {
   "cell_type": "markdown",
   "metadata": {},
   "source": [
    "## Build the Neural Network\n",
    "You'll build the components necessary to build a Sequence-to-Sequence model by implementing the following functions below:\n",
    "- `model_inputs`\n",
    "- `process_decoder_input`\n",
    "- `encoding_layer`\n",
    "- `decoding_layer_train`\n",
    "- `decoding_layer_infer`\n",
    "- `decoding_layer`\n",
    "- `seq2seq_model`\n",
    "\n",
    "### Input\n",
    "Implement the `model_inputs()` function to create TF Placeholders for the Neural Network. It should create the following placeholders:\n",
    "\n",
    "- Input text placeholder named \"input\" using the TF Placeholder name parameter with rank 2.\n",
    "- Targets placeholder with rank 2.\n",
    "- Learning rate placeholder with rank 0.\n",
    "- Keep probability placeholder named \"keep_prob\" using the TF Placeholder name parameter with rank 0.\n",
    "- Target sequence length placeholder named \"target_sequence_length\" with rank 1\n",
    "- Max target sequence length tensor named \"max_target_len\" getting its value from applying tf.reduce_max on the target_sequence_length placeholder. Rank 0.\n",
    "- Source sequence length placeholder named \"source_sequence_length\" with rank 1\n",
    "\n",
    "Return the placeholders in the following the tuple (input, targets, learning rate, keep probability, target sequence length, max target sequence length, source sequence length)"
   ]
  },
  {
   "cell_type": "code",
   "execution_count": 7,
   "metadata": {},
   "outputs": [
    {
     "name": "stdout",
     "output_type": "stream",
     "text": [
      "Tests Passed\n"
     ]
    }
   ],
   "source": [
    "def model_inputs():\n",
    "    \"\"\"\n",
    "    Create TF Placeholders for input, targets, learning rate, and lengths of source and target sequences.\n",
    "    :return: Tuple (input, targets, learning rate, keep probability, target sequence length,\n",
    "    max target sequence length, source sequence length)\n",
    "    \"\"\"\n",
    "    # TODO: Implement Function\n",
    "    inputs = tf.placeholder(tf.int32, shape=([None, None]), name='input')\n",
    "    targets = tf.placeholder(tf.int32, shape=([None, None]))\n",
    "    learning_rate = tf.placeholder(tf.float32)\n",
    "    keep_prob = tf.placeholder(tf.float32, name='keep_prob')\n",
    "    target_sequence_length = tf.placeholder(tf.int32, shape=([None]), name='target_sequence_length')\n",
    "    max_target_len = tf.reduce_max(target_sequence_length, name='max_target_len')\n",
    "    source_sequence_length = tf.placeholder(tf.int32, shape=([None]), name='source_sequence_length')\n",
    "    \n",
    "    return inputs, targets, learning_rate, keep_prob, target_sequence_length, max_target_len, source_sequence_length\n",
    "\n",
    "\n",
    "\"\"\"\n",
    "DON'T MODIFY ANYTHING IN THIS CELL THAT IS BELOW THIS LINE\n",
    "\"\"\"\n",
    "tests.test_model_inputs(model_inputs)"
   ]
  },
  {
   "cell_type": "markdown",
   "metadata": {},
   "source": [
    "### Process Decoder Input\n",
    "Implement `process_decoder_input` by removing the last word id from each batch in `target_data` and concat the GO ID to the begining of each batch."
   ]
  },
  {
   "cell_type": "code",
   "execution_count": 8,
   "metadata": {},
   "outputs": [
    {
     "name": "stdout",
     "output_type": "stream",
     "text": [
      "Tests Passed\n"
     ]
    }
   ],
   "source": [
    "def process_decoder_input(target_data, target_vocab_to_int, batch_size):\n",
    "    \"\"\"\n",
    "    Preprocess target data for encoding\n",
    "    :param target_data: Target Placehoder\n",
    "    :param target_vocab_to_int: Dictionary to go from the target words to an id\n",
    "    :param batch_size: Batch Size\n",
    "    :return: Preprocessed target data\n",
    "    \"\"\"\n",
    "    # I used the code from the seq2seq notebook. This piece of code is the type that every time I see it\n",
    "    # I have to remind myself what it does. It is concise and effective.\n",
    "    ending = tf.strided_slice(target_data, [0, 0], [batch_size, -1], [1, 1])\n",
    "    dec_input = tf.concat([tf.fill([batch_size, 1], target_vocab_to_int['<GO>']), ending], 1)\n",
    "\n",
    "    return dec_input\n",
    "\n",
    "\"\"\"\n",
    "DON'T MODIFY ANYTHING IN THIS CELL THAT IS BELOW THIS LINE\n",
    "\"\"\"\n",
    "tests.test_process_encoding_input(process_decoder_input)"
   ]
  },
  {
   "cell_type": "markdown",
   "metadata": {},
   "source": [
    "### Encoding\n",
    "Implement `encoding_layer()` to create a Encoder RNN layer:\n",
    " * Embed the encoder input using [`tf.contrib.layers.embed_sequence`](https://www.tensorflow.org/api_docs/python/tf/contrib/layers/embed_sequence)\n",
    " * Construct a [stacked](https://github.com/tensorflow/tensorflow/blob/6947f65a374ebf29e74bb71e36fd82760056d82c/tensorflow/docs_src/tutorials/recurrent.md#stacking-multiple-lstms) [`tf.contrib.rnn.LSTMCell`](https://www.tensorflow.org/api_docs/python/tf/contrib/rnn/LSTMCell) wrapped in a [`tf.contrib.rnn.DropoutWrapper`](https://www.tensorflow.org/api_docs/python/tf/contrib/rnn/DropoutWrapper)\n",
    " * Pass cell and embedded input to [`tf.nn.dynamic_rnn()`](https://www.tensorflow.org/api_docs/python/tf/nn/dynamic_rnn)"
   ]
  },
  {
   "cell_type": "code",
   "execution_count": 9,
   "metadata": {
    "scrolled": false
   },
   "outputs": [
    {
     "name": "stdout",
     "output_type": "stream",
     "text": [
      "Tests Passed\n"
     ]
    }
   ],
   "source": [
    "from imp import reload\n",
    "reload(tests)\n",
    "\n",
    "def encoding_layer(rnn_inputs, rnn_size, num_layers, keep_prob, \n",
    "                   source_sequence_length, source_vocab_size, \n",
    "                   encoding_embedding_size):\n",
    "    \"\"\"\n",
    "    Create encoding layer\n",
    "    :param rnn_inputs: Inputs for the RNN\n",
    "    :param rnn_size: RNN Size\n",
    "    :param num_layers: Number of layers\n",
    "    :param keep_prob: Dropout keep probability\n",
    "    :param source_sequence_length: a list of the lengths of each sequence in the batch\n",
    "    :param source_vocab_size: vocabulary size of source data\n",
    "    :param encoding_embedding_size: embedding size of source data\n",
    "    :return: tuple (RNN output, RNN state)\n",
    "    \"\"\"\n",
    "    encoder_input = tf.contrib.layers.embed_sequence(rnn_inputs, source_vocab_size, encoding_embedding_size)\n",
    "    stacked_lstm = tf.contrib.rnn.MultiRNNCell([tf.contrib.rnn.LSTMCell(rnn_size, initializer=tf.random_uniform_initializer(-0.1, 0.1, seed=2)) for _ in range(num_layers)])\n",
    "    dropout = tf.contrib.rnn.DropoutWrapper(stacked_lstm, output_keep_prob=keep_prob)\n",
    "    RNN_output, RNN_state = tf.nn.dynamic_rnn(dropout, encoder_input, dtype=tf.float32)\n",
    "    \n",
    "    return RNN_output, RNN_state\n",
    "\n",
    "\"\"\"\n",
    "DON'T MODIFY ANYTHING IN THIS CELL THAT IS BELOW THIS LINE\n",
    "\"\"\"\n",
    "tests.test_encoding_layer(encoding_layer)"
   ]
  },
  {
   "cell_type": "markdown",
   "metadata": {},
   "source": [
    "### Decoding - Training\n",
    "Create a training decoding layer:\n",
    "* Create a [`tf.contrib.seq2seq.TrainingHelper`](https://www.tensorflow.org/api_docs/python/tf/contrib/seq2seq/TrainingHelper) \n",
    "* Create a [`tf.contrib.seq2seq.BasicDecoder`](https://www.tensorflow.org/api_docs/python/tf/contrib/seq2seq/BasicDecoder)\n",
    "* Obtain the decoder outputs from [`tf.contrib.seq2seq.dynamic_decode`](https://www.tensorflow.org/api_docs/python/tf/contrib/seq2seq/dynamic_decode)"
   ]
  },
  {
   "cell_type": "code",
   "execution_count": 10,
   "metadata": {},
   "outputs": [
    {
     "name": "stdout",
     "output_type": "stream",
     "text": [
      "Tests Passed\n"
     ]
    }
   ],
   "source": [
    "\n",
    "def decoding_layer_train(encoder_state, dec_cell, dec_embed_input, \n",
    "                         target_sequence_length, max_summary_length, \n",
    "                         output_layer, keep_prob):\n",
    "    \"\"\"\n",
    "    Create a decoding layer for training\n",
    "    :param encoder_state: Encoder State\n",
    "    :param dec_cell: Decoder RNN Cell\n",
    "    :param dec_embed_input: Decoder embedded input\n",
    "    :param target_sequence_length: The lengths of each sequence in the target batch\n",
    "    :param max_summary_length: The length of the longest sequence in the batch\n",
    "    :param output_layer: Function to apply the output layer\n",
    "    :param keep_prob: Dropout keep probability\n",
    "    :return: BasicDecoderOutput containing training logits and sample_id\n",
    "    \"\"\"\n",
    "    \n",
    "    training_helper = tf.contrib.seq2seq.TrainingHelper(dec_embed_input, target_sequence_length)\n",
    "    \n",
    "    dropout = tf.contrib.rnn.DropoutWrapper(dec_cell, output_keep_prob=keep_prob)\n",
    "    \n",
    "    basic_decoder = tf.contrib.seq2seq.BasicDecoder(dropout, training_helper, encoder_state, output_layer=output_layer)\n",
    "    \n",
    "    decoder_output, _ = tf.contrib.seq2seq.dynamic_decode(basic_decoder, impute_finished=True, maximum_iterations=max_summary_length)\n",
    "    \n",
    "    return decoder_output\n",
    "\n",
    "\n",
    "\n",
    "\"\"\"\n",
    "DON'T MODIFY ANYTHING IN THIS CELL THAT IS BELOW THIS LINE\n",
    "\"\"\"\n",
    "tests.test_decoding_layer_train(decoding_layer_train)"
   ]
  },
  {
   "cell_type": "markdown",
   "metadata": {},
   "source": [
    "### Decoding - Inference\n",
    "Create inference decoder:\n",
    "* Create a [`tf.contrib.seq2seq.GreedyEmbeddingHelper`](https://www.tensorflow.org/api_docs/python/tf/contrib/seq2seq/GreedyEmbeddingHelper)\n",
    "* Create a [`tf.contrib.seq2seq.BasicDecoder`](https://www.tensorflow.org/api_docs/python/tf/contrib/seq2seq/BasicDecoder)\n",
    "* Obtain the decoder outputs from [`tf.contrib.seq2seq.dynamic_decode`](https://www.tensorflow.org/api_docs/python/tf/contrib/seq2seq/dynamic_decode)"
   ]
  },
  {
   "cell_type": "code",
   "execution_count": 11,
   "metadata": {
    "scrolled": true
   },
   "outputs": [
    {
     "name": "stdout",
     "output_type": "stream",
     "text": [
      "Tests Passed\n"
     ]
    }
   ],
   "source": [
    "def decoding_layer_infer(encoder_state, dec_cell, dec_embeddings, start_of_sequence_id,\n",
    "                         end_of_sequence_id, max_target_sequence_length,\n",
    "                         vocab_size, output_layer, batch_size, keep_prob):\n",
    "    \"\"\"\n",
    "    Create a decoding layer for inference\n",
    "    :param encoder_state: Encoder state\n",
    "    :param dec_cell: Decoder RNN Cell\n",
    "    :param dec_embeddings: Decoder embeddings\n",
    "    :param start_of_sequence_id: GO ID\n",
    "    :param end_of_sequence_id: EOS Id\n",
    "    :param max_target_sequence_length: Maximum length of target sequences\n",
    "    :param vocab_size: Size of decoder/target vocabulary\n",
    "    :param decoding_scope: TenorFlow Variable Scope for decoding\n",
    "    :param output_layer: Function to apply the output layer\n",
    "    :param batch_size: Batch size\n",
    "    :param keep_prob: Dropout keep probability\n",
    "    :return: BasicDecoderOutput containing inference logits and sample_id\n",
    "    \"\"\"\n",
    "    start_tokens = tf.tile(tf.constant([start_of_sequence_id], dtype=tf.int32), [batch_size], name='start_tokens')\n",
    "    inference_helper = tf.contrib.seq2seq.GreedyEmbeddingHelper(dec_embeddings, start_tokens, end_of_sequence_id)\n",
    "    inference_decoder = tf.contrib.seq2seq.BasicDecoder(dec_cell, inference_helper, encoder_state, output_layer)\n",
    "    decoder_outputs, _ = tf.contrib.seq2seq.dynamic_decode(inference_decoder, impute_finished=True, maximum_iterations=max_target_sequence_length)\n",
    "    \n",
    "    return decoder_outputs\n",
    "\n",
    "\n",
    "\n",
    "\"\"\"\n",
    "DON'T MODIFY ANYTHING IN THIS CELL THAT IS BELOW THIS LINE\n",
    "\"\"\"\n",
    "tests.test_decoding_layer_infer(decoding_layer_infer)"
   ]
  },
  {
   "cell_type": "markdown",
   "metadata": {},
   "source": [
    "### Build the Decoding Layer\n",
    "Implement `decoding_layer()` to create a Decoder RNN layer.\n",
    "\n",
    "* Embed the target sequences\n",
    "* Construct the decoder LSTM cell (just like you constructed the encoder cell above)\n",
    "* Create an output layer to map the outputs of the decoder to the elements of our vocabulary\n",
    "* Use the your `decoding_layer_train(encoder_state, dec_cell, dec_embed_input, target_sequence_length, max_target_sequence_length, output_layer, keep_prob)` function to get the training logits.\n",
    "* Use your `decoding_layer_infer(encoder_state, dec_cell, dec_embeddings, start_of_sequence_id, end_of_sequence_id, max_target_sequence_length, vocab_size, output_layer, batch_size, keep_prob)` function to get the inference logits.\n",
    "\n",
    "Note: You'll need to use [tf.variable_scope](https://www.tensorflow.org/api_docs/python/tf/variable_scope) to share variables between training and inference."
   ]
  },
  {
   "cell_type": "code",
   "execution_count": 13,
   "metadata": {
    "scrolled": false
   },
   "outputs": [
    {
     "name": "stdout",
     "output_type": "stream",
     "text": [
      "Tests Passed\n"
     ]
    }
   ],
   "source": [
    "def decoding_layer(dec_input, encoder_state,\n",
    "                   target_sequence_length, max_target_sequence_length,\n",
    "                   rnn_size,\n",
    "                   num_layers, target_vocab_to_int, target_vocab_size,\n",
    "                   batch_size, keep_prob, decoding_embedding_size):\n",
    "    \"\"\"\n",
    "    Create decoding layer\n",
    "    :param dec_input: Decoder input\n",
    "    :param encoder_state: Encoder state\n",
    "    :param target_sequence_length: The lengths of each sequence in the target batch\n",
    "    :param max_target_sequence_length: Maximum length of target sequences\n",
    "    :param rnn_size: RNN Size\n",
    "    :param num_layers: Number of layers\n",
    "    :param target_vocab_to_int: Dictionary to go from the target words to an id\n",
    "    :param target_vocab_size: Size of target vocabulary\n",
    "    :param batch_size: The size of the batch\n",
    "    :param keep_prob: Dropout keep probability\n",
    "    :return: Tuple of (Training BasicDecoderOutput, Inference BasicDecoderOutput)\n",
    "    \"\"\"\n",
    "    start_of_sequence_id = target_vocab_to_int['<GO>']\n",
    "    end_of_sequence_id = target_vocab_to_int['<EOS>']\n",
    "\n",
    "    decoder_embeddings = tf.Variable(tf.random_uniform([target_vocab_size, decoding_embedding_size]))\n",
    "\n",
    "    #decoder_embed_input = tf.contrib.layers.embed_sequence(dec_input, target_vocab_size, decoding_embedding_size)\n",
    "    decoder_embed_input = tf.nn.embedding_lookup(decoder_embeddings, dec_input)\n",
    "    dec_cell = tf.contrib.rnn.DropoutWrapper(tf.contrib.rnn.MultiRNNCell([tf.contrib.rnn.BasicLSTMCell(rnn_size) for _ in range(num_layers)]),output_keep_prob=keep_prob)\n",
    "\n",
    "    with tf.variable_scope(\"decode\") as decoding_scope:\n",
    "        output_layer = Dense(target_vocab_size, kernel_initializer = tf.truncated_normal_initializer(mean = 0.0, stddev=0.1))\n",
    "\n",
    "        training_logits = decoding_layer_train(encoder_state, dec_cell, decoder_embed_input, target_sequence_length, \n",
    "                                               max_target_sequence_length, output_layer, keep_prob)\n",
    "   \n",
    "    with tf.variable_scope(\"decode\", reuse=True):\n",
    "        inference_logits = decoding_layer_infer(encoder_state, dec_cell, decoder_embeddings, start_of_sequence_id, end_of_sequence_id,\n",
    "                                               max_target_sequence_length, target_vocab_size, output_layer, batch_size, keep_prob)\n",
    "    \n",
    "    return training_logits, inference_logits\n",
    "\n",
    "\n",
    "\n",
    "\"\"\"\n",
    "DON'T MODIFY ANYTHING IN THIS CELL THAT IS BELOW THIS LINE\n",
    "\"\"\"\n",
    "tests.test_decoding_layer(decoding_layer)"
   ]
  },
  {
   "cell_type": "markdown",
   "metadata": {},
   "source": [
    "### Build the Neural Network\n",
    "Apply the functions you implemented above to:\n",
    "\n",
    "- Apply embedding to the input data for the encoder.\n",
    "- Encode the input using your `encoding_layer(rnn_inputs, rnn_size, num_layers, keep_prob,  source_sequence_length, source_vocab_size, encoding_embedding_size)`.\n",
    "- Process target data using your `process_decoder_input(target_data, target_vocab_to_int, batch_size)` function.\n",
    "- Apply embedding to the target data for the decoder.\n",
    "- Decode the encoded input using your `decoding_layer(dec_input, enc_state, target_sequence_length, max_target_sentence_length, rnn_size, num_layers, target_vocab_to_int, target_vocab_size, batch_size, keep_prob, dec_embedding_size)` function."
   ]
  },
  {
   "cell_type": "code",
   "execution_count": 14,
   "metadata": {},
   "outputs": [
    {
     "name": "stdout",
     "output_type": "stream",
     "text": [
      "Tests Passed\n"
     ]
    }
   ],
   "source": [
    "def seq2seq_model(input_data, target_data, keep_prob, batch_size,\n",
    "                  source_sequence_length, target_sequence_length,\n",
    "                  max_target_sentence_length,\n",
    "                  source_vocab_size, target_vocab_size,\n",
    "                  enc_embedding_size, dec_embedding_size,\n",
    "                  rnn_size, num_layers, target_vocab_to_int):\n",
    "    \"\"\"\n",
    "    Build the Sequence-to-Sequence part of the neural network\n",
    "    :param input_data: Input placeholder\n",
    "    :param target_data: Target placeholder\n",
    "    :param keep_prob: Dropout keep probability placeholder\n",
    "    :param batch_size: Batch Size\n",
    "    :param source_sequence_length: Sequence Lengths of source sequences in the batch\n",
    "    :param target_sequence_length: Sequence Lengths of target sequences in the batch\n",
    "    :param source_vocab_size: Source vocabulary size\n",
    "    :param target_vocab_size: Target vocabulary size\n",
    "    :param enc_embedding_size: Decoder embedding size\n",
    "    :param dec_embedding_size: Encoder embedding size\n",
    "    :param rnn_size: RNN Size\n",
    "    :param num_layers: Number of layers\n",
    "    :param target_vocab_to_int: Dictionary to go from the target words to an id\n",
    "    :return: Tuple of (Training BasicDecoderOutput, Inference BasicDecoderOutput)\n",
    "    \"\"\"\n",
    "    _, enc_state = encoding_layer(input_data, \n",
    "                                  rnn_size, \n",
    "                                  num_layers, \n",
    "                                  keep_prob,\n",
    "                                  source_sequence_length,\n",
    "                                  source_vocab_size, \n",
    "                                  enc_embedding_size)\n",
    "    \n",
    "    dec_input = process_decoder_input(target_data, target_vocab_to_int, batch_size)\n",
    "    \n",
    "    training_decoder_output, inference_decoder_output = decoding_layer(dec_input,\n",
    "                                                                       enc_state,\n",
    "                                                                       target_sequence_length,\n",
    "                                                                       max_target_sentence_length,\n",
    "                                                                       rnn_size,\n",
    "                                                                       num_layers,\n",
    "                                                                       target_vocab_to_int,\n",
    "                                                                       target_vocab_size, \n",
    "                                                                       batch_size,\n",
    "                                                                       keep_prob,\n",
    "                                                                       dec_embedding_size)\n",
    "    \n",
    "    return training_decoder_output, inference_decoder_output\n",
    "\n",
    "\n",
    "\"\"\"\n",
    "DON'T MODIFY ANYTHING IN THIS CELL THAT IS BELOW THIS LINE\n",
    "\"\"\"\n",
    "tests.test_seq2seq_model(seq2seq_model)"
   ]
  },
  {
   "cell_type": "markdown",
   "metadata": {},
   "source": [
    "## Neural Network Training\n",
    "### Hyperparameters\n",
    "Tune the following parameters:\n",
    "\n",
    "- Set `epochs` to the number of epochs.\n",
    "- Set `batch_size` to the batch size.\n",
    "- Set `rnn_size` to the size of the RNNs.\n",
    "- Set `num_layers` to the number of layers.\n",
    "- Set `encoding_embedding_size` to the size of the embedding for the encoder.\n",
    "- Set `decoding_embedding_size` to the size of the embedding for the decoder.\n",
    "- Set `learning_rate` to the learning rate.\n",
    "- Set `keep_probability` to the Dropout keep probability\n",
    "- Set `display_step` to state how many steps between each debug output statement"
   ]
  },
  {
   "cell_type": "code",
   "execution_count": 15,
   "metadata": {
    "collapsed": true
   },
   "outputs": [],
   "source": [
    "# Number of Epochs\n",
    "epochs = 10\n",
    "# Batch Size\n",
    "batch_size = 512\n",
    "# RNN Size\n",
    "rnn_size = 256\n",
    "# Number of Layers\n",
    "num_layers = 2\n",
    "# Embedding Size\n",
    "encoding_embedding_size = 128\n",
    "decoding_embedding_size = 128\n",
    "# Learning Rate\n",
    "learning_rate = 0.001\n",
    "# Dropout Keep Probability\n",
    "keep_probability = 0.7\n",
    "display_step = 10"
   ]
  },
  {
   "cell_type": "markdown",
   "metadata": {},
   "source": [
    "### Build the Graph\n",
    "Build the graph using the neural network you implemented."
   ]
  },
  {
   "cell_type": "code",
   "execution_count": 16,
   "metadata": {
    "collapsed": true
   },
   "outputs": [],
   "source": [
    "\"\"\"\n",
    "DON'T MODIFY ANYTHING IN THIS CELL\n",
    "\"\"\"\n",
    "save_path = 'checkpoints/dev'\n",
    "(source_int_text, target_int_text), (source_vocab_to_int, target_vocab_to_int), _ = helper.load_preprocess()\n",
    "max_target_sentence_length = max([len(sentence) for sentence in source_int_text])\n",
    "\n",
    "train_graph = tf.Graph()\n",
    "with train_graph.as_default():\n",
    "    input_data, targets, lr, keep_prob, target_sequence_length, max_target_sequence_length, source_sequence_length = model_inputs()\n",
    "    \n",
    "    #sequence_length = tf.placeholder_with_default(max_target_sentence_length, None, name='sequence_length')\n",
    "    input_shape = tf.shape(input_data)\n",
    "    \n",
    "    train_logits, inference_logits = seq2seq_model(tf.reverse(input_data, [-1]),\n",
    "                                                   targets,\n",
    "                                                   keep_prob,\n",
    "                                                   batch_size,\n",
    "                                                   source_sequence_length,\n",
    "                                                   target_sequence_length,\n",
    "                                                   max_target_sequence_length,\n",
    "                                                   len(source_vocab_to_int),\n",
    "                                                   len(target_vocab_to_int),\n",
    "                                                   encoding_embedding_size,\n",
    "                                                   decoding_embedding_size,\n",
    "                                                   rnn_size,\n",
    "                                                   num_layers,\n",
    "                                                   target_vocab_to_int)\n",
    "\n",
    "\n",
    "    training_logits = tf.identity(train_logits.rnn_output, name='logits')\n",
    "    inference_logits = tf.identity(inference_logits.sample_id, name='predictions')\n",
    "\n",
    "    masks = tf.sequence_mask(target_sequence_length, max_target_sequence_length, dtype=tf.float32, name='masks')\n",
    "\n",
    "    with tf.name_scope(\"optimization\"):\n",
    "        # Loss function\n",
    "        cost = tf.contrib.seq2seq.sequence_loss(\n",
    "            training_logits,\n",
    "            targets,\n",
    "            masks)\n",
    "\n",
    "        # Optimizer\n",
    "        optimizer = tf.train.AdamOptimizer(lr)\n",
    "\n",
    "        # Gradient Clipping\n",
    "        gradients = optimizer.compute_gradients(cost)\n",
    "        capped_gradients = [(tf.clip_by_value(grad, -1., 1.), var) for grad, var in gradients if grad is not None]\n",
    "        train_op = optimizer.apply_gradients(capped_gradients)\n"
   ]
  },
  {
   "cell_type": "markdown",
   "metadata": {},
   "source": [
    "Batch and pad the source and target sequences"
   ]
  },
  {
   "cell_type": "code",
   "execution_count": 17,
   "metadata": {
    "collapsed": true
   },
   "outputs": [],
   "source": [
    "\"\"\"\n",
    "DON'T MODIFY ANYTHING IN THIS CELL\n",
    "\"\"\"\n",
    "def pad_sentence_batch(sentence_batch, pad_int):\n",
    "    \"\"\"Pad sentences with <PAD> so that each sentence of a batch has the same length\"\"\"\n",
    "    max_sentence = max([len(sentence) for sentence in sentence_batch])\n",
    "    return [sentence + [pad_int] * (max_sentence - len(sentence)) for sentence in sentence_batch]\n",
    "\n",
    "\n",
    "def get_batches(sources, targets, batch_size, source_pad_int, target_pad_int):\n",
    "    \"\"\"Batch targets, sources, and the lengths of their sentences together\"\"\"\n",
    "    for batch_i in range(0, len(sources)//batch_size):\n",
    "        start_i = batch_i * batch_size\n",
    "\n",
    "        # Slice the right amount for the batch\n",
    "        sources_batch = sources[start_i:start_i + batch_size]\n",
    "        targets_batch = targets[start_i:start_i + batch_size]\n",
    "\n",
    "        # Pad\n",
    "        pad_sources_batch = np.array(pad_sentence_batch(sources_batch, source_pad_int))\n",
    "        pad_targets_batch = np.array(pad_sentence_batch(targets_batch, target_pad_int))\n",
    "\n",
    "        # Need the lengths for the _lengths parameters\n",
    "        pad_targets_lengths = []\n",
    "        for target in pad_targets_batch:\n",
    "            pad_targets_lengths.append(len(target))\n",
    "\n",
    "        pad_source_lengths = []\n",
    "        for source in pad_sources_batch:\n",
    "            pad_source_lengths.append(len(source))\n",
    "\n",
    "        yield pad_sources_batch, pad_targets_batch, pad_source_lengths, pad_targets_lengths\n"
   ]
  },
  {
   "cell_type": "markdown",
   "metadata": {},
   "source": [
    "### Train\n",
    "Train the neural network on the preprocessed data. If you have a hard time getting a good loss, check the forms to see if anyone is having the same problem."
   ]
  },
  {
   "cell_type": "code",
   "execution_count": 18,
   "metadata": {
    "scrolled": false
   },
   "outputs": [
    {
     "name": "stdout",
     "output_type": "stream",
     "text": [
      "Epoch   0 Batch   10/269 - Train Accuracy: 0.3043, Validation Accuracy: 0.3730, Loss: 3.7385\n",
      "Epoch   0 Batch   20/269 - Train Accuracy: 0.3473, Validation Accuracy: 0.4086, Loss: 3.1430\n",
      "Epoch   0 Batch   30/269 - Train Accuracy: 0.4042, Validation Accuracy: 0.4354, Loss: 2.7772\n",
      "Epoch   0 Batch   40/269 - Train Accuracy: 0.4178, Validation Accuracy: 0.4698, Loss: 2.7073\n",
      "Epoch   0 Batch   50/269 - Train Accuracy: 0.4285, Validation Accuracy: 0.4818, Loss: 2.5365\n",
      "Epoch   0 Batch   60/269 - Train Accuracy: 0.4834, Validation Accuracy: 0.4987, Loss: 2.2519\n",
      "Epoch   0 Batch   70/269 - Train Accuracy: 0.5025, Validation Accuracy: 0.5144, Loss: 2.1569\n",
      "Epoch   0 Batch   80/269 - Train Accuracy: 0.5002, Validation Accuracy: 0.5209, Loss: 1.9523\n",
      "Epoch   0 Batch   90/269 - Train Accuracy: 0.4480, Validation Accuracy: 0.5159, Loss: 1.9539\n",
      "Epoch   0 Batch  100/269 - Train Accuracy: 0.5126, Validation Accuracy: 0.5269, Loss: 1.7199\n",
      "Epoch   0 Batch  110/269 - Train Accuracy: 0.5078, Validation Accuracy: 0.5376, Loss: 1.6527\n",
      "Epoch   0 Batch  120/269 - Train Accuracy: 0.4678, Validation Accuracy: 0.5170, Loss: 1.6434\n",
      "Epoch   0 Batch  130/269 - Train Accuracy: 0.4643, Validation Accuracy: 0.5168, Loss: 1.6152\n",
      "Epoch   0 Batch  140/269 - Train Accuracy: 0.4860, Validation Accuracy: 0.5105, Loss: 1.4451\n",
      "Epoch   0 Batch  150/269 - Train Accuracy: 0.4953, Validation Accuracy: 0.5288, Loss: 1.4062\n",
      "Epoch   0 Batch  160/269 - Train Accuracy: 0.4865, Validation Accuracy: 0.5185, Loss: 1.3326\n",
      "Epoch   0 Batch  170/269 - Train Accuracy: 0.5020, Validation Accuracy: 0.5287, Loss: 1.2758\n",
      "Epoch   0 Batch  180/269 - Train Accuracy: 0.5056, Validation Accuracy: 0.5329, Loss: 1.2073\n",
      "Epoch   0 Batch  190/269 - Train Accuracy: 0.5107, Validation Accuracy: 0.5388, Loss: 1.1648\n",
      "Epoch   0 Batch  200/269 - Train Accuracy: 0.5138, Validation Accuracy: 0.5455, Loss: 1.1811\n",
      "Epoch   0 Batch  210/269 - Train Accuracy: 0.5351, Validation Accuracy: 0.5555, Loss: 1.0616\n",
      "Epoch   0 Batch  220/269 - Train Accuracy: 0.5256, Validation Accuracy: 0.5522, Loss: 0.9933\n",
      "Epoch   0 Batch  230/269 - Train Accuracy: 0.5418, Validation Accuracy: 0.5727, Loss: 1.0021\n",
      "Epoch   0 Batch  240/269 - Train Accuracy: 0.5843, Validation Accuracy: 0.5708, Loss: 0.8958\n",
      "Epoch   0 Batch  250/269 - Train Accuracy: 0.5396, Validation Accuracy: 0.5749, Loss: 0.9525\n",
      "Epoch   0 Batch  260/269 - Train Accuracy: 0.5502, Validation Accuracy: 0.5711, Loss: 0.9475\n",
      "Epoch   1 Batch   10/269 - Train Accuracy: 0.5534, Validation Accuracy: 0.5822, Loss: 0.8796\n",
      "Epoch   1 Batch   20/269 - Train Accuracy: 0.5680, Validation Accuracy: 0.5759, Loss: 0.8650\n",
      "Epoch   1 Batch   30/269 - Train Accuracy: 0.5797, Validation Accuracy: 0.5851, Loss: 0.8025\n",
      "Epoch   1 Batch   40/269 - Train Accuracy: 0.5808, Validation Accuracy: 0.5998, Loss: 0.8243\n",
      "Epoch   1 Batch   50/269 - Train Accuracy: 0.5692, Validation Accuracy: 0.5939, Loss: 0.8118\n",
      "Epoch   1 Batch   60/269 - Train Accuracy: 0.6069, Validation Accuracy: 0.5999, Loss: 0.7210\n",
      "Epoch   1 Batch   70/269 - Train Accuracy: 0.6103, Validation Accuracy: 0.6034, Loss: 0.7512\n",
      "Epoch   1 Batch   80/269 - Train Accuracy: 0.6138, Validation Accuracy: 0.6046, Loss: 0.7185\n",
      "Epoch   1 Batch   90/269 - Train Accuracy: 0.5635, Validation Accuracy: 0.6114, Loss: 0.7640\n",
      "Epoch   1 Batch  100/269 - Train Accuracy: 0.6200, Validation Accuracy: 0.6082, Loss: 0.6989\n",
      "Epoch   1 Batch  110/269 - Train Accuracy: 0.5976, Validation Accuracy: 0.6103, Loss: 0.6801\n",
      "Epoch   1 Batch  120/269 - Train Accuracy: 0.5972, Validation Accuracy: 0.6175, Loss: 0.6924\n",
      "Epoch   1 Batch  130/269 - Train Accuracy: 0.5733, Validation Accuracy: 0.6066, Loss: 0.6928\n",
      "Epoch   1 Batch  140/269 - Train Accuracy: 0.6253, Validation Accuracy: 0.6215, Loss: 0.6667\n",
      "Epoch   1 Batch  150/269 - Train Accuracy: 0.6276, Validation Accuracy: 0.6270, Loss: 0.6382\n",
      "Epoch   1 Batch  160/269 - Train Accuracy: 0.6268, Validation Accuracy: 0.6249, Loss: 0.6276\n",
      "Epoch   1 Batch  170/269 - Train Accuracy: 0.6323, Validation Accuracy: 0.6357, Loss: 0.6114\n",
      "Epoch   1 Batch  180/269 - Train Accuracy: 0.6164, Validation Accuracy: 0.6208, Loss: 0.5949\n",
      "Epoch   1 Batch  190/269 - Train Accuracy: 0.6293, Validation Accuracy: 0.6374, Loss: 0.5809\n",
      "Epoch   1 Batch  200/269 - Train Accuracy: 0.6310, Validation Accuracy: 0.6507, Loss: 0.5930\n",
      "Epoch   1 Batch  210/269 - Train Accuracy: 0.6474, Validation Accuracy: 0.6400, Loss: 0.5607\n",
      "Epoch   1 Batch  220/269 - Train Accuracy: 0.6407, Validation Accuracy: 0.6420, Loss: 0.5289\n",
      "Epoch   1 Batch  230/269 - Train Accuracy: 0.6447, Validation Accuracy: 0.6550, Loss: 0.5507\n",
      "Epoch   1 Batch  240/269 - Train Accuracy: 0.6731, Validation Accuracy: 0.6513, Loss: 0.4927\n",
      "Epoch   1 Batch  250/269 - Train Accuracy: 0.6436, Validation Accuracy: 0.6509, Loss: 0.5455\n",
      "Epoch   1 Batch  260/269 - Train Accuracy: 0.6179, Validation Accuracy: 0.6389, Loss: 0.6386\n",
      "Epoch   2 Batch   10/269 - Train Accuracy: 0.6355, Validation Accuracy: 0.6539, Loss: 0.5520\n",
      "Epoch   2 Batch   20/269 - Train Accuracy: 0.6486, Validation Accuracy: 0.6605, Loss: 0.5311\n",
      "Epoch   2 Batch   30/269 - Train Accuracy: 0.6715, Validation Accuracy: 0.6658, Loss: 0.4990\n",
      "Epoch   2 Batch   40/269 - Train Accuracy: 0.6527, Validation Accuracy: 0.6744, Loss: 0.5105\n",
      "Epoch   2 Batch   50/269 - Train Accuracy: 0.6654, Validation Accuracy: 0.6744, Loss: 0.5067\n",
      "Epoch   2 Batch   60/269 - Train Accuracy: 0.6934, Validation Accuracy: 0.6824, Loss: 0.4430\n",
      "Epoch   2 Batch   70/269 - Train Accuracy: 0.6910, Validation Accuracy: 0.6920, Loss: 0.4685\n",
      "Epoch   2 Batch   80/269 - Train Accuracy: 0.7051, Validation Accuracy: 0.7015, Loss: 0.4466\n",
      "Epoch   2 Batch   90/269 - Train Accuracy: 0.6624, Validation Accuracy: 0.6939, Loss: 0.4676\n",
      "Epoch   2 Batch  100/269 - Train Accuracy: 0.7276, Validation Accuracy: 0.7048, Loss: 0.4228\n",
      "Epoch   2 Batch  110/269 - Train Accuracy: 0.6906, Validation Accuracy: 0.7045, Loss: 0.4221\n",
      "Epoch   2 Batch  120/269 - Train Accuracy: 0.6910, Validation Accuracy: 0.7174, Loss: 0.4269\n",
      "Epoch   2 Batch  130/269 - Train Accuracy: 0.6937, Validation Accuracy: 0.7068, Loss: 0.4303\n",
      "Epoch   2 Batch  140/269 - Train Accuracy: 0.7226, Validation Accuracy: 0.7361, Loss: 0.4087\n",
      "Epoch   2 Batch  150/269 - Train Accuracy: 0.7269, Validation Accuracy: 0.7407, Loss: 0.3883\n",
      "Epoch   2 Batch  160/269 - Train Accuracy: 0.7452, Validation Accuracy: 0.7454, Loss: 0.3930\n",
      "Epoch   2 Batch  170/269 - Train Accuracy: 0.7304, Validation Accuracy: 0.7387, Loss: 0.3651\n",
      "Epoch   2 Batch  180/269 - Train Accuracy: 0.7496, Validation Accuracy: 0.7463, Loss: 0.3592\n",
      "Epoch   2 Batch  190/269 - Train Accuracy: 0.7332, Validation Accuracy: 0.7398, Loss: 0.3458\n",
      "Epoch   2 Batch  200/269 - Train Accuracy: 0.7251, Validation Accuracy: 0.7411, Loss: 0.3986\n",
      "Epoch   2 Batch  210/269 - Train Accuracy: 0.7741, Validation Accuracy: 0.7594, Loss: 0.3382\n",
      "Epoch   2 Batch  220/269 - Train Accuracy: 0.7632, Validation Accuracy: 0.7595, Loss: 0.3182\n",
      "Epoch   2 Batch  230/269 - Train Accuracy: 0.7637, Validation Accuracy: 0.7699, Loss: 0.3165\n",
      "Epoch   2 Batch  240/269 - Train Accuracy: 0.7997, Validation Accuracy: 0.7730, Loss: 0.2982\n",
      "Epoch   2 Batch  250/269 - Train Accuracy: 0.7930, Validation Accuracy: 0.7824, Loss: 0.3110\n",
      "Epoch   2 Batch  260/269 - Train Accuracy: 0.7735, Validation Accuracy: 0.7888, Loss: 0.3170\n",
      "Epoch   3 Batch   10/269 - Train Accuracy: 0.7893, Validation Accuracy: 0.7851, Loss: 0.2917\n",
      "Epoch   3 Batch   20/269 - Train Accuracy: 0.7933, Validation Accuracy: 0.7971, Loss: 0.2801\n",
      "Epoch   3 Batch   30/269 - Train Accuracy: 0.7941, Validation Accuracy: 0.7876, Loss: 0.2914\n",
      "Epoch   3 Batch   40/269 - Train Accuracy: 0.7923, Validation Accuracy: 0.8013, Loss: 0.2942\n",
      "Epoch   3 Batch   50/269 - Train Accuracy: 0.7852, Validation Accuracy: 0.8196, Loss: 0.2815\n",
      "Epoch   3 Batch   60/269 - Train Accuracy: 0.8168, Validation Accuracy: 0.8149, Loss: 0.2352\n",
      "Epoch   3 Batch   70/269 - Train Accuracy: 0.8266, Validation Accuracy: 0.8128, Loss: 0.2512\n",
      "Epoch   3 Batch   80/269 - Train Accuracy: 0.8275, Validation Accuracy: 0.8182, Loss: 0.2447\n",
      "Epoch   3 Batch   90/269 - Train Accuracy: 0.7971, Validation Accuracy: 0.8192, Loss: 0.2479\n",
      "Epoch   3 Batch  100/269 - Train Accuracy: 0.8344, Validation Accuracy: 0.8251, Loss: 0.2307\n",
      "Epoch   3 Batch  110/269 - Train Accuracy: 0.8331, Validation Accuracy: 0.8488, Loss: 0.2174\n"
     ]
    },
    {
     "name": "stdout",
     "output_type": "stream",
     "text": [
      "Epoch   3 Batch  120/269 - Train Accuracy: 0.8504, Validation Accuracy: 0.8479, Loss: 0.2170\n",
      "Epoch   3 Batch  130/269 - Train Accuracy: 0.8375, Validation Accuracy: 0.8487, Loss: 0.2168\n",
      "Epoch   3 Batch  140/269 - Train Accuracy: 0.8396, Validation Accuracy: 0.8236, Loss: 0.2329\n",
      "Epoch   3 Batch  150/269 - Train Accuracy: 0.8398, Validation Accuracy: 0.8355, Loss: 0.2129\n",
      "Epoch   3 Batch  160/269 - Train Accuracy: 0.8694, Validation Accuracy: 0.8721, Loss: 0.2018\n",
      "Epoch   3 Batch  170/269 - Train Accuracy: 0.8590, Validation Accuracy: 0.8643, Loss: 0.1874\n",
      "Epoch   3 Batch  180/269 - Train Accuracy: 0.8650, Validation Accuracy: 0.8678, Loss: 0.1847\n",
      "Epoch   3 Batch  190/269 - Train Accuracy: 0.8775, Validation Accuracy: 0.8736, Loss: 0.1714\n",
      "Epoch   3 Batch  200/269 - Train Accuracy: 0.8639, Validation Accuracy: 0.8689, Loss: 0.1776\n",
      "Epoch   3 Batch  210/269 - Train Accuracy: 0.8783, Validation Accuracy: 0.8662, Loss: 0.1701\n",
      "Epoch   3 Batch  220/269 - Train Accuracy: 0.8889, Validation Accuracy: 0.8785, Loss: 0.1646\n",
      "Epoch   3 Batch  230/269 - Train Accuracy: 0.8829, Validation Accuracy: 0.8615, Loss: 0.1721\n",
      "Epoch   3 Batch  240/269 - Train Accuracy: 0.8835, Validation Accuracy: 0.8766, Loss: 0.1565\n",
      "Epoch   3 Batch  250/269 - Train Accuracy: 0.8875, Validation Accuracy: 0.8775, Loss: 0.1570\n",
      "Epoch   3 Batch  260/269 - Train Accuracy: 0.8804, Validation Accuracy: 0.8826, Loss: 0.1682\n",
      "Epoch   4 Batch   10/269 - Train Accuracy: 0.8940, Validation Accuracy: 0.8839, Loss: 0.1431\n",
      "Epoch   4 Batch   20/269 - Train Accuracy: 0.8847, Validation Accuracy: 0.8865, Loss: 0.1404\n",
      "Epoch   4 Batch   30/269 - Train Accuracy: 0.8967, Validation Accuracy: 0.8894, Loss: 0.1417\n",
      "Epoch   4 Batch   40/269 - Train Accuracy: 0.8886, Validation Accuracy: 0.9021, Loss: 0.1441\n",
      "Epoch   4 Batch   50/269 - Train Accuracy: 0.8717, Validation Accuracy: 0.8924, Loss: 0.1425\n",
      "Epoch   4 Batch   60/269 - Train Accuracy: 0.8917, Validation Accuracy: 0.8938, Loss: 0.1181\n",
      "Epoch   4 Batch   70/269 - Train Accuracy: 0.9005, Validation Accuracy: 0.8956, Loss: 0.1301\n",
      "Epoch   4 Batch   80/269 - Train Accuracy: 0.9111, Validation Accuracy: 0.8954, Loss: 0.1205\n",
      "Epoch   4 Batch   90/269 - Train Accuracy: 0.8836, Validation Accuracy: 0.8951, Loss: 0.1270\n",
      "Epoch   4 Batch  100/269 - Train Accuracy: 0.9048, Validation Accuracy: 0.8979, Loss: 0.1216\n",
      "Epoch   4 Batch  110/269 - Train Accuracy: 0.9003, Validation Accuracy: 0.8857, Loss: 0.1125\n",
      "Epoch   4 Batch  120/269 - Train Accuracy: 0.9049, Validation Accuracy: 0.9012, Loss: 0.1135\n",
      "Epoch   4 Batch  130/269 - Train Accuracy: 0.9163, Validation Accuracy: 0.8982, Loss: 0.1194\n",
      "Epoch   4 Batch  140/269 - Train Accuracy: 0.8972, Validation Accuracy: 0.9070, Loss: 0.1169\n",
      "Epoch   4 Batch  150/269 - Train Accuracy: 0.9096, Validation Accuracy: 0.9039, Loss: 0.1051\n",
      "Epoch   4 Batch  160/269 - Train Accuracy: 0.9049, Validation Accuracy: 0.9095, Loss: 0.1044\n",
      "Epoch   4 Batch  170/269 - Train Accuracy: 0.9057, Validation Accuracy: 0.9107, Loss: 0.0977\n",
      "Epoch   4 Batch  180/269 - Train Accuracy: 0.9108, Validation Accuracy: 0.9145, Loss: 0.0930\n",
      "Epoch   4 Batch  190/269 - Train Accuracy: 0.9169, Validation Accuracy: 0.9107, Loss: 0.0950\n",
      "Epoch   4 Batch  200/269 - Train Accuracy: 0.9072, Validation Accuracy: 0.9112, Loss: 0.0979\n",
      "Epoch   4 Batch  210/269 - Train Accuracy: 0.9174, Validation Accuracy: 0.9076, Loss: 0.0968\n",
      "Epoch   4 Batch  220/269 - Train Accuracy: 0.9244, Validation Accuracy: 0.9095, Loss: 0.0875\n",
      "Epoch   4 Batch  230/269 - Train Accuracy: 0.9180, Validation Accuracy: 0.9157, Loss: 0.0930\n",
      "Epoch   4 Batch  240/269 - Train Accuracy: 0.9138, Validation Accuracy: 0.9167, Loss: 0.1002\n",
      "Epoch   4 Batch  250/269 - Train Accuracy: 0.9152, Validation Accuracy: 0.9168, Loss: 0.0960\n",
      "Epoch   4 Batch  260/269 - Train Accuracy: 0.9017, Validation Accuracy: 0.9164, Loss: 0.0973\n",
      "Epoch   5 Batch   10/269 - Train Accuracy: 0.9181, Validation Accuracy: 0.9180, Loss: 0.0798\n",
      "Epoch   5 Batch   20/269 - Train Accuracy: 0.9045, Validation Accuracy: 0.9201, Loss: 0.0789\n",
      "Epoch   5 Batch   30/269 - Train Accuracy: 0.9249, Validation Accuracy: 0.9245, Loss: 0.0761\n",
      "Epoch   5 Batch   40/269 - Train Accuracy: 0.9064, Validation Accuracy: 0.9251, Loss: 0.0840\n",
      "Epoch   5 Batch   50/269 - Train Accuracy: 0.8987, Validation Accuracy: 0.9246, Loss: 0.0908\n",
      "Epoch   5 Batch   60/269 - Train Accuracy: 0.9198, Validation Accuracy: 0.9253, Loss: 0.0709\n",
      "Epoch   5 Batch   70/269 - Train Accuracy: 0.9275, Validation Accuracy: 0.9200, Loss: 0.0819\n",
      "Epoch   5 Batch   80/269 - Train Accuracy: 0.9201, Validation Accuracy: 0.9278, Loss: 0.0782\n",
      "Epoch   5 Batch   90/269 - Train Accuracy: 0.9213, Validation Accuracy: 0.9219, Loss: 0.0846\n",
      "Epoch   5 Batch  100/269 - Train Accuracy: 0.9262, Validation Accuracy: 0.9211, Loss: 0.0759\n",
      "Epoch   5 Batch  110/269 - Train Accuracy: 0.9231, Validation Accuracy: 0.9337, Loss: 0.0684\n",
      "Epoch   5 Batch  120/269 - Train Accuracy: 0.9272, Validation Accuracy: 0.9261, Loss: 0.0747\n",
      "Epoch   5 Batch  130/269 - Train Accuracy: 0.9314, Validation Accuracy: 0.9321, Loss: 0.0790\n",
      "Epoch   5 Batch  140/269 - Train Accuracy: 0.9216, Validation Accuracy: 0.9335, Loss: 0.0767\n",
      "Epoch   5 Batch  150/269 - Train Accuracy: 0.9175, Validation Accuracy: 0.9357, Loss: 0.0735\n",
      "Epoch   5 Batch  160/269 - Train Accuracy: 0.9213, Validation Accuracy: 0.9324, Loss: 0.0696\n",
      "Epoch   5 Batch  170/269 - Train Accuracy: 0.9130, Validation Accuracy: 0.9232, Loss: 0.0617\n",
      "Epoch   5 Batch  180/269 - Train Accuracy: 0.9342, Validation Accuracy: 0.9354, Loss: 0.0641\n",
      "Epoch   5 Batch  190/269 - Train Accuracy: 0.9311, Validation Accuracy: 0.9259, Loss: 0.0669\n",
      "Epoch   5 Batch  200/269 - Train Accuracy: 0.9276, Validation Accuracy: 0.9376, Loss: 0.0687\n",
      "Epoch   5 Batch  210/269 - Train Accuracy: 0.9273, Validation Accuracy: 0.9283, Loss: 0.0648\n",
      "Epoch   5 Batch  220/269 - Train Accuracy: 0.9356, Validation Accuracy: 0.9397, Loss: 0.0640\n",
      "Epoch   5 Batch  230/269 - Train Accuracy: 0.9382, Validation Accuracy: 0.9429, Loss: 0.0662\n",
      "Epoch   5 Batch  240/269 - Train Accuracy: 0.9371, Validation Accuracy: 0.9391, Loss: 0.0629\n",
      "Epoch   5 Batch  250/269 - Train Accuracy: 0.9326, Validation Accuracy: 0.9292, Loss: 0.0647\n",
      "Epoch   5 Batch  260/269 - Train Accuracy: 0.9244, Validation Accuracy: 0.9291, Loss: 0.0767\n",
      "Epoch   6 Batch   10/269 - Train Accuracy: 0.9364, Validation Accuracy: 0.9308, Loss: 0.0580\n",
      "Epoch   6 Batch   20/269 - Train Accuracy: 0.9302, Validation Accuracy: 0.9323, Loss: 0.0592\n",
      "Epoch   6 Batch   30/269 - Train Accuracy: 0.9351, Validation Accuracy: 0.9387, Loss: 0.0630\n",
      "Epoch   6 Batch   40/269 - Train Accuracy: 0.9150, Validation Accuracy: 0.9352, Loss: 0.0664\n",
      "Epoch   6 Batch   50/269 - Train Accuracy: 0.9097, Validation Accuracy: 0.9339, Loss: 0.0677\n",
      "Epoch   6 Batch   60/269 - Train Accuracy: 0.9346, Validation Accuracy: 0.9397, Loss: 0.0569\n",
      "Epoch   6 Batch   70/269 - Train Accuracy: 0.9339, Validation Accuracy: 0.9301, Loss: 0.0595\n",
      "Epoch   6 Batch   80/269 - Train Accuracy: 0.9325, Validation Accuracy: 0.9433, Loss: 0.0598\n",
      "Epoch   6 Batch   90/269 - Train Accuracy: 0.9363, Validation Accuracy: 0.9355, Loss: 0.0596\n",
      "Epoch   6 Batch  100/269 - Train Accuracy: 0.9436, Validation Accuracy: 0.9376, Loss: 0.0578\n",
      "Epoch   6 Batch  110/269 - Train Accuracy: 0.9341, Validation Accuracy: 0.9395, Loss: 0.0551\n",
      "Epoch   6 Batch  120/269 - Train Accuracy: 0.9414, Validation Accuracy: 0.9307, Loss: 0.0618\n",
      "Epoch   6 Batch  130/269 - Train Accuracy: 0.9439, Validation Accuracy: 0.9393, Loss: 0.0630\n",
      "Epoch   6 Batch  140/269 - Train Accuracy: 0.9382, Validation Accuracy: 0.9391, Loss: 0.0619\n",
      "Epoch   6 Batch  150/269 - Train Accuracy: 0.9399, Validation Accuracy: 0.9379, Loss: 0.0564\n",
      "Epoch   6 Batch  160/269 - Train Accuracy: 0.9272, Validation Accuracy: 0.9369, Loss: 0.0525\n",
      "Epoch   6 Batch  170/269 - Train Accuracy: 0.9470, Validation Accuracy: 0.9456, Loss: 0.0511\n",
      "Epoch   6 Batch  180/269 - Train Accuracy: 0.9434, Validation Accuracy: 0.9461, Loss: 0.0523\n",
      "Epoch   6 Batch  190/269 - Train Accuracy: 0.9375, Validation Accuracy: 0.9468, Loss: 0.0513\n",
      "Epoch   6 Batch  200/269 - Train Accuracy: 0.9413, Validation Accuracy: 0.9466, Loss: 0.0497\n",
      "Epoch   6 Batch  210/269 - Train Accuracy: 0.9472, Validation Accuracy: 0.9458, Loss: 0.0517\n",
      "Epoch   6 Batch  220/269 - Train Accuracy: 0.9444, Validation Accuracy: 0.9444, Loss: 0.0497\n"
     ]
    },
    {
     "name": "stdout",
     "output_type": "stream",
     "text": [
      "Epoch   6 Batch  230/269 - Train Accuracy: 0.9475, Validation Accuracy: 0.9494, Loss: 0.0529\n",
      "Epoch   6 Batch  240/269 - Train Accuracy: 0.9377, Validation Accuracy: 0.9445, Loss: 0.0491\n",
      "Epoch   6 Batch  250/269 - Train Accuracy: 0.9406, Validation Accuracy: 0.9371, Loss: 0.0505\n",
      "Epoch   6 Batch  260/269 - Train Accuracy: 0.9373, Validation Accuracy: 0.9420, Loss: 0.0608\n",
      "Epoch   7 Batch   10/269 - Train Accuracy: 0.8951, Validation Accuracy: 0.8827, Loss: 0.1975\n",
      "Epoch   7 Batch   20/269 - Train Accuracy: 0.9173, Validation Accuracy: 0.9173, Loss: 0.0950\n",
      "Epoch   7 Batch   30/269 - Train Accuracy: 0.9305, Validation Accuracy: 0.9325, Loss: 0.0659\n",
      "Epoch   7 Batch   40/269 - Train Accuracy: 0.9266, Validation Accuracy: 0.9419, Loss: 0.0640\n",
      "Epoch   7 Batch   50/269 - Train Accuracy: 0.9230, Validation Accuracy: 0.9360, Loss: 0.0636\n",
      "Epoch   7 Batch   60/269 - Train Accuracy: 0.9332, Validation Accuracy: 0.9402, Loss: 0.0504\n",
      "Epoch   7 Batch   70/269 - Train Accuracy: 0.9449, Validation Accuracy: 0.9428, Loss: 0.0504\n",
      "Epoch   7 Batch   80/269 - Train Accuracy: 0.9382, Validation Accuracy: 0.9468, Loss: 0.0516\n",
      "Epoch   7 Batch   90/269 - Train Accuracy: 0.9461, Validation Accuracy: 0.9489, Loss: 0.0532\n",
      "Epoch   7 Batch  100/269 - Train Accuracy: 0.9450, Validation Accuracy: 0.9471, Loss: 0.0489\n",
      "Epoch   7 Batch  110/269 - Train Accuracy: 0.9401, Validation Accuracy: 0.9458, Loss: 0.0431\n",
      "Epoch   7 Batch  120/269 - Train Accuracy: 0.9402, Validation Accuracy: 0.9365, Loss: 0.0476\n",
      "Epoch   7 Batch  130/269 - Train Accuracy: 0.9350, Validation Accuracy: 0.9330, Loss: 0.0520\n",
      "Epoch   7 Batch  140/269 - Train Accuracy: 0.9327, Validation Accuracy: 0.9498, Loss: 0.0534\n",
      "Epoch   7 Batch  150/269 - Train Accuracy: 0.9427, Validation Accuracy: 0.9442, Loss: 0.0510\n",
      "Epoch   7 Batch  160/269 - Train Accuracy: 0.9390, Validation Accuracy: 0.9506, Loss: 0.0452\n",
      "Epoch   7 Batch  170/269 - Train Accuracy: 0.9419, Validation Accuracy: 0.9478, Loss: 0.0429\n",
      "Epoch   7 Batch  180/269 - Train Accuracy: 0.9539, Validation Accuracy: 0.9553, Loss: 0.0422\n",
      "Epoch   7 Batch  190/269 - Train Accuracy: 0.9411, Validation Accuracy: 0.9555, Loss: 0.0409\n",
      "Epoch   7 Batch  200/269 - Train Accuracy: 0.9517, Validation Accuracy: 0.9486, Loss: 0.0375\n",
      "Epoch   7 Batch  210/269 - Train Accuracy: 0.9416, Validation Accuracy: 0.9430, Loss: 0.0424\n",
      "Epoch   7 Batch  220/269 - Train Accuracy: 0.9547, Validation Accuracy: 0.9492, Loss: 0.0430\n",
      "Epoch   7 Batch  230/269 - Train Accuracy: 0.9598, Validation Accuracy: 0.9515, Loss: 0.0429\n",
      "Epoch   7 Batch  240/269 - Train Accuracy: 0.9438, Validation Accuracy: 0.9514, Loss: 0.0408\n",
      "Epoch   7 Batch  250/269 - Train Accuracy: 0.9529, Validation Accuracy: 0.9474, Loss: 0.0392\n",
      "Epoch   7 Batch  260/269 - Train Accuracy: 0.9475, Validation Accuracy: 0.9472, Loss: 0.0523\n",
      "Epoch   8 Batch   10/269 - Train Accuracy: 0.9536, Validation Accuracy: 0.9518, Loss: 0.0352\n",
      "Epoch   8 Batch   20/269 - Train Accuracy: 0.9451, Validation Accuracy: 0.9471, Loss: 0.0391\n",
      "Epoch   8 Batch   30/269 - Train Accuracy: 0.9549, Validation Accuracy: 0.9491, Loss: 0.0397\n",
      "Epoch   8 Batch   40/269 - Train Accuracy: 0.9437, Validation Accuracy: 0.9533, Loss: 0.0415\n",
      "Epoch   8 Batch   50/269 - Train Accuracy: 0.9351, Validation Accuracy: 0.9474, Loss: 0.0500\n",
      "Epoch   8 Batch   60/269 - Train Accuracy: 0.9433, Validation Accuracy: 0.9527, Loss: 0.0374\n",
      "Epoch   8 Batch   70/269 - Train Accuracy: 0.9600, Validation Accuracy: 0.9482, Loss: 0.0411\n",
      "Epoch   8 Batch   80/269 - Train Accuracy: 0.9522, Validation Accuracy: 0.9521, Loss: 0.0452\n",
      "Epoch   8 Batch   90/269 - Train Accuracy: 0.9466, Validation Accuracy: 0.9472, Loss: 0.0405\n",
      "Epoch   8 Batch  100/269 - Train Accuracy: 0.9518, Validation Accuracy: 0.9495, Loss: 0.0401\n",
      "Epoch   8 Batch  110/269 - Train Accuracy: 0.9535, Validation Accuracy: 0.9500, Loss: 0.0357\n",
      "Epoch   8 Batch  120/269 - Train Accuracy: 0.9490, Validation Accuracy: 0.9476, Loss: 0.0402\n",
      "Epoch   8 Batch  130/269 - Train Accuracy: 0.9521, Validation Accuracy: 0.9518, Loss: 0.0426\n",
      "Epoch   8 Batch  140/269 - Train Accuracy: 0.9478, Validation Accuracy: 0.9572, Loss: 0.0447\n",
      "Epoch   8 Batch  150/269 - Train Accuracy: 0.9541, Validation Accuracy: 0.9519, Loss: 0.0399\n",
      "Epoch   8 Batch  160/269 - Train Accuracy: 0.9524, Validation Accuracy: 0.9494, Loss: 0.0346\n",
      "Epoch   8 Batch  170/269 - Train Accuracy: 0.9537, Validation Accuracy: 0.9550, Loss: 0.0364\n",
      "Epoch   8 Batch  180/269 - Train Accuracy: 0.9630, Validation Accuracy: 0.9561, Loss: 0.0363\n",
      "Epoch   8 Batch  190/269 - Train Accuracy: 0.9573, Validation Accuracy: 0.9636, Loss: 0.0354\n",
      "Epoch   8 Batch  200/269 - Train Accuracy: 0.9596, Validation Accuracy: 0.9537, Loss: 0.0355\n",
      "Epoch   8 Batch  210/269 - Train Accuracy: 0.9586, Validation Accuracy: 0.9498, Loss: 0.0337\n",
      "Epoch   8 Batch  220/269 - Train Accuracy: 0.9610, Validation Accuracy: 0.9612, Loss: 0.0377\n",
      "Epoch   8 Batch  230/269 - Train Accuracy: 0.9632, Validation Accuracy: 0.9585, Loss: 0.0342\n",
      "Epoch   8 Batch  240/269 - Train Accuracy: 0.9543, Validation Accuracy: 0.9502, Loss: 0.0350\n",
      "Epoch   8 Batch  250/269 - Train Accuracy: 0.9544, Validation Accuracy: 0.9575, Loss: 0.0362\n",
      "Epoch   8 Batch  260/269 - Train Accuracy: 0.9593, Validation Accuracy: 0.9521, Loss: 0.0440\n",
      "Epoch   9 Batch   10/269 - Train Accuracy: 0.9524, Validation Accuracy: 0.9513, Loss: 0.0298\n",
      "Epoch   9 Batch   20/269 - Train Accuracy: 0.9606, Validation Accuracy: 0.9610, Loss: 0.0357\n",
      "Epoch   9 Batch   30/269 - Train Accuracy: 0.9572, Validation Accuracy: 0.9551, Loss: 0.0333\n",
      "Epoch   9 Batch   40/269 - Train Accuracy: 0.9469, Validation Accuracy: 0.9559, Loss: 0.0409\n",
      "Epoch   9 Batch   50/269 - Train Accuracy: 0.9407, Validation Accuracy: 0.9579, Loss: 0.0479\n",
      "Epoch   9 Batch   60/269 - Train Accuracy: 0.9493, Validation Accuracy: 0.9596, Loss: 0.0347\n",
      "Epoch   9 Batch   70/269 - Train Accuracy: 0.9666, Validation Accuracy: 0.9553, Loss: 0.0363\n",
      "Epoch   9 Batch   80/269 - Train Accuracy: 0.9574, Validation Accuracy: 0.9567, Loss: 0.0340\n",
      "Epoch   9 Batch   90/269 - Train Accuracy: 0.9553, Validation Accuracy: 0.9537, Loss: 0.0358\n",
      "Epoch   9 Batch  100/269 - Train Accuracy: 0.9527, Validation Accuracy: 0.9566, Loss: 0.0382\n",
      "Epoch   9 Batch  110/269 - Train Accuracy: 0.9561, Validation Accuracy: 0.9572, Loss: 0.0312\n",
      "Epoch   9 Batch  120/269 - Train Accuracy: 0.9562, Validation Accuracy: 0.9531, Loss: 0.0367\n",
      "Epoch   9 Batch  130/269 - Train Accuracy: 0.9571, Validation Accuracy: 0.9609, Loss: 0.0360\n",
      "Epoch   9 Batch  140/269 - Train Accuracy: 0.9541, Validation Accuracy: 0.9617, Loss: 0.0377\n",
      "Epoch   9 Batch  150/269 - Train Accuracy: 0.9638, Validation Accuracy: 0.9624, Loss: 0.0376\n",
      "Epoch   9 Batch  160/269 - Train Accuracy: 0.9621, Validation Accuracy: 0.9670, Loss: 0.0327\n",
      "Epoch   9 Batch  170/269 - Train Accuracy: 0.9543, Validation Accuracy: 0.9599, Loss: 0.0316\n",
      "Epoch   9 Batch  180/269 - Train Accuracy: 0.9659, Validation Accuracy: 0.9638, Loss: 0.0313\n",
      "Epoch   9 Batch  190/269 - Train Accuracy: 0.9648, Validation Accuracy: 0.9650, Loss: 0.0345\n",
      "Epoch   9 Batch  200/269 - Train Accuracy: 0.9594, Validation Accuracy: 0.9609, Loss: 0.0293\n",
      "Epoch   9 Batch  210/269 - Train Accuracy: 0.9648, Validation Accuracy: 0.9487, Loss: 0.0326\n",
      "Epoch   9 Batch  220/269 - Train Accuracy: 0.9611, Validation Accuracy: 0.9628, Loss: 0.0312\n",
      "Epoch   9 Batch  230/269 - Train Accuracy: 0.9680, Validation Accuracy: 0.9632, Loss: 0.0316\n",
      "Epoch   9 Batch  240/269 - Train Accuracy: 0.9560, Validation Accuracy: 0.9593, Loss: 0.0294\n",
      "Epoch   9 Batch  250/269 - Train Accuracy: 0.9604, Validation Accuracy: 0.9619, Loss: 0.0310\n",
      "Epoch   9 Batch  260/269 - Train Accuracy: 0.9608, Validation Accuracy: 0.9623, Loss: 0.0387\n",
      "Model Trained and Saved\n"
     ]
    }
   ],
   "source": [
    "\"\"\"\n",
    "DON'T MODIFY ANYTHING IN THIS CELL\n",
    "\"\"\"\n",
    "def get_accuracy(target, logits):\n",
    "    \"\"\"\n",
    "    Calculate accuracy\n",
    "    \"\"\"\n",
    "    max_seq = max(target.shape[1], logits.shape[1])\n",
    "    if max_seq - target.shape[1]:\n",
    "        target = np.pad(\n",
    "            target,\n",
    "            [(0,0),(0,max_seq - target.shape[1])],\n",
    "            'constant')\n",
    "    if max_seq - logits.shape[1]:\n",
    "        logits = np.pad(\n",
    "            logits,\n",
    "            [(0,0),(0,max_seq - logits.shape[1])],\n",
    "            'constant')\n",
    "\n",
    "    return np.mean(np.equal(target, logits))\n",
    "\n",
    "# Split data to training and validation sets\n",
    "train_source = source_int_text[batch_size:]\n",
    "train_target = target_int_text[batch_size:]\n",
    "valid_source = source_int_text[:batch_size]\n",
    "valid_target = target_int_text[:batch_size]\n",
    "(valid_sources_batch, valid_targets_batch, valid_sources_lengths, valid_targets_lengths ) = next(get_batches(valid_source,\n",
    "                                                                                                             valid_target,\n",
    "                                                                                                             batch_size,\n",
    "                                                                                                             source_vocab_to_int['<PAD>'],\n",
    "                                                                                                             target_vocab_to_int['<PAD>']))                                                                                                  \n",
    "with tf.Session(graph=train_graph) as sess:\n",
    "    sess.run(tf.global_variables_initializer())\n",
    "\n",
    "    for epoch_i in range(epochs):\n",
    "        for batch_i, (source_batch, target_batch, sources_lengths, targets_lengths) in enumerate(\n",
    "                get_batches(train_source, train_target, batch_size,\n",
    "                            source_vocab_to_int['<PAD>'],\n",
    "                            target_vocab_to_int['<PAD>'])):\n",
    "\n",
    "            _, loss = sess.run(\n",
    "                [train_op, cost],\n",
    "                {input_data: source_batch,\n",
    "                 targets: target_batch,\n",
    "                 lr: learning_rate,\n",
    "                 target_sequence_length: targets_lengths,\n",
    "                 source_sequence_length: sources_lengths,\n",
    "                 keep_prob: keep_probability})\n",
    "\n",
    "\n",
    "            if batch_i % display_step == 0 and batch_i > 0:\n",
    "\n",
    "\n",
    "                batch_train_logits = sess.run(\n",
    "                    inference_logits,\n",
    "                    {input_data: source_batch,\n",
    "                     source_sequence_length: sources_lengths,\n",
    "                     target_sequence_length: targets_lengths,\n",
    "                     keep_prob: 1.0})\n",
    "\n",
    "\n",
    "                batch_valid_logits = sess.run(\n",
    "                    inference_logits,\n",
    "                    {input_data: valid_sources_batch,\n",
    "                     source_sequence_length: valid_sources_lengths,\n",
    "                     target_sequence_length: valid_targets_lengths,\n",
    "                     keep_prob: 1.0})\n",
    "\n",
    "                train_acc = get_accuracy(target_batch, batch_train_logits)\n",
    "\n",
    "                valid_acc = get_accuracy(valid_targets_batch, batch_valid_logits)\n",
    "\n",
    "                print('Epoch {:>3} Batch {:>4}/{} - Train Accuracy: {:>6.4f}, Validation Accuracy: {:>6.4f}, Loss: {:>6.4f}'\n",
    "                      .format(epoch_i, batch_i, len(source_int_text) // batch_size, train_acc, valid_acc, loss))\n",
    "\n",
    "    # Save Model\n",
    "    saver = tf.train.Saver()\n",
    "    saver.save(sess, save_path)\n",
    "    print('Model Trained and Saved')"
   ]
  },
  {
   "cell_type": "markdown",
   "metadata": {},
   "source": [
    "### Save Parameters\n",
    "Save the `batch_size` and `save_path` parameters for inference."
   ]
  },
  {
   "cell_type": "code",
   "execution_count": 20,
   "metadata": {
    "collapsed": true
   },
   "outputs": [],
   "source": [
    "\"\"\"\n",
    "DON'T MODIFY ANYTHING IN THIS CELL\n",
    "\"\"\"\n",
    "# Save parameters for checkpoint\n",
    "helper.save_params(save_path)"
   ]
  },
  {
   "cell_type": "markdown",
   "metadata": {},
   "source": [
    "# Checkpoint"
   ]
  },
  {
   "cell_type": "code",
   "execution_count": 21,
   "metadata": {
    "collapsed": true
   },
   "outputs": [],
   "source": [
    "\"\"\"\n",
    "DON'T MODIFY ANYTHING IN THIS CELL\n",
    "\"\"\"\n",
    "import tensorflow as tf\n",
    "import numpy as np\n",
    "import helper\n",
    "import problem_unittests as tests\n",
    "\n",
    "_, (source_vocab_to_int, target_vocab_to_int), (source_int_to_vocab, target_int_to_vocab) = helper.load_preprocess()\n",
    "load_path = helper.load_params()"
   ]
  },
  {
   "cell_type": "markdown",
   "metadata": {},
   "source": [
    "## Sentence to Sequence\n",
    "To feed a sentence into the model for translation, you first need to preprocess it.  Implement the function `sentence_to_seq()` to preprocess new sentences.\n",
    "\n",
    "- Convert the sentence to lowercase\n",
    "- Convert words into ids using `vocab_to_int`\n",
    " - Convert words not in the vocabulary, to the `<UNK>` word id."
   ]
  },
  {
   "cell_type": "code",
   "execution_count": 22,
   "metadata": {},
   "outputs": [
    {
     "name": "stdout",
     "output_type": "stream",
     "text": [
      "Tests Passed\n"
     ]
    }
   ],
   "source": [
    "def sentence_to_seq(sentence, vocab_to_int):\n",
    "    \"\"\"\n",
    "    Convert a sentence to a sequence of ids\n",
    "    :param sentence: String\n",
    "    :param vocab_to_int: Dictionary to go from the words to an id\n",
    "    :return: List of word ids\n",
    "    \"\"\"\n",
    "    sentence = sentence.lower()\n",
    "    word_list = []\n",
    "    for word in sentence.split():\n",
    "        try:\n",
    "            word_list.append(vocab_to_int[word])\n",
    "        except KeyError:\n",
    "            word_list.append(vocab_to_int['<UNK>'])\n",
    "    \n",
    "    return word_list\n",
    "\n",
    "\n",
    "\"\"\"\n",
    "DON'T MODIFY ANYTHING IN THIS CELL THAT IS BELOW THIS LINE\n",
    "\"\"\"\n",
    "tests.test_sentence_to_seq(sentence_to_seq)"
   ]
  },
  {
   "cell_type": "markdown",
   "metadata": {},
   "source": [
    "## Translate\n",
    "This will translate `translate_sentence` from English to French."
   ]
  },
  {
   "cell_type": "code",
   "execution_count": 23,
   "metadata": {},
   "outputs": [
    {
     "name": "stdout",
     "output_type": "stream",
     "text": [
      "INFO:tensorflow:Restoring parameters from checkpoints/dev\n",
      "Input\n",
      "  Word Ids:      [115, 179, 8, 149, 165, 124, 64]\n",
      "  English Words: ['he', 'saw', 'a', 'old', 'yellow', 'truck', '.']\n",
      "\n",
      "Prediction\n",
      "  Word Ids:      [197, 24, 152, 260, 270, 297, 1]\n",
      "  French Words: il est relaxant en septembre . <EOS>\n"
     ]
    }
   ],
   "source": [
    "translate_sentence = 'he saw a old yellow truck .'\n",
    "\n",
    "\n",
    "\"\"\"\n",
    "DON'T MODIFY ANYTHING IN THIS CELL\n",
    "\"\"\"\n",
    "translate_sentence = sentence_to_seq(translate_sentence, source_vocab_to_int)\n",
    "\n",
    "loaded_graph = tf.Graph()\n",
    "with tf.Session(graph=loaded_graph) as sess:\n",
    "    # Load saved model\n",
    "    loader = tf.train.import_meta_graph(load_path + '.meta')\n",
    "    loader.restore(sess, load_path)\n",
    "\n",
    "    input_data = loaded_graph.get_tensor_by_name('input:0')\n",
    "    logits = loaded_graph.get_tensor_by_name('predictions:0')\n",
    "    target_sequence_length = loaded_graph.get_tensor_by_name('target_sequence_length:0')\n",
    "    source_sequence_length = loaded_graph.get_tensor_by_name('source_sequence_length:0')\n",
    "    keep_prob = loaded_graph.get_tensor_by_name('keep_prob:0')\n",
    "\n",
    "    translate_logits = sess.run(logits, {input_data: [translate_sentence]*batch_size,\n",
    "                                         target_sequence_length: [len(translate_sentence)*2]*batch_size,\n",
    "                                         source_sequence_length: [len(translate_sentence)]*batch_size,\n",
    "                                         keep_prob: 1.0})[0]\n",
    "\n",
    "print('Input')\n",
    "print('  Word Ids:      {}'.format([i for i in translate_sentence]))\n",
    "print('  English Words: {}'.format([source_int_to_vocab[i] for i in translate_sentence]))\n",
    "\n",
    "print('\\nPrediction')\n",
    "print('  Word Ids:      {}'.format([i for i in translate_logits]))\n",
    "print('  French Words: {}'.format(\" \".join([target_int_to_vocab[i] for i in translate_logits])))\n"
   ]
  },
  {
   "cell_type": "markdown",
   "metadata": {},
   "source": [
    "## Imperfect Translation\n",
    "You might notice that some sentences translate better than others.  Since the dataset you're using only has a vocabulary of 227 English words of the thousands that you use, you're only going to see good results using these words.  For this project, you don't need a perfect translation. However, if you want to create a better translation model, you'll need better data.\n",
    "\n",
    "You can train on the [WMT10 French-English corpus](http://www.statmt.org/wmt10/training-giga-fren.tar).  This dataset has more vocabulary and richer in topics discussed.  However, this will take you days to train, so make sure you've a GPU and the neural network is performing well on dataset we provided.  Just make sure you play with the WMT10 corpus after you've submitted this project.\n",
    "## Submitting This Project\n",
    "When submitting this project, make sure to run all the cells before saving the notebook. Save the notebook file as \"dlnd_language_translation.ipynb\" and save it as a HTML file under \"File\" -> \"Download as\". Include the \"helper.py\" and \"problem_unittests.py\" files in your submission."
   ]
  }
 ],
 "metadata": {
  "anaconda-cloud": {},
  "kernelspec": {
   "display_name": "Python 3",
   "language": "python",
   "name": "python3"
  },
  "language_info": {
   "codemirror_mode": {
    "name": "ipython",
    "version": 3
   },
   "file_extension": ".py",
   "mimetype": "text/x-python",
   "name": "python",
   "nbconvert_exporter": "python",
   "pygments_lexer": "ipython3",
   "version": "3.5.3"
  }
 },
 "nbformat": 4,
 "nbformat_minor": 1
}
