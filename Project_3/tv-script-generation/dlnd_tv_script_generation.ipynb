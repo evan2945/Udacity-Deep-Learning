{
 "cells": [
  {
   "cell_type": "markdown",
   "metadata": {
    "deletable": true,
    "editable": true
   },
   "source": [
    "# TV Script Generation\n",
    "In this project, you'll generate your own [Simpsons](https://en.wikipedia.org/wiki/The_Simpsons) TV scripts using RNNs.  You'll be using part of the [Simpsons dataset](https://www.kaggle.com/wcukierski/the-simpsons-by-the-data) of scripts from 27 seasons.  The Neural Network you'll build will generate a new TV script for a scene at [Moe's Tavern](https://simpsonswiki.com/wiki/Moe's_Tavern).\n",
    "## Get the Data\n",
    "The data is already provided for you.  You'll be using a subset of the original dataset.  It consists of only the scenes in Moe's Tavern.  This doesn't include other versions of the tavern, like \"Moe's Cavern\", \"Flaming Moe's\", \"Uncle Moe's Family Feed-Bag\", etc.."
   ]
  },
  {
   "cell_type": "code",
   "execution_count": 1,
   "metadata": {
    "collapsed": false,
    "deletable": true,
    "editable": true
   },
   "outputs": [],
   "source": [
    "\"\"\"\n",
    "DON'T MODIFY ANYTHING IN THIS CELL\n",
    "\"\"\"\n",
    "import helper\n",
    "\n",
    "data_dir = './data/simpsons/moes_tavern_lines.txt'\n",
    "text = helper.load_data(data_dir)\n",
    "# Ignore notice, since we don't use it for analysing the data\n",
    "text = text[81:]"
   ]
  },
  {
   "cell_type": "markdown",
   "metadata": {
    "deletable": true,
    "editable": true
   },
   "source": [
    "## Explore the Data\n",
    "Play around with `view_sentence_range` to view different parts of the data."
   ]
  },
  {
   "cell_type": "code",
   "execution_count": 2,
   "metadata": {
    "collapsed": false,
    "deletable": true,
    "editable": true
   },
   "outputs": [
    {
     "name": "stdout",
     "output_type": "stream",
     "text": [
      "Dataset Stats\n",
      "Roughly the number of unique words: 11492\n",
      "Number of scenes: 262\n",
      "Average number of sentences in each scene: 15.248091603053435\n",
      "Number of lines: 4257\n",
      "Average number of words in each line: 11.50434578341555\n",
      "\n",
      "The sentences 0 to 10:\n",
      "Moe_Szyslak: (INTO PHONE) Moe's Tavern. Where the elite meet to drink.\n",
      "Bart_Simpson: Eh, yeah, hello, is Mike there? Last name, Rotch.\n",
      "Moe_Szyslak: (INTO PHONE) Hold on, I'll check. (TO BARFLIES) Mike Rotch. Mike Rotch. Hey, has anybody seen Mike Rotch, lately?\n",
      "Moe_Szyslak: (INTO PHONE) Listen you little puke. One of these days I'm gonna catch you, and I'm gonna carve my name on your back with an ice pick.\n",
      "Moe_Szyslak: What's the matter Homer? You're not your normal effervescent self.\n",
      "Homer_Simpson: I got my problems, Moe. Give me another one.\n",
      "Moe_Szyslak: Homer, hey, you should not drink to forget your problems.\n",
      "Barney_Gumble: Yeah, you should only drink to enhance your social skills.\n",
      "\n",
      "\n"
     ]
    }
   ],
   "source": [
    "view_sentence_range = (0, 10)\n",
    "\n",
    "\"\"\"\n",
    "DON'T MODIFY ANYTHING IN THIS CELL\n",
    "\"\"\"\n",
    "import numpy as np\n",
    "\n",
    "print('Dataset Stats')\n",
    "print('Roughly the number of unique words: {}'.format(len({word: None for word in text.split()})))\n",
    "scenes = text.split('\\n\\n')\n",
    "print('Number of scenes: {}'.format(len(scenes)))\n",
    "sentence_count_scene = [scene.count('\\n') for scene in scenes]\n",
    "print('Average number of sentences in each scene: {}'.format(np.average(sentence_count_scene)))\n",
    "\n",
    "sentences = [sentence for scene in scenes for sentence in scene.split('\\n')]\n",
    "print('Number of lines: {}'.format(len(sentences)))\n",
    "word_count_sentence = [len(sentence.split()) for sentence in sentences]\n",
    "print('Average number of words in each line: {}'.format(np.average(word_count_sentence)))\n",
    "\n",
    "print()\n",
    "print('The sentences {} to {}:'.format(*view_sentence_range))\n",
    "print('\\n'.join(text.split('\\n')[view_sentence_range[0]:view_sentence_range[1]]))"
   ]
  },
  {
   "cell_type": "markdown",
   "metadata": {
    "deletable": true,
    "editable": true
   },
   "source": [
    "## Implement Preprocessing Functions\n",
    "The first thing to do to any dataset is preprocessing.  Implement the following preprocessing functions below:\n",
    "- Lookup Table\n",
    "- Tokenize Punctuation\n",
    "\n",
    "### Lookup Table\n",
    "To create a word embedding, you first need to transform the words to ids.  In this function, create two dictionaries:\n",
    "- Dictionary to go from the words to an id, we'll call `vocab_to_int`\n",
    "- Dictionary to go from the id to word, we'll call `int_to_vocab`\n",
    "\n",
    "Return these dictionaries in the following tuple `(vocab_to_int, int_to_vocab)`"
   ]
  },
  {
   "cell_type": "code",
   "execution_count": 3,
   "metadata": {
    "collapsed": false,
    "deletable": true,
    "editable": true
   },
   "outputs": [
    {
     "name": "stdout",
     "output_type": "stream",
     "text": [
      "Tests Passed\n"
     ]
    }
   ],
   "source": [
    "import numpy as np\n",
    "import problem_unittests as tests\n",
    "\n",
    "def create_lookup_tables(text):\n",
    "    \"\"\"\n",
    "    Create lookup tables for vocabulary\n",
    "    :param text: The text of tv scripts split into words\n",
    "    :return: A tuple of dicts (vocab_to_int, int_to_vocab)\n",
    "    \"\"\"\n",
    "    words = list(set(text))\n",
    "    #These can be done in one line each using comprehensions\n",
    "    vocab_to_int = {word: i for i, word in enumerate(words)}\n",
    "    int_to_vocab = {i: word for i, word in enumerate(words)}\n",
    "    return vocab_to_int, int_to_vocab\n",
    "\n",
    "\n",
    "\"\"\"\n",
    "DON'T MODIFY ANYTHING IN THIS CELL THAT IS BELOW THIS LINE\n",
    "\"\"\"\n",
    "tests.test_create_lookup_tables(create_lookup_tables)"
   ]
  },
  {
   "cell_type": "markdown",
   "metadata": {
    "deletable": true,
    "editable": true
   },
   "source": [
    "### Tokenize Punctuation\n",
    "We'll be splitting the script into a word array using spaces as delimiters.  However, punctuations like periods and exclamation marks make it hard for the neural network to distinguish between the word \"bye\" and \"bye!\".\n",
    "\n",
    "Implement the function `token_lookup` to return a dict that will be used to tokenize symbols like \"!\" into \"||Exclamation_Mark||\".  Create a dictionary for the following symbols where the symbol is the key and value is the token:\n",
    "- Period ( . )\n",
    "- Comma ( , )\n",
    "- Quotation Mark ( \" )\n",
    "- Semicolon ( ; )\n",
    "- Exclamation mark ( ! )\n",
    "- Question mark ( ? )\n",
    "- Left Parentheses ( ( )\n",
    "- Right Parentheses ( ) )\n",
    "- Dash ( -- )\n",
    "- Return ( \\n )\n",
    "\n",
    "This dictionary will be used to token the symbols and add the delimiter (space) around it.  This separates the symbols as it's own word, making it easier for the neural network to predict on the next word. Make sure you don't use a token that could be confused as a word. Instead of using the token \"dash\", try using something like \"||dash||\"."
   ]
  },
  {
   "cell_type": "code",
   "execution_count": 4,
   "metadata": {
    "collapsed": false,
    "deletable": true,
    "editable": true
   },
   "outputs": [
    {
     "name": "stdout",
     "output_type": "stream",
     "text": [
      "Tests Passed\n"
     ]
    }
   ],
   "source": [
    "def token_lookup():\n",
    "    \"\"\"\n",
    "    Generate a dict to turn punctuation into a token.\n",
    "    :return: Tokenize dictionary where the key is the punctuation and the value is the token\n",
    "    \"\"\"\n",
    "    #This solution seems pretty brute, but easy. Any way to simplify?\n",
    "    tokenized_symbol = {\n",
    "        '.':  '||Period||',\n",
    "        ',':  '||Comma',\n",
    "        '\"':  '||Quotation_Mark',\n",
    "        ';':  '||Semicolon',\n",
    "        '!':  '||Exclamation_Mark',\n",
    "        '?':  '||Question_Mark',\n",
    "        '(':  '||Left_Parentheses',\n",
    "        ')':  '||Right_Parentheses',\n",
    "        '--': '||Dash||',\n",
    "        '\\n': '||Return||'\n",
    "    }\n",
    "    return tokenized_symbol\n",
    "\n",
    "\"\"\"\n",
    "DON'T MODIFY ANYTHING IN THIS CELL THAT IS BELOW THIS LINE\n",
    "\"\"\"\n",
    "tests.test_tokenize(token_lookup)"
   ]
  },
  {
   "cell_type": "markdown",
   "metadata": {
    "deletable": true,
    "editable": true
   },
   "source": [
    "## Preprocess all the data and save it\n",
    "Running the code cell below will preprocess all the data and save it to file."
   ]
  },
  {
   "cell_type": "code",
   "execution_count": 5,
   "metadata": {
    "collapsed": false,
    "deletable": true,
    "editable": true
   },
   "outputs": [],
   "source": [
    "\"\"\"\n",
    "DON'T MODIFY ANYTHING IN THIS CELL\n",
    "\"\"\"\n",
    "# Preprocess Training, Validation, and Testing Data\n",
    "helper.preprocess_and_save_data(data_dir, token_lookup, create_lookup_tables)"
   ]
  },
  {
   "cell_type": "markdown",
   "metadata": {
    "deletable": true,
    "editable": true
   },
   "source": [
    "# Check Point\n",
    "This is your first checkpoint. If you ever decide to come back to this notebook or have to restart the notebook, you can start from here. The preprocessed data has been saved to disk."
   ]
  },
  {
   "cell_type": "code",
   "execution_count": 6,
   "metadata": {
    "collapsed": false,
    "deletable": true,
    "editable": true
   },
   "outputs": [],
   "source": [
    "\"\"\"\n",
    "DON'T MODIFY ANYTHING IN THIS CELL\n",
    "\"\"\"\n",
    "import helper\n",
    "import numpy as np\n",
    "import problem_unittests as tests\n",
    "\n",
    "int_text, vocab_to_int, int_to_vocab, token_dict = helper.load_preprocess()"
   ]
  },
  {
   "cell_type": "markdown",
   "metadata": {
    "deletable": true,
    "editable": true
   },
   "source": [
    "## Build the Neural Network\n",
    "You'll build the components necessary to build a RNN by implementing the following functions below:\n",
    "- get_inputs\n",
    "- get_init_cell\n",
    "- get_embed\n",
    "- build_rnn\n",
    "- build_nn\n",
    "- get_batches\n",
    "\n",
    "### Check the Version of TensorFlow and Access to GPU"
   ]
  },
  {
   "cell_type": "code",
   "execution_count": 7,
   "metadata": {
    "collapsed": false,
    "deletable": true,
    "editable": true
   },
   "outputs": [
    {
     "name": "stdout",
     "output_type": "stream",
     "text": [
      "TensorFlow Version: 1.0.0\n",
      "Default GPU Device: /gpu:0\n"
     ]
    }
   ],
   "source": [
    "\"\"\"\n",
    "DON'T MODIFY ANYTHING IN THIS CELL\n",
    "\"\"\"\n",
    "from distutils.version import LooseVersion\n",
    "import warnings\n",
    "import tensorflow as tf\n",
    "\n",
    "# Check TensorFlow Version\n",
    "assert LooseVersion(tf.__version__) >= LooseVersion('1.0'), 'Please use TensorFlow version 1.0 or newer'\n",
    "print('TensorFlow Version: {}'.format(tf.__version__))\n",
    "\n",
    "# Check for a GPU\n",
    "if not tf.test.gpu_device_name():\n",
    "    warnings.warn('No GPU found. Please use a GPU to train your neural network.')\n",
    "else:\n",
    "    print('Default GPU Device: {}'.format(tf.test.gpu_device_name()))"
   ]
  },
  {
   "cell_type": "markdown",
   "metadata": {
    "deletable": true,
    "editable": true
   },
   "source": [
    "### Input\n",
    "Implement the `get_inputs()` function to create TF Placeholders for the Neural Network.  It should create the following placeholders:\n",
    "- Input text placeholder named \"input\" using the [TF Placeholder](https://www.tensorflow.org/api_docs/python/tf/placeholder) `name` parameter.\n",
    "- Targets placeholder\n",
    "- Learning Rate placeholder\n",
    "\n",
    "Return the placeholders in the following tuple `(Input, Targets, LearningRate)`"
   ]
  },
  {
   "cell_type": "code",
   "execution_count": 8,
   "metadata": {
    "collapsed": false,
    "deletable": true,
    "editable": true
   },
   "outputs": [
    {
     "name": "stdout",
     "output_type": "stream",
     "text": [
      "Tests Passed\n"
     ]
    }
   ],
   "source": [
    "def get_inputs():\n",
    "    \"\"\"\n",
    "    Create TF Placeholders for input, targets, and learning rate.\n",
    "    :return: Tuple (input, targets, learning rate)\n",
    "    \"\"\"\n",
    "    inputs = tf.placeholder(tf.int32, shape=(None, None), name='input')\n",
    "    targets = tf.placeholder(tf.int32, shape=(None, None), name='targets')\n",
    "    #Learning rate needs to be a float!\n",
    "    learning_rate = tf.placeholder(tf.float32, name='learning_rate')\n",
    "    return inputs, targets, learning_rate\n",
    "\n",
    "\n",
    "\"\"\"\n",
    "DON'T MODIFY ANYTHING IN THIS CELL THAT IS BELOW THIS LINE\n",
    "\"\"\"\n",
    "tests.test_get_inputs(get_inputs)"
   ]
  },
  {
   "cell_type": "markdown",
   "metadata": {
    "deletable": true,
    "editable": true
   },
   "source": [
    "### Build RNN Cell and Initialize\n",
    "Stack one or more [`BasicLSTMCells`](https://www.tensorflow.org/api_docs/python/tf/contrib/rnn/BasicLSTMCell) in a [`MultiRNNCell`](https://www.tensorflow.org/api_docs/python/tf/contrib/rnn/MultiRNNCell).\n",
    "- The Rnn size should be set using `rnn_size`\n",
    "- Initalize Cell State using the MultiRNNCell's [`zero_state()`](https://www.tensorflow.org/api_docs/python/tf/contrib/rnn/MultiRNNCell#zero_state) function\n",
    "    - Apply the name \"initial_state\" to the initial state using [`tf.identity()`](https://www.tensorflow.org/api_docs/python/tf/identity)\n",
    "\n",
    "Return the cell and initial state in the following tuple `(Cell, InitialState)`"
   ]
  },
  {
   "cell_type": "code",
   "execution_count": 9,
   "metadata": {
    "collapsed": false,
    "deletable": true,
    "editable": true
   },
   "outputs": [
    {
     "name": "stdout",
     "output_type": "stream",
     "text": [
      "Tests Passed\n"
     ]
    }
   ],
   "source": [
    "def get_init_cell(batch_size, rnn_size):\n",
    "    \"\"\"\n",
    "    Create an RNN Cell and initialize it.\n",
    "    :param batch_size: Size of batches\n",
    "    :param rnn_size: Size of RNNs\n",
    "    :return: Tuple (cell, initialize state)\n",
    "    \"\"\"\n",
    "    #This is all pretty standard setup\n",
    "    lstm = tf.contrib.rnn.BasicLSTMCell(rnn_size)\n",
    "    \n",
    "    cell = tf.contrib.rnn.MultiRNNCell([lstm])\n",
    "    initial_state = cell.zero_state(batch_size, tf.float32)\n",
    "    initial_state = tf.identity(initial_state, name='initial_state')\n",
    "    return (cell, initial_state)\n",
    "\n",
    "\n",
    "\"\"\"\n",
    "DON'T MODIFY ANYTHING IN THIS CELL THAT IS BELOW THIS LINE\n",
    "\"\"\"\n",
    "tests.test_get_init_cell(get_init_cell)"
   ]
  },
  {
   "cell_type": "markdown",
   "metadata": {
    "deletable": true,
    "editable": true
   },
   "source": [
    "### Word Embedding\n",
    "Apply embedding to `input_data` using TensorFlow.  Return the embedded sequence."
   ]
  },
  {
   "cell_type": "code",
   "execution_count": 10,
   "metadata": {
    "collapsed": false,
    "deletable": true,
    "editable": true
   },
   "outputs": [
    {
     "name": "stdout",
     "output_type": "stream",
     "text": [
      "Tests Passed\n"
     ]
    }
   ],
   "source": [
    "def get_embed(input_data, vocab_size, embed_dim):\n",
    "    \"\"\"\n",
    "    Create embedding for <input_data>.\n",
    "    :param input_data: TF placeholder for text input.\n",
    "    :param vocab_size: Number of words in vocabulary.\n",
    "    :param embed_dim: Number of embedding dimensions\n",
    "    :return: Embedded input.\n",
    "    \"\"\"\n",
    "    #Set up embedding....\n",
    "    embedding = tf.Variable(tf.random_uniform((vocab_size, embed_dim)))\n",
    "    #...then apply to input_data\n",
    "    embed = tf.nn.embedding_lookup(embedding, input_data)\n",
    "    return embed\n",
    "\n",
    "\n",
    "\"\"\"\n",
    "DON'T MODIFY ANYTHING IN THIS CELL THAT IS BELOW THIS LINE\n",
    "\"\"\"\n",
    "tests.test_get_embed(get_embed)"
   ]
  },
  {
   "cell_type": "markdown",
   "metadata": {
    "deletable": true,
    "editable": true
   },
   "source": [
    "### Build RNN\n",
    "You created a RNN Cell in the `get_init_cell()` function.  Time to use the cell to create a RNN.\n",
    "- Build the RNN using the [`tf.nn.dynamic_rnn()`](https://www.tensorflow.org/api_docs/python/tf/nn/dynamic_rnn)\n",
    " - Apply the name \"final_state\" to the final state using [`tf.identity()`](https://www.tensorflow.org/api_docs/python/tf/identity)\n",
    "\n",
    "Return the outputs and final_state state in the following tuple `(Outputs, FinalState)` "
   ]
  },
  {
   "cell_type": "code",
   "execution_count": 11,
   "metadata": {
    "collapsed": false,
    "deletable": true,
    "editable": true
   },
   "outputs": [
    {
     "name": "stdout",
     "output_type": "stream",
     "text": [
      "Tests Passed\n"
     ]
    }
   ],
   "source": [
    "def build_rnn(cell, inputs):\n",
    "    \"\"\"\n",
    "    Create a RNN using a RNN Cell\n",
    "    :param cell: RNN Cell\n",
    "    :param inputs: Input text data\n",
    "    :return: Tuple (Outputs, Final State)\n",
    "    \"\"\"\n",
    "    #Build and return outputs/final state\n",
    "    outputs, final_state = tf.nn.dynamic_rnn(cell, inputs, dtype=tf.float32)\n",
    "    final_state = tf.identity(final_state, name='final_state')\n",
    "    return (outputs, final_state)\n",
    "\n",
    "\n",
    "\"\"\"\n",
    "DON'T MODIFY ANYTHING IN THIS CELL THAT IS BELOW THIS LINE\n",
    "\"\"\"\n",
    "tests.test_build_rnn(build_rnn)"
   ]
  },
  {
   "cell_type": "markdown",
   "metadata": {
    "deletable": true,
    "editable": true
   },
   "source": [
    "### Build the Neural Network\n",
    "Apply the functions you implemented above to:\n",
    "- Apply embedding to `input_data` using your `get_embed(input_data, vocab_size, embed_dim)` function.\n",
    "- Build RNN using `cell` and your `build_rnn(cell, inputs)` function.\n",
    "- Apply a fully connected layer with a linear activation and `vocab_size` as the number of outputs.\n",
    "\n",
    "Return the logits and final state in the following tuple (Logits, FinalState) "
   ]
  },
  {
   "cell_type": "code",
   "execution_count": 12,
   "metadata": {
    "collapsed": false,
    "deletable": true,
    "editable": true
   },
   "outputs": [
    {
     "name": "stdout",
     "output_type": "stream",
     "text": [
      "Tests Passed\n"
     ]
    }
   ],
   "source": [
    "def build_nn(cell, rnn_size, input_data, vocab_size, embed_dim):\n",
    "    \"\"\"\n",
    "    Build part of the neural network\n",
    "    :param cell: RNN cell\n",
    "    :param rnn_size: Size of rnns\n",
    "    :param input_data: Input data\n",
    "    :param vocab_size: Vocabulary size\n",
    "    :param embed_dim: Number of embedding dimensions\n",
    "    :return: Tuple (Logits, FinalState)\n",
    "    \"\"\"\n",
    "    #Applying functions built above\n",
    "    embed = get_embed(input_data, vocab_size, rnn_size)\n",
    "    outputs, finalstate = build_rnn(cell, embed)\n",
    "    weights_initializer = tf.truncated_normal_initializer(stddev=0.1, dtype=tf.float32)\n",
    "    logits = tf.contrib.layers.fully_connected(outputs, vocab_size, activation_fn=None, weights_initializer=weights_initializer)\n",
    "    return logits, finalstate\n",
    "\n",
    "\n",
    "\"\"\"\n",
    "DON'T MODIFY ANYTHING IN THIS CELL THAT IS BELOW THIS LINE\n",
    "\"\"\"\n",
    "tests.test_build_nn(build_nn)"
   ]
  },
  {
   "cell_type": "markdown",
   "metadata": {
    "deletable": true,
    "editable": true
   },
   "source": [
    "### Batches\n",
    "Implement `get_batches` to create batches of input and targets using `int_text`.  The batches should be a Numpy array with the shape `(number of batches, 2, batch size, sequence length)`. Each batch contains two elements:\n",
    "- The first element is a single batch of **input** with the shape `[batch size, sequence length]`\n",
    "- The second element is a single batch of **targets** with the shape `[batch size, sequence length]`\n",
    "\n",
    "If you can't fill the last batch with enough data, drop the last batch.\n",
    "\n",
    "For exmple, `get_batches([1, 2, 3, 4, 5, 6, 7, 8, 9, 10, 11, 12, 13, 14, 15, 16, 17, 18, 19, 20], 3, 2)` would return a Numpy array of the following:\n",
    "```\n",
    "[\n",
    "  # First Batch\n",
    "  [\n",
    "    # Batch of Input\n",
    "    [[ 1  2], [ 7  8], [13 14]]\n",
    "    # Batch of targets\n",
    "    [[ 2  3], [ 8  9], [14 15]]\n",
    "  ]\n",
    "\n",
    "  # Second Batch\n",
    "  [\n",
    "    # Batch of Input\n",
    "    [[ 3  4], [ 9 10], [15 16]]\n",
    "    # Batch of targets\n",
    "    [[ 4  5], [10 11], [16 17]]\n",
    "  ]\n",
    "\n",
    "  # Third Batch\n",
    "  [\n",
    "    # Batch of Input\n",
    "    [[ 5  6], [11 12], [17 18]]\n",
    "    # Batch of targets\n",
    "    [[ 6  7], [12 13], [18  1]]\n",
    "  ]\n",
    "]\n",
    "```\n",
    "\n",
    "Notice that the last target value in the last batch is the first input value of the first batch. In this case, `1`. This is a common technique used when creating sequence batches, although it is rather unintuitive."
   ]
  },
  {
   "cell_type": "code",
   "execution_count": 13,
   "metadata": {
    "collapsed": false,
    "deletable": true,
    "editable": true
   },
   "outputs": [
    {
     "name": "stdout",
     "output_type": "stream",
     "text": [
      "Tests Passed\n"
     ]
    }
   ],
   "source": [
    "def get_batches(int_text, batch_size, seq_length):\n",
    "    \"\"\"\n",
    "    Return batches of input and target\n",
    "    :param int_text: Text with the words replaced by their ids\n",
    "    :param batch_size: The size of batch\n",
    "    :param seq_length: The length of sequence\n",
    "    :return: Batches as a Numpy array\n",
    "    \"\"\"\n",
    "    batches = int(len(int_text) / (batch_size * seq_length))\n",
    "    \n",
    "    #Here, we only want full batches, so we need to modify to drop the last couple of characters\n",
    "    xdata = np.array(int_text[: batches * batch_size * seq_length])\n",
    "    ydata = np.array(int_text[1: batches * batch_size * seq_length + 1])\n",
    "    \n",
    "    ydata[-1] = xdata[0]\n",
    "\n",
    "    x_batches = np.split(xdata.reshape(batch_size, -1), batches, 1)\n",
    "    y_batches = np.split(ydata.reshape(batch_size, -1), batches, 1)\n",
    "\n",
    "    return np.array(list(zip(x_batches, y_batches)))\n",
    "\n",
    "\n",
    "\"\"\"\n",
    "DON'T MODIFY ANYTHING IN THIS CELL THAT IS BELOW THIS LINE\n",
    "\"\"\"\n",
    "tests.test_get_batches(get_batches)"
   ]
  },
  {
   "cell_type": "markdown",
   "metadata": {
    "deletable": true,
    "editable": true
   },
   "source": [
    "## Neural Network Training\n",
    "### Hyperparameters\n",
    "Tune the following parameters:\n",
    "\n",
    "- Set `num_epochs` to the number of epochs.\n",
    "- Set `batch_size` to the batch size.\n",
    "- Set `rnn_size` to the size of the RNNs.\n",
    "- Set `embed_dim` to the size of the embedding.\n",
    "- Set `seq_length` to the length of sequence.\n",
    "- Set `learning_rate` to the learning rate.\n",
    "- Set `show_every_n_batches` to the number of batches the neural network should print progress."
   ]
  },
  {
   "cell_type": "code",
   "execution_count": 17,
   "metadata": {
    "collapsed": true,
    "deletable": true,
    "editable": true
   },
   "outputs": [],
   "source": [
    "#I got a satisfactory result using the below configurations. Are the num_epochs too high?\n",
    "\n",
    "# Number of Epochs\n",
    "num_epochs = 300 #\n",
    "# Batch Size\n",
    "batch_size = 512\n",
    "# RNN Size\n",
    "rnn_size = 256\n",
    "# Embedding Dimension Size\n",
    "embed_dim = 200\n",
    "# Sequence Length\n",
    "seq_length = 7\n",
    "# Learning Rate\n",
    "learning_rate = 0.001\n",
    "# Show stats for every n number of batches\n",
    "show_every_n_batches = 10\n",
    "\n",
    "\"\"\"\n",
    "DON'T MODIFY ANYTHING IN THIS CELL THAT IS BELOW THIS LINE\n",
    "\"\"\"\n",
    "save_dir = './save'"
   ]
  },
  {
   "cell_type": "markdown",
   "metadata": {
    "deletable": true,
    "editable": true
   },
   "source": [
    "### Build the Graph\n",
    "Build the graph using the neural network you implemented."
   ]
  },
  {
   "cell_type": "code",
   "execution_count": 18,
   "metadata": {
    "collapsed": false,
    "deletable": true,
    "editable": true
   },
   "outputs": [],
   "source": [
    "\"\"\"\n",
    "DON'T MODIFY ANYTHING IN THIS CELL\n",
    "\"\"\"\n",
    "from tensorflow.contrib import seq2seq\n",
    "\n",
    "train_graph = tf.Graph()\n",
    "with train_graph.as_default():\n",
    "    vocab_size = len(int_to_vocab)\n",
    "    input_text, targets, lr = get_inputs()\n",
    "    input_data_shape = tf.shape(input_text)\n",
    "    cell, initial_state = get_init_cell(input_data_shape[0], rnn_size)\n",
    "    logits, final_state = build_nn(cell, rnn_size, input_text, vocab_size, embed_dim)\n",
    "\n",
    "    # Probabilities for generating words\n",
    "    probs = tf.nn.softmax(logits, name='probs')\n",
    "\n",
    "    # Loss function\n",
    "    cost = seq2seq.sequence_loss(\n",
    "        logits,\n",
    "        targets,\n",
    "        tf.ones([input_data_shape[0], input_data_shape[1]]))\n",
    "\n",
    "    # Optimizer\n",
    "    optimizer = tf.train.AdamOptimizer(lr)\n",
    "\n",
    "    # Gradient Clipping\n",
    "    gradients = optimizer.compute_gradients(cost)\n",
    "    capped_gradients = [(tf.clip_by_value(grad, -1., 1.), var) for grad, var in gradients if grad is not None]\n",
    "    train_op = optimizer.apply_gradients(capped_gradients)"
   ]
  },
  {
   "cell_type": "markdown",
   "metadata": {
    "deletable": true,
    "editable": true
   },
   "source": [
    "## Train\n",
    "Train the neural network on the preprocessed data.  If you have a hard time getting a good loss, check the [forms](https://discussions.udacity.com/) to see if anyone is having the same problem."
   ]
  },
  {
   "cell_type": "code",
   "execution_count": 19,
   "metadata": {
    "collapsed": false,
    "deletable": true,
    "editable": true
   },
   "outputs": [
    {
     "name": "stdout",
     "output_type": "stream",
     "text": [
      "Epoch   0 Batch    0/19   train_loss = 8.862\n",
      "Epoch   0 Batch   10/19   train_loss = 6.689\n",
      "Epoch   1 Batch    1/19   train_loss = 6.021\n",
      "Epoch   1 Batch   11/19   train_loss = 5.944\n",
      "Epoch   2 Batch    2/19   train_loss = 5.925\n",
      "Epoch   2 Batch   12/19   train_loss = 5.838\n",
      "Epoch   3 Batch    3/19   train_loss = 5.781\n",
      "Epoch   3 Batch   13/19   train_loss = 5.655\n",
      "Epoch   4 Batch    4/19   train_loss = 5.524\n",
      "Epoch   4 Batch   14/19   train_loss = 5.560\n",
      "Epoch   5 Batch    5/19   train_loss = 5.461\n",
      "Epoch   5 Batch   15/19   train_loss = 5.322\n",
      "Epoch   6 Batch    6/19   train_loss = 5.226\n",
      "Epoch   6 Batch   16/19   train_loss = 5.311\n",
      "Epoch   7 Batch    7/19   train_loss = 5.161\n",
      "Epoch   7 Batch   17/19   train_loss = 5.058\n",
      "Epoch   8 Batch    8/19   train_loss = 5.063\n",
      "Epoch   8 Batch   18/19   train_loss = 4.947\n",
      "Epoch   9 Batch    9/19   train_loss = 4.997\n",
      "Epoch  10 Batch    0/19   train_loss = 4.918\n",
      "Epoch  10 Batch   10/19   train_loss = 4.813\n",
      "Epoch  11 Batch    1/19   train_loss = 4.781\n",
      "Epoch  11 Batch   11/19   train_loss = 4.814\n",
      "Epoch  12 Batch    2/19   train_loss = 4.832\n",
      "Epoch  12 Batch   12/19   train_loss = 4.763\n",
      "Epoch  13 Batch    3/19   train_loss = 4.718\n",
      "Epoch  13 Batch   13/19   train_loss = 4.686\n",
      "Epoch  14 Batch    4/19   train_loss = 4.571\n",
      "Epoch  14 Batch   14/19   train_loss = 4.621\n",
      "Epoch  15 Batch    5/19   train_loss = 4.543\n",
      "Epoch  15 Batch   15/19   train_loss = 4.455\n",
      "Epoch  16 Batch    6/19   train_loss = 4.401\n",
      "Epoch  16 Batch   16/19   train_loss = 4.521\n",
      "Epoch  17 Batch    7/19   train_loss = 4.404\n",
      "Epoch  17 Batch   17/19   train_loss = 4.342\n",
      "Epoch  18 Batch    8/19   train_loss = 4.388\n",
      "Epoch  18 Batch   18/19   train_loss = 4.283\n",
      "Epoch  19 Batch    9/19   train_loss = 4.334\n",
      "Epoch  20 Batch    0/19   train_loss = 4.293\n",
      "Epoch  20 Batch   10/19   train_loss = 4.215\n",
      "Epoch  21 Batch    1/19   train_loss = 4.169\n",
      "Epoch  21 Batch   11/19   train_loss = 4.208\n",
      "Epoch  22 Batch    2/19   train_loss = 4.263\n",
      "Epoch  22 Batch   12/19   train_loss = 4.175\n",
      "Epoch  23 Batch    3/19   train_loss = 4.162\n",
      "Epoch  23 Batch   13/19   train_loss = 4.150\n",
      "Epoch  24 Batch    4/19   train_loss = 4.061\n",
      "Epoch  24 Batch   14/19   train_loss = 4.105\n",
      "Epoch  25 Batch    5/19   train_loss = 4.057\n",
      "Epoch  25 Batch   15/19   train_loss = 3.988\n",
      "Epoch  26 Batch    6/19   train_loss = 3.926\n",
      "Epoch  26 Batch   16/19   train_loss = 4.047\n",
      "Epoch  27 Batch    7/19   train_loss = 3.961\n",
      "Epoch  27 Batch   17/19   train_loss = 3.903\n",
      "Epoch  28 Batch    8/19   train_loss = 3.952\n",
      "Epoch  28 Batch   18/19   train_loss = 3.868\n",
      "Epoch  29 Batch    9/19   train_loss = 3.895\n",
      "Epoch  30 Batch    0/19   train_loss = 3.866\n",
      "Epoch  30 Batch   10/19   train_loss = 3.806\n",
      "Epoch  31 Batch    1/19   train_loss = 3.758\n",
      "Epoch  31 Batch   11/19   train_loss = 3.786\n",
      "Epoch  32 Batch    2/19   train_loss = 3.842\n",
      "Epoch  32 Batch   12/19   train_loss = 3.753\n",
      "Epoch  33 Batch    3/19   train_loss = 3.769\n",
      "Epoch  33 Batch   13/19   train_loss = 3.744\n",
      "Epoch  34 Batch    4/19   train_loss = 3.693\n",
      "Epoch  34 Batch   14/19   train_loss = 3.721\n",
      "Epoch  35 Batch    5/19   train_loss = 3.687\n",
      "Epoch  35 Batch   15/19   train_loss = 3.627\n",
      "Epoch  36 Batch    6/19   train_loss = 3.549\n",
      "Epoch  36 Batch   16/19   train_loss = 3.664\n",
      "Epoch  37 Batch    7/19   train_loss = 3.594\n",
      "Epoch  37 Batch   17/19   train_loss = 3.534\n",
      "Epoch  38 Batch    8/19   train_loss = 3.587\n",
      "Epoch  38 Batch   18/19   train_loss = 3.530\n",
      "Epoch  39 Batch    9/19   train_loss = 3.530\n",
      "Epoch  40 Batch    0/19   train_loss = 3.510\n",
      "Epoch  40 Batch   10/19   train_loss = 3.467\n",
      "Epoch  41 Batch    1/19   train_loss = 3.425\n",
      "Epoch  41 Batch   11/19   train_loss = 3.449\n",
      "Epoch  42 Batch    2/19   train_loss = 3.501\n",
      "Epoch  42 Batch   12/19   train_loss = 3.415\n",
      "Epoch  43 Batch    3/19   train_loss = 3.410\n",
      "Epoch  43 Batch   13/19   train_loss = 3.391\n",
      "Epoch  44 Batch    4/19   train_loss = 3.376\n",
      "Epoch  44 Batch   14/19   train_loss = 3.377\n",
      "Epoch  45 Batch    5/19   train_loss = 3.363\n",
      "Epoch  45 Batch   15/19   train_loss = 3.307\n",
      "Epoch  46 Batch    6/19   train_loss = 3.230\n",
      "Epoch  46 Batch   16/19   train_loss = 3.322\n",
      "Epoch  47 Batch    7/19   train_loss = 3.283\n",
      "Epoch  47 Batch   17/19   train_loss = 3.208\n",
      "Epoch  48 Batch    8/19   train_loss = 3.288\n",
      "Epoch  48 Batch   18/19   train_loss = 3.253\n",
      "Epoch  49 Batch    9/19   train_loss = 3.225\n",
      "Epoch  50 Batch    0/19   train_loss = 3.195\n",
      "Epoch  50 Batch   10/19   train_loss = 3.169\n",
      "Epoch  51 Batch    1/19   train_loss = 3.123\n",
      "Epoch  51 Batch   11/19   train_loss = 3.136\n",
      "Epoch  52 Batch    2/19   train_loss = 3.170\n",
      "Epoch  52 Batch   12/19   train_loss = 3.088\n",
      "Epoch  53 Batch    3/19   train_loss = 3.081\n",
      "Epoch  53 Batch   13/19   train_loss = 3.067\n",
      "Epoch  54 Batch    4/19   train_loss = 3.064\n",
      "Epoch  54 Batch   14/19   train_loss = 3.061\n",
      "Epoch  55 Batch    5/19   train_loss = 3.061\n",
      "Epoch  55 Batch   15/19   train_loss = 3.025\n",
      "Epoch  56 Batch    6/19   train_loss = 2.941\n",
      "Epoch  56 Batch   16/19   train_loss = 3.023\n",
      "Epoch  57 Batch    7/19   train_loss = 2.990\n",
      "Epoch  57 Batch   17/19   train_loss = 2.901\n",
      "Epoch  58 Batch    8/19   train_loss = 2.966\n",
      "Epoch  58 Batch   18/19   train_loss = 2.945\n",
      "Epoch  59 Batch    9/19   train_loss = 2.921\n",
      "Epoch  60 Batch    0/19   train_loss = 2.891\n",
      "Epoch  60 Batch   10/19   train_loss = 2.879\n",
      "Epoch  61 Batch    1/19   train_loss = 2.854\n",
      "Epoch  61 Batch   11/19   train_loss = 2.868\n",
      "Epoch  62 Batch    2/19   train_loss = 2.893\n",
      "Epoch  62 Batch   12/19   train_loss = 2.831\n",
      "Epoch  63 Batch    3/19   train_loss = 2.808\n",
      "Epoch  63 Batch   13/19   train_loss = 2.806\n",
      "Epoch  64 Batch    4/19   train_loss = 2.818\n",
      "Epoch  64 Batch   14/19   train_loss = 2.807\n",
      "Epoch  65 Batch    5/19   train_loss = 2.821\n",
      "Epoch  65 Batch   15/19   train_loss = 2.787\n",
      "Epoch  66 Batch    6/19   train_loss = 2.688\n",
      "Epoch  66 Batch   16/19   train_loss = 2.768\n",
      "Epoch  67 Batch    7/19   train_loss = 2.754\n",
      "Epoch  67 Batch   17/19   train_loss = 2.642\n",
      "Epoch  68 Batch    8/19   train_loss = 2.705\n",
      "Epoch  68 Batch   18/19   train_loss = 2.703\n",
      "Epoch  69 Batch    9/19   train_loss = 2.668\n",
      "Epoch  70 Batch    0/19   train_loss = 2.621\n",
      "Epoch  70 Batch   10/19   train_loss = 2.631\n",
      "Epoch  71 Batch    1/19   train_loss = 2.610\n",
      "Epoch  71 Batch   11/19   train_loss = 2.595\n",
      "Epoch  72 Batch    2/19   train_loss = 2.628\n",
      "Epoch  72 Batch   12/19   train_loss = 2.567\n",
      "Epoch  73 Batch    3/19   train_loss = 2.541\n",
      "Epoch  73 Batch   13/19   train_loss = 2.543\n",
      "Epoch  74 Batch    4/19   train_loss = 2.552\n",
      "Epoch  74 Batch   14/19   train_loss = 2.541\n",
      "Epoch  75 Batch    5/19   train_loss = 2.567\n",
      "Epoch  75 Batch   15/19   train_loss = 2.557\n",
      "Epoch  76 Batch    6/19   train_loss = 2.466\n",
      "Epoch  76 Batch   16/19   train_loss = 2.531\n",
      "Epoch  77 Batch    7/19   train_loss = 2.534\n",
      "Epoch  77 Batch   17/19   train_loss = 2.423\n",
      "Epoch  78 Batch    8/19   train_loss = 2.481\n",
      "Epoch  78 Batch   18/19   train_loss = 2.497\n",
      "Epoch  79 Batch    9/19   train_loss = 2.451\n",
      "Epoch  80 Batch    0/19   train_loss = 2.401\n",
      "Epoch  80 Batch   10/19   train_loss = 2.419\n",
      "Epoch  81 Batch    1/19   train_loss = 2.421\n",
      "Epoch  81 Batch   11/19   train_loss = 2.396\n",
      "Epoch  82 Batch    2/19   train_loss = 2.415\n",
      "Epoch  82 Batch   12/19   train_loss = 2.380\n",
      "Epoch  83 Batch    3/19   train_loss = 2.331\n",
      "Epoch  83 Batch   13/19   train_loss = 2.342\n",
      "Epoch  84 Batch    4/19   train_loss = 2.338\n",
      "Epoch  84 Batch   14/19   train_loss = 2.322\n",
      "Epoch  85 Batch    5/19   train_loss = 2.333\n",
      "Epoch  85 Batch   15/19   train_loss = 2.347\n",
      "Epoch  86 Batch    6/19   train_loss = 2.243\n",
      "Epoch  86 Batch   16/19   train_loss = 2.304\n",
      "Epoch  87 Batch    7/19   train_loss = 2.318\n",
      "Epoch  87 Batch   17/19   train_loss = 2.204\n",
      "Epoch  88 Batch    8/19   train_loss = 2.256\n",
      "Epoch  88 Batch   18/19   train_loss = 2.285\n",
      "Epoch  89 Batch    9/19   train_loss = 2.242\n",
      "Epoch  90 Batch    0/19   train_loss = 2.186\n",
      "Epoch  90 Batch   10/19   train_loss = 2.211\n",
      "Epoch  91 Batch    1/19   train_loss = 2.218\n",
      "Epoch  91 Batch   11/19   train_loss = 2.195\n",
      "Epoch  92 Batch    2/19   train_loss = 2.220\n",
      "Epoch  92 Batch   12/19   train_loss = 2.183\n",
      "Epoch  93 Batch    3/19   train_loss = 2.137\n",
      "Epoch  93 Batch   13/19   train_loss = 2.155\n",
      "Epoch  94 Batch    4/19   train_loss = 2.167\n",
      "Epoch  94 Batch   14/19   train_loss = 2.149\n",
      "Epoch  95 Batch    5/19   train_loss = 2.151\n",
      "Epoch  95 Batch   15/19   train_loss = 2.166\n",
      "Epoch  96 Batch    6/19   train_loss = 2.083\n",
      "Epoch  96 Batch   16/19   train_loss = 2.134\n",
      "Epoch  97 Batch    7/19   train_loss = 2.169\n",
      "Epoch  97 Batch   17/19   train_loss = 2.050\n",
      "Epoch  98 Batch    8/19   train_loss = 2.087\n",
      "Epoch  98 Batch   18/19   train_loss = 2.126\n",
      "Epoch  99 Batch    9/19   train_loss = 2.079\n",
      "Epoch 100 Batch    0/19   train_loss = 2.027\n",
      "Epoch 100 Batch   10/19   train_loss = 2.054\n",
      "Epoch 101 Batch    1/19   train_loss = 2.061\n",
      "Epoch 101 Batch   11/19   train_loss = 2.026\n",
      "Epoch 102 Batch    2/19   train_loss = 2.061\n",
      "Epoch 102 Batch   12/19   train_loss = 2.008\n",
      "Epoch 103 Batch    3/19   train_loss = 1.973\n",
      "Epoch 103 Batch   13/19   train_loss = 1.991\n",
      "Epoch 104 Batch    4/19   train_loss = 2.002\n",
      "Epoch 104 Batch   14/19   train_loss = 1.986\n",
      "Epoch 105 Batch    5/19   train_loss = 1.992\n",
      "Epoch 105 Batch   15/19   train_loss = 2.027\n",
      "Epoch 106 Batch    6/19   train_loss = 1.939\n",
      "Epoch 106 Batch   16/19   train_loss = 1.991\n",
      "Epoch 107 Batch    7/19   train_loss = 2.016\n",
      "Epoch 107 Batch   17/19   train_loss = 1.898\n",
      "Epoch 108 Batch    8/19   train_loss = 1.940\n",
      "Epoch 108 Batch   18/19   train_loss = 1.982\n",
      "Epoch 109 Batch    9/19   train_loss = 1.943\n",
      "Epoch 110 Batch    0/19   train_loss = 1.882\n",
      "Epoch 110 Batch   10/19   train_loss = 1.913\n",
      "Epoch 111 Batch    1/19   train_loss = 1.915\n",
      "Epoch 111 Batch   11/19   train_loss = 1.879\n",
      "Epoch 112 Batch    2/19   train_loss = 1.909\n",
      "Epoch 112 Batch   12/19   train_loss = 1.865\n",
      "Epoch 113 Batch    3/19   train_loss = 1.824\n",
      "Epoch 113 Batch   13/19   train_loss = 1.844\n",
      "Epoch 114 Batch    4/19   train_loss = 1.859\n",
      "Epoch 114 Batch   14/19   train_loss = 1.836\n",
      "Epoch 115 Batch    5/19   train_loss = 1.831\n",
      "Epoch 115 Batch   15/19   train_loss = 1.866\n",
      "Epoch 116 Batch    6/19   train_loss = 1.773\n",
      "Epoch 116 Batch   16/19   train_loss = 1.820\n",
      "Epoch 117 Batch    7/19   train_loss = 1.854\n",
      "Epoch 117 Batch   17/19   train_loss = 1.740\n",
      "Epoch 118 Batch    8/19   train_loss = 1.761\n",
      "Epoch 118 Batch   18/19   train_loss = 1.825\n",
      "Epoch 119 Batch    9/19   train_loss = 1.795\n",
      "Epoch 120 Batch    0/19   train_loss = 1.730\n",
      "Epoch 120 Batch   10/19   train_loss = 1.764\n",
      "Epoch 121 Batch    1/19   train_loss = 1.783\n",
      "Epoch 121 Batch   11/19   train_loss = 1.737\n",
      "Epoch 122 Batch    2/19   train_loss = 1.788\n",
      "Epoch 122 Batch   12/19   train_loss = 1.741\n",
      "Epoch 123 Batch    3/19   train_loss = 1.706\n",
      "Epoch 123 Batch   13/19   train_loss = 1.722\n",
      "Epoch 124 Batch    4/19   train_loss = 1.755\n",
      "Epoch 124 Batch   14/19   train_loss = 1.738\n",
      "Epoch 125 Batch    5/19   train_loss = 1.731\n",
      "Epoch 125 Batch   15/19   train_loss = 1.760\n",
      "Epoch 126 Batch    6/19   train_loss = 1.689\n",
      "Epoch 126 Batch   16/19   train_loss = 1.726\n",
      "Epoch 127 Batch    7/19   train_loss = 1.775\n",
      "Epoch 127 Batch   17/19   train_loss = 1.651\n",
      "Epoch 128 Batch    8/19   train_loss = 1.677\n",
      "Epoch 128 Batch   18/19   train_loss = 1.741\n",
      "Epoch 129 Batch    9/19   train_loss = 1.718\n",
      "Epoch 130 Batch    0/19   train_loss = 1.652\n",
      "Epoch 130 Batch   10/19   train_loss = 1.677\n",
      "Epoch 131 Batch    1/19   train_loss = 1.688\n",
      "Epoch 131 Batch   11/19   train_loss = 1.641\n",
      "Epoch 132 Batch    2/19   train_loss = 1.694\n",
      "Epoch 132 Batch   12/19   train_loss = 1.632\n",
      "Epoch 133 Batch    3/19   train_loss = 1.588\n",
      "Epoch 133 Batch   13/19   train_loss = 1.617\n",
      "Epoch 134 Batch    4/19   train_loss = 1.633\n",
      "Epoch 134 Batch   14/19   train_loss = 1.599\n",
      "Epoch 135 Batch    5/19   train_loss = 1.596\n",
      "Epoch 135 Batch   15/19   train_loss = 1.615\n",
      "Epoch 136 Batch    6/19   train_loss = 1.539\n",
      "Epoch 136 Batch   16/19   train_loss = 1.579\n",
      "Epoch 137 Batch    7/19   train_loss = 1.619\n",
      "Epoch 137 Batch   17/19   train_loss = 1.500\n",
      "Epoch 138 Batch    8/19   train_loss = 1.515\n",
      "Epoch 138 Batch   18/19   train_loss = 1.577\n",
      "Epoch 139 Batch    9/19   train_loss = 1.544\n",
      "Epoch 140 Batch    0/19   train_loss = 1.485\n",
      "Epoch 140 Batch   10/19   train_loss = 1.509\n",
      "Epoch 141 Batch    1/19   train_loss = 1.531\n",
      "Epoch 141 Batch   11/19   train_loss = 1.468\n",
      "Epoch 142 Batch    2/19   train_loss = 1.522\n",
      "Epoch 142 Batch   12/19   train_loss = 1.472\n",
      "Epoch 143 Batch    3/19   train_loss = 1.421\n",
      "Epoch 143 Batch   13/19   train_loss = 1.448\n",
      "Epoch 144 Batch    4/19   train_loss = 1.479\n",
      "Epoch 144 Batch   14/19   train_loss = 1.453\n",
      "Epoch 145 Batch    5/19   train_loss = 1.446\n",
      "Epoch 145 Batch   15/19   train_loss = 1.486\n",
      "Epoch 146 Batch    6/19   train_loss = 1.427\n",
      "Epoch 146 Batch   16/19   train_loss = 1.466\n",
      "Epoch 147 Batch    7/19   train_loss = 1.505\n",
      "Epoch 147 Batch   17/19   train_loss = 1.393\n",
      "Epoch 148 Batch    8/19   train_loss = 1.410\n",
      "Epoch 148 Batch   18/19   train_loss = 1.483\n",
      "Epoch 149 Batch    9/19   train_loss = 1.457\n",
      "Epoch 150 Batch    0/19   train_loss = 1.396\n",
      "Epoch 150 Batch   10/19   train_loss = 1.412\n",
      "Epoch 151 Batch    1/19   train_loss = 1.445\n",
      "Epoch 151 Batch   11/19   train_loss = 1.385\n",
      "Epoch 152 Batch    2/19   train_loss = 1.444\n",
      "Epoch 152 Batch   12/19   train_loss = 1.389\n",
      "Epoch 153 Batch    3/19   train_loss = 1.344\n",
      "Epoch 153 Batch   13/19   train_loss = 1.374\n",
      "Epoch 154 Batch    4/19   train_loss = 1.402\n",
      "Epoch 154 Batch   14/19   train_loss = 1.380\n",
      "Epoch 155 Batch    5/19   train_loss = 1.382\n",
      "Epoch 155 Batch   15/19   train_loss = 1.412\n",
      "Epoch 156 Batch    6/19   train_loss = 1.358\n",
      "Epoch 156 Batch   16/19   train_loss = 1.385\n",
      "Epoch 157 Batch    7/19   train_loss = 1.431\n",
      "Epoch 157 Batch   17/19   train_loss = 1.311\n",
      "Epoch 158 Batch    8/19   train_loss = 1.321\n",
      "Epoch 158 Batch   18/19   train_loss = 1.412\n",
      "Epoch 159 Batch    9/19   train_loss = 1.376\n",
      "Epoch 160 Batch    0/19   train_loss = 1.318\n",
      "Epoch 160 Batch   10/19   train_loss = 1.337\n",
      "Epoch 161 Batch    1/19   train_loss = 1.363\n",
      "Epoch 161 Batch   11/19   train_loss = 1.300\n",
      "Epoch 162 Batch    2/19   train_loss = 1.358\n",
      "Epoch 162 Batch   12/19   train_loss = 1.305\n",
      "Epoch 163 Batch    3/19   train_loss = 1.255\n",
      "Epoch 163 Batch   13/19   train_loss = 1.279\n",
      "Epoch 164 Batch    4/19   train_loss = 1.309\n",
      "Epoch 164 Batch   14/19   train_loss = 1.281\n",
      "Epoch 165 Batch    5/19   train_loss = 1.277\n",
      "Epoch 165 Batch   15/19   train_loss = 1.306\n",
      "Epoch 166 Batch    6/19   train_loss = 1.253\n",
      "Epoch 166 Batch   16/19   train_loss = 1.279\n",
      "Epoch 167 Batch    7/19   train_loss = 1.322\n",
      "Epoch 167 Batch   17/19   train_loss = 1.210\n",
      "Epoch 168 Batch    8/19   train_loss = 1.219\n",
      "Epoch 168 Batch   18/19   train_loss = 1.308\n",
      "Epoch 169 Batch    9/19   train_loss = 1.269\n",
      "Epoch 170 Batch    0/19   train_loss = 1.221\n",
      "Epoch 170 Batch   10/19   train_loss = 1.232\n",
      "Epoch 171 Batch    1/19   train_loss = 1.253\n",
      "Epoch 171 Batch   11/19   train_loss = 1.195\n",
      "Epoch 172 Batch    2/19   train_loss = 1.248\n",
      "Epoch 172 Batch   12/19   train_loss = 1.197\n",
      "Epoch 173 Batch    3/19   train_loss = 1.159\n",
      "Epoch 173 Batch   13/19   train_loss = 1.182\n",
      "Epoch 174 Batch    4/19   train_loss = 1.205\n",
      "Epoch 174 Batch   14/19   train_loss = 1.187\n",
      "Epoch 175 Batch    5/19   train_loss = 1.190\n",
      "Epoch 175 Batch   15/19   train_loss = 1.219\n",
      "Epoch 176 Batch    6/19   train_loss = 1.173\n",
      "Epoch 176 Batch   16/19   train_loss = 1.197\n",
      "Epoch 177 Batch    7/19   train_loss = 1.235\n",
      "Epoch 177 Batch   17/19   train_loss = 1.131\n",
      "Epoch 178 Batch    8/19   train_loss = 1.144\n",
      "Epoch 178 Batch   18/19   train_loss = 1.229\n",
      "Epoch 179 Batch    9/19   train_loss = 1.185\n",
      "Epoch 180 Batch    0/19   train_loss = 1.153\n",
      "Epoch 180 Batch   10/19   train_loss = 1.152\n",
      "Epoch 181 Batch    1/19   train_loss = 1.185\n",
      "Epoch 181 Batch   11/19   train_loss = 1.117\n",
      "Epoch 182 Batch    2/19   train_loss = 1.174\n",
      "Epoch 182 Batch   12/19   train_loss = 1.120\n",
      "Epoch 183 Batch    3/19   train_loss = 1.081\n",
      "Epoch 183 Batch   13/19   train_loss = 1.107\n",
      "Epoch 184 Batch    4/19   train_loss = 1.132\n",
      "Epoch 184 Batch   14/19   train_loss = 1.115\n",
      "Epoch 185 Batch    5/19   train_loss = 1.114\n",
      "Epoch 185 Batch   15/19   train_loss = 1.142\n",
      "Epoch 186 Batch    6/19   train_loss = 1.108\n",
      "Epoch 186 Batch   16/19   train_loss = 1.135\n",
      "Epoch 187 Batch    7/19   train_loss = 1.170\n",
      "Epoch 187 Batch   17/19   train_loss = 1.075\n",
      "Epoch 188 Batch    8/19   train_loss = 1.089\n",
      "Epoch 188 Batch   18/19   train_loss = 1.174\n",
      "Epoch 189 Batch    9/19   train_loss = 1.132\n",
      "Epoch 190 Batch    0/19   train_loss = 1.097\n",
      "Epoch 190 Batch   10/19   train_loss = 1.097\n",
      "Epoch 191 Batch    1/19   train_loss = 1.128\n",
      "Epoch 191 Batch   11/19   train_loss = 1.057\n",
      "Epoch 192 Batch    2/19   train_loss = 1.118\n",
      "Epoch 192 Batch   12/19   train_loss = 1.061\n",
      "Epoch 193 Batch    3/19   train_loss = 1.025\n",
      "Epoch 193 Batch   13/19   train_loss = 1.053\n",
      "Epoch 194 Batch    4/19   train_loss = 1.080\n",
      "Epoch 194 Batch   14/19   train_loss = 1.062\n",
      "Epoch 195 Batch    5/19   train_loss = 1.056\n",
      "Epoch 195 Batch   15/19   train_loss = 1.078\n",
      "Epoch 196 Batch    6/19   train_loss = 1.040\n",
      "Epoch 196 Batch   16/19   train_loss = 1.066\n",
      "Epoch 197 Batch    7/19   train_loss = 1.100\n",
      "Epoch 197 Batch   17/19   train_loss = 1.006\n",
      "Epoch 198 Batch    8/19   train_loss = 1.017\n",
      "Epoch 198 Batch   18/19   train_loss = 1.095\n",
      "Epoch 199 Batch    9/19   train_loss = 1.059\n",
      "Epoch 200 Batch    0/19   train_loss = 1.025\n",
      "Epoch 200 Batch   10/19   train_loss = 1.025\n",
      "Epoch 201 Batch    1/19   train_loss = 1.054\n",
      "Epoch 201 Batch   11/19   train_loss = 0.995\n",
      "Epoch 202 Batch    2/19   train_loss = 1.047\n",
      "Epoch 202 Batch   12/19   train_loss = 0.998\n",
      "Epoch 203 Batch    3/19   train_loss = 0.967\n",
      "Epoch 203 Batch   13/19   train_loss = 0.986\n",
      "Epoch 204 Batch    4/19   train_loss = 1.009\n",
      "Epoch 204 Batch   14/19   train_loss = 0.992\n",
      "Epoch 205 Batch    5/19   train_loss = 0.995\n",
      "Epoch 205 Batch   15/19   train_loss = 1.014\n",
      "Epoch 206 Batch    6/19   train_loss = 0.979\n",
      "Epoch 206 Batch   16/19   train_loss = 1.002\n",
      "Epoch 207 Batch    7/19   train_loss = 1.039\n",
      "Epoch 207 Batch   17/19   train_loss = 0.950\n",
      "Epoch 208 Batch    8/19   train_loss = 0.962\n",
      "Epoch 208 Batch   18/19   train_loss = 1.038\n",
      "Epoch 209 Batch    9/19   train_loss = 0.998\n",
      "Epoch 210 Batch    0/19   train_loss = 0.974\n",
      "Epoch 210 Batch   10/19   train_loss = 0.969\n",
      "Epoch 211 Batch    1/19   train_loss = 1.005\n",
      "Epoch 211 Batch   11/19   train_loss = 0.940\n",
      "Epoch 212 Batch    2/19   train_loss = 0.994\n",
      "Epoch 212 Batch   12/19   train_loss = 0.936\n",
      "Epoch 213 Batch    3/19   train_loss = 0.905\n",
      "Epoch 213 Batch   13/19   train_loss = 0.929\n",
      "Epoch 214 Batch    4/19   train_loss = 0.949\n",
      "Epoch 214 Batch   14/19   train_loss = 0.942\n",
      "Epoch 215 Batch    5/19   train_loss = 0.941\n",
      "Epoch 215 Batch   15/19   train_loss = 0.966\n",
      "Epoch 216 Batch    6/19   train_loss = 0.937\n",
      "Epoch 216 Batch   16/19   train_loss = 0.960\n",
      "Epoch 217 Batch    7/19   train_loss = 0.992\n",
      "Epoch 217 Batch   17/19   train_loss = 0.910\n",
      "Epoch 218 Batch    8/19   train_loss = 0.924\n",
      "Epoch 218 Batch   18/19   train_loss = 1.010\n",
      "Epoch 219 Batch    9/19   train_loss = 0.972\n",
      "Epoch 220 Batch    0/19   train_loss = 0.941\n",
      "Epoch 220 Batch   10/19   train_loss = 0.951\n",
      "Epoch 221 Batch    1/19   train_loss = 0.976\n",
      "Epoch 221 Batch   11/19   train_loss = 0.923\n",
      "Epoch 222 Batch    2/19   train_loss = 0.989\n",
      "Epoch 222 Batch   12/19   train_loss = 0.936\n",
      "Epoch 223 Batch    3/19   train_loss = 0.909\n",
      "Epoch 223 Batch   13/19   train_loss = 0.939\n",
      "Epoch 224 Batch    4/19   train_loss = 0.964\n",
      "Epoch 224 Batch   14/19   train_loss = 0.935\n",
      "Epoch 225 Batch    5/19   train_loss = 0.939\n",
      "Epoch 225 Batch   15/19   train_loss = 0.960\n",
      "Epoch 226 Batch    6/19   train_loss = 0.933\n",
      "Epoch 226 Batch   16/19   train_loss = 0.950\n",
      "Epoch 227 Batch    7/19   train_loss = 0.978\n",
      "Epoch 227 Batch   17/19   train_loss = 0.879\n",
      "Epoch 228 Batch    8/19   train_loss = 0.883\n",
      "Epoch 228 Batch   18/19   train_loss = 0.966\n",
      "Epoch 229 Batch    9/19   train_loss = 0.922\n",
      "Epoch 230 Batch    0/19   train_loss = 0.896\n",
      "Epoch 230 Batch   10/19   train_loss = 0.897\n",
      "Epoch 231 Batch    1/19   train_loss = 0.926\n",
      "Epoch 231 Batch   11/19   train_loss = 0.859\n",
      "Epoch 232 Batch    2/19   train_loss = 0.910\n",
      "Epoch 232 Batch   12/19   train_loss = 0.858\n",
      "Epoch 233 Batch    3/19   train_loss = 0.825\n",
      "Epoch 233 Batch   13/19   train_loss = 0.853\n",
      "Epoch 234 Batch    4/19   train_loss = 0.861\n",
      "Epoch 234 Batch   14/19   train_loss = 0.843\n",
      "Epoch 235 Batch    5/19   train_loss = 0.843\n",
      "Epoch 235 Batch   15/19   train_loss = 0.863\n",
      "Epoch 236 Batch    6/19   train_loss = 0.834\n",
      "Epoch 236 Batch   16/19   train_loss = 0.855\n",
      "Epoch 237 Batch    7/19   train_loss = 0.887\n",
      "Epoch 237 Batch   17/19   train_loss = 0.797\n",
      "Epoch 238 Batch    8/19   train_loss = 0.802\n",
      "Epoch 238 Batch   18/19   train_loss = 0.884\n",
      "Epoch 239 Batch    9/19   train_loss = 0.842\n",
      "Epoch 240 Batch    0/19   train_loss = 0.825\n",
      "Epoch 240 Batch   10/19   train_loss = 0.817\n",
      "Epoch 241 Batch    1/19   train_loss = 0.853\n",
      "Epoch 241 Batch   11/19   train_loss = 0.791\n",
      "Epoch 242 Batch    2/19   train_loss = 0.834\n",
      "Epoch 242 Batch   12/19   train_loss = 0.783\n",
      "Epoch 243 Batch    3/19   train_loss = 0.758\n",
      "Epoch 243 Batch   13/19   train_loss = 0.788\n",
      "Epoch 244 Batch    4/19   train_loss = 0.802\n",
      "Epoch 244 Batch   14/19   train_loss = 0.788\n",
      "Epoch 245 Batch    5/19   train_loss = 0.790\n",
      "Epoch 245 Batch   15/19   train_loss = 0.807\n",
      "Epoch 246 Batch    6/19   train_loss = 0.783\n",
      "Epoch 246 Batch   16/19   train_loss = 0.798\n",
      "Epoch 247 Batch    7/19   train_loss = 0.833\n",
      "Epoch 247 Batch   17/19   train_loss = 0.754\n",
      "Epoch 248 Batch    8/19   train_loss = 0.760\n",
      "Epoch 248 Batch   18/19   train_loss = 0.836\n",
      "Epoch 249 Batch    9/19   train_loss = 0.800\n",
      "Epoch 250 Batch    0/19   train_loss = 0.790\n",
      "Epoch 250 Batch   10/19   train_loss = 0.780\n",
      "Epoch 251 Batch    1/19   train_loss = 0.814\n",
      "Epoch 251 Batch   11/19   train_loss = 0.754\n",
      "Epoch 252 Batch    2/19   train_loss = 0.800\n",
      "Epoch 252 Batch   12/19   train_loss = 0.751\n",
      "Epoch 253 Batch    3/19   train_loss = 0.726\n",
      "Epoch 253 Batch   13/19   train_loss = 0.758\n",
      "Epoch 254 Batch    4/19   train_loss = 0.769\n",
      "Epoch 254 Batch   14/19   train_loss = 0.756\n",
      "Epoch 255 Batch    5/19   train_loss = 0.763\n",
      "Epoch 255 Batch   15/19   train_loss = 0.774\n",
      "Epoch 256 Batch    6/19   train_loss = 0.753\n",
      "Epoch 256 Batch   16/19   train_loss = 0.765\n",
      "Epoch 257 Batch    7/19   train_loss = 0.804\n",
      "Epoch 257 Batch   17/19   train_loss = 0.727\n",
      "Epoch 258 Batch    8/19   train_loss = 0.738\n",
      "Epoch 258 Batch   18/19   train_loss = 0.806\n",
      "Epoch 259 Batch    9/19   train_loss = 0.780\n",
      "Epoch 260 Batch    0/19   train_loss = 0.776\n",
      "Epoch 260 Batch   10/19   train_loss = 0.764\n",
      "Epoch 261 Batch    1/19   train_loss = 0.808\n",
      "Epoch 261 Batch   11/19   train_loss = 0.750\n",
      "Epoch 262 Batch    2/19   train_loss = 0.798\n",
      "Epoch 262 Batch   12/19   train_loss = 0.746\n",
      "Epoch 263 Batch    3/19   train_loss = 0.725\n",
      "Epoch 263 Batch   13/19   train_loss = 0.757\n",
      "Epoch 264 Batch    4/19   train_loss = 0.768\n",
      "Epoch 264 Batch   14/19   train_loss = 0.760\n",
      "Epoch 265 Batch    5/19   train_loss = 0.759\n",
      "Epoch 265 Batch   15/19   train_loss = 0.776\n",
      "Epoch 266 Batch    6/19   train_loss = 0.745\n",
      "Epoch 266 Batch   16/19   train_loss = 0.766\n",
      "Epoch 267 Batch    7/19   train_loss = 0.793\n",
      "Epoch 267 Batch   17/19   train_loss = 0.715\n",
      "Epoch 268 Batch    8/19   train_loss = 0.716\n",
      "Epoch 268 Batch   18/19   train_loss = 0.792\n",
      "Epoch 269 Batch    9/19   train_loss = 0.755\n",
      "Epoch 270 Batch    0/19   train_loss = 0.750\n",
      "Epoch 270 Batch   10/19   train_loss = 0.734\n",
      "Epoch 271 Batch    1/19   train_loss = 0.778\n",
      "Epoch 271 Batch   11/19   train_loss = 0.720\n",
      "Epoch 272 Batch    2/19   train_loss = 0.764\n",
      "Epoch 272 Batch   12/19   train_loss = 0.715\n",
      "Epoch 273 Batch    3/19   train_loss = 0.699\n",
      "Epoch 273 Batch   13/19   train_loss = 0.725\n",
      "Epoch 274 Batch    4/19   train_loss = 0.747\n",
      "Epoch 274 Batch   14/19   train_loss = 0.737\n",
      "Epoch 275 Batch    5/19   train_loss = 0.740\n",
      "Epoch 275 Batch   15/19   train_loss = 0.753\n",
      "Epoch 276 Batch    6/19   train_loss = 0.727\n",
      "Epoch 276 Batch   16/19   train_loss = 0.745\n",
      "Epoch 277 Batch    7/19   train_loss = 0.779\n",
      "Epoch 277 Batch   17/19   train_loss = 0.707\n",
      "Epoch 278 Batch    8/19   train_loss = 0.715\n",
      "Epoch 278 Batch   18/19   train_loss = 0.777\n",
      "Epoch 279 Batch    9/19   train_loss = 0.749\n",
      "Epoch 280 Batch    0/19   train_loss = 0.744\n",
      "Epoch 280 Batch   10/19   train_loss = 0.728\n",
      "Epoch 281 Batch    1/19   train_loss = 0.767\n",
      "Epoch 281 Batch   11/19   train_loss = 0.715\n",
      "Epoch 282 Batch    2/19   train_loss = 0.754\n",
      "Epoch 282 Batch   12/19   train_loss = 0.711\n",
      "Epoch 283 Batch    3/19   train_loss = 0.689\n",
      "Epoch 283 Batch   13/19   train_loss = 0.724\n",
      "Epoch 284 Batch    4/19   train_loss = 0.734\n",
      "Epoch 284 Batch   14/19   train_loss = 0.724\n",
      "Epoch 285 Batch    5/19   train_loss = 0.730\n",
      "Epoch 285 Batch   15/19   train_loss = 0.738\n",
      "Epoch 286 Batch    6/19   train_loss = 0.719\n",
      "Epoch 286 Batch   16/19   train_loss = 0.723\n",
      "Epoch 287 Batch    7/19   train_loss = 0.760\n",
      "Epoch 287 Batch   17/19   train_loss = 0.675\n",
      "Epoch 288 Batch    8/19   train_loss = 0.664\n",
      "Epoch 288 Batch   18/19   train_loss = 0.731\n",
      "Epoch 289 Batch    9/19   train_loss = 0.697\n",
      "Epoch 290 Batch    0/19   train_loss = 0.693\n",
      "Epoch 290 Batch   10/19   train_loss = 0.669\n",
      "Epoch 291 Batch    1/19   train_loss = 0.712\n",
      "Epoch 291 Batch   11/19   train_loss = 0.657\n",
      "Epoch 292 Batch    2/19   train_loss = 0.694\n",
      "Epoch 292 Batch   12/19   train_loss = 0.646\n",
      "Epoch 293 Batch    3/19   train_loss = 0.630\n",
      "Epoch 293 Batch   13/19   train_loss = 0.659\n",
      "Epoch 294 Batch    4/19   train_loss = 0.672\n",
      "Epoch 294 Batch   14/19   train_loss = 0.663\n",
      "Epoch 295 Batch    5/19   train_loss = 0.665\n",
      "Epoch 295 Batch   15/19   train_loss = 0.673\n",
      "Epoch 296 Batch    6/19   train_loss = 0.661\n",
      "Epoch 296 Batch   16/19   train_loss = 0.670\n",
      "Epoch 297 Batch    7/19   train_loss = 0.712\n",
      "Epoch 297 Batch   17/19   train_loss = 0.641\n",
      "Epoch 298 Batch    8/19   train_loss = 0.636\n",
      "Epoch 298 Batch   18/19   train_loss = 0.708\n",
      "Epoch 299 Batch    9/19   train_loss = 0.682\n",
      "Model Trained and Saved\n"
     ]
    }
   ],
   "source": [
    "\"\"\"\n",
    "DON'T MODIFY ANYTHING IN THIS CELL\n",
    "\"\"\"\n",
    "batches = get_batches(int_text, batch_size, seq_length)\n",
    "\n",
    "with tf.Session(graph=train_graph) as sess:\n",
    "    sess.run(tf.global_variables_initializer())\n",
    "\n",
    "    for epoch_i in range(num_epochs):\n",
    "        state = sess.run(initial_state, {input_text: batches[0][0]})\n",
    "\n",
    "        for batch_i, (x, y) in enumerate(batches):\n",
    "            feed = {\n",
    "                input_text: x,\n",
    "                targets: y,\n",
    "                initial_state: state,\n",
    "                lr: learning_rate}\n",
    "            train_loss, state, _ = sess.run([cost, final_state, train_op], feed)\n",
    "\n",
    "            # Show every <show_every_n_batches> batches\n",
    "            if (epoch_i * len(batches) + batch_i) % show_every_n_batches == 0:\n",
    "                print('Epoch {:>3} Batch {:>4}/{}   train_loss = {:.3f}'.format(\n",
    "                    epoch_i,\n",
    "                    batch_i,\n",
    "                    len(batches),\n",
    "                    train_loss))\n",
    "\n",
    "    # Save Model\n",
    "    saver = tf.train.Saver()\n",
    "    saver.save(sess, save_dir)\n",
    "    print('Model Trained and Saved')"
   ]
  },
  {
   "cell_type": "markdown",
   "metadata": {
    "deletable": true,
    "editable": true
   },
   "source": [
    "## Save Parameters\n",
    "Save `seq_length` and `save_dir` for generating a new TV script."
   ]
  },
  {
   "cell_type": "code",
   "execution_count": 20,
   "metadata": {
    "collapsed": false,
    "deletable": true,
    "editable": true
   },
   "outputs": [],
   "source": [
    "\"\"\"\n",
    "DON'T MODIFY ANYTHING IN THIS CELL\n",
    "\"\"\"\n",
    "# Save parameters for checkpoint\n",
    "helper.save_params((seq_length, save_dir))"
   ]
  },
  {
   "cell_type": "markdown",
   "metadata": {
    "deletable": true,
    "editable": true
   },
   "source": [
    "# Checkpoint"
   ]
  },
  {
   "cell_type": "code",
   "execution_count": 21,
   "metadata": {
    "collapsed": false,
    "deletable": true,
    "editable": true
   },
   "outputs": [],
   "source": [
    "\"\"\"\n",
    "DON'T MODIFY ANYTHING IN THIS CELL\n",
    "\"\"\"\n",
    "import tensorflow as tf\n",
    "import numpy as np\n",
    "import helper\n",
    "import problem_unittests as tests\n",
    "\n",
    "_, vocab_to_int, int_to_vocab, token_dict = helper.load_preprocess()\n",
    "seq_length, load_dir = helper.load_params()"
   ]
  },
  {
   "cell_type": "markdown",
   "metadata": {
    "deletable": true,
    "editable": true
   },
   "source": [
    "## Implement Generate Functions\n",
    "### Get Tensors\n",
    "Get tensors from `loaded_graph` using the function [`get_tensor_by_name()`](https://www.tensorflow.org/api_docs/python/tf/Graph#get_tensor_by_name).  Get the tensors using the following names:\n",
    "- \"input:0\"\n",
    "- \"initial_state:0\"\n",
    "- \"final_state:0\"\n",
    "- \"probs:0\"\n",
    "\n",
    "Return the tensors in the following tuple `(InputTensor, InitialStateTensor, FinalStateTensor, ProbsTensor)` "
   ]
  },
  {
   "cell_type": "code",
   "execution_count": 22,
   "metadata": {
    "collapsed": false,
    "deletable": true,
    "editable": true
   },
   "outputs": [
    {
     "name": "stdout",
     "output_type": "stream",
     "text": [
      "Tests Passed\n"
     ]
    }
   ],
   "source": [
    "def get_tensors(loaded_graph):\n",
    "    \"\"\"\n",
    "    Get input, initial state, final state, and probabilities tensor from <loaded_graph>\n",
    "    :param loaded_graph: TensorFlow graph loaded from file\n",
    "    :return: Tuple (InputTensor, InitialStateTensor, FinalStateTensor, ProbsTensor)\n",
    "    \"\"\"\n",
    "    inputs = loaded_graph.get_tensor_by_name(\"input:0\")\n",
    "    initial_state = loaded_graph.get_tensor_by_name(\"initial_state:0\")\n",
    "    final_state = loaded_graph.get_tensor_by_name(\"final_state:0\")\n",
    "    probs = loaded_graph.get_tensor_by_name(\"probs:0\")\n",
    "    return inputs, initial_state, final_state, probs\n",
    "\n",
    "\n",
    "\"\"\"\n",
    "DON'T MODIFY ANYTHING IN THIS CELL THAT IS BELOW THIS LINE\n",
    "\"\"\"\n",
    "tests.test_get_tensors(get_tensors)"
   ]
  },
  {
   "cell_type": "markdown",
   "metadata": {
    "deletable": true,
    "editable": true
   },
   "source": [
    "### Choose Word\n",
    "Implement the `pick_word()` function to select the next word using `probabilities`."
   ]
  },
  {
   "cell_type": "code",
   "execution_count": 23,
   "metadata": {
    "collapsed": false,
    "deletable": true,
    "editable": true
   },
   "outputs": [
    {
     "name": "stdout",
     "output_type": "stream",
     "text": [
      "Tests Passed\n"
     ]
    }
   ],
   "source": [
    "def pick_word(probabilities, int_to_vocab):\n",
    "    \"\"\"\n",
    "    Pick the next word in the generated text\n",
    "    :param probabilities: Probabilites of the next word\n",
    "    :param int_to_vocab: Dictionary of word ids as the keys and words as the values\n",
    "    :return: String of the predicted word\n",
    "    \"\"\"\n",
    "    #This can be done in a single line using numpy random choice function\n",
    "    return np.random.choice(list(int_to_vocab.values()), 1, p=probabilities)[0]\n",
    "\n",
    "\n",
    "\"\"\"\n",
    "DON'T MODIFY ANYTHING IN THIS CELL THAT IS BELOW THIS LINE\n",
    "\"\"\"\n",
    "tests.test_pick_word(pick_word)"
   ]
  },
  {
   "cell_type": "markdown",
   "metadata": {
    "deletable": true,
    "editable": true
   },
   "source": [
    "## Generate TV Script\n",
    "This will generate the TV script for you.  Set `gen_length` to the length of TV script you want to generate."
   ]
  },
  {
   "cell_type": "code",
   "execution_count": 24,
   "metadata": {
    "collapsed": false,
    "deletable": true,
    "editable": true
   },
   "outputs": [
    {
     "name": "stdout",
     "output_type": "stream",
     "text": [
      "moe_szyslak: why youse! correcting me on my way.\n",
      "homer_simpson: hey, get out of the. but what am i gonna win maya back?\n",
      "lenny_leonard: you just a little bit a little bit dog.. we can play bridge with you.\n",
      "moe_szyslak:(sotto; awed) farewell) what i have some thing i do it?(nervous laugh)\n",
      "moe_szyslak: well, i need these moe.\n",
      "moe_szyslak: hey, now it's out there!\n",
      "homer_simpson: me?!\n",
      "coach: you guys!\n",
      "barney_gumble: ah we all his wife is in costume and lots.\n",
      "homer_simpson: from your new friend on.\n",
      "\n",
      "\n",
      "homer_simpson: hey moe, i have to tidy up the place, like juan.\n",
      "apu_nahasapeemapetilon: come on, old pal?\n",
      "homer_simpson:(reading)\" that is.\" tonight!\" for once a stupid dog. a good woman, we'll all you say a new guy.\n",
      "lenny_leonard: a koi what happened to win!\n",
      "lenny_leonard: you know maybe it's funny there have a son, or her both walk this could be a new job. it only for the junior high school i can beat, drink?\n",
      "carl_carlson:(screams) these good king bad that's is so i can't sell you keep no, in the morning. it's one as i can you\" can't believe a new life?\n",
      "moe_szyslak: ah, i'm a real expert.\n",
      "moe_szyslak:(very confident)\n",
      "lenny_leonard: well, it's just a little.(gasps with equal astonishment)\n",
      "homer_simpson: okay, i've been this vacation for ice another.\n",
      "narrator:\n"
     ]
    }
   ],
   "source": [
    "gen_length = 300\n",
    "# homer_simpson, moe_szyslak, or Barney_Gumble\n",
    "prime_word = 'moe_szyslak'\n",
    "\n",
    "\"\"\"\n",
    "DON'T MODIFY ANYTHING IN THIS CELL THAT IS BELOW THIS LINE\n",
    "\"\"\"\n",
    "loaded_graph = tf.Graph()\n",
    "with tf.Session(graph=loaded_graph) as sess:\n",
    "    # Load saved model\n",
    "    loader = tf.train.import_meta_graph(load_dir + '.meta')\n",
    "    loader.restore(sess, load_dir)\n",
    "\n",
    "    # Get Tensors from loaded model\n",
    "    input_text, initial_state, final_state, probs = get_tensors(loaded_graph)\n",
    "\n",
    "    # Sentences generation setup\n",
    "    gen_sentences = [prime_word + ':']\n",
    "    prev_state = sess.run(initial_state, {input_text: np.array([[1]])})\n",
    "\n",
    "    # Generate sentences\n",
    "    for n in range(gen_length):\n",
    "        # Dynamic Input\n",
    "        dyn_input = [[vocab_to_int[word] for word in gen_sentences[-seq_length:]]]\n",
    "        dyn_seq_length = len(dyn_input[0])\n",
    "\n",
    "        # Get Prediction\n",
    "        probabilities, prev_state = sess.run(\n",
    "            [probs, final_state],\n",
    "            {input_text: dyn_input, initial_state: prev_state})\n",
    "        \n",
    "        pred_word = pick_word(probabilities[dyn_seq_length-1], int_to_vocab)\n",
    "\n",
    "        gen_sentences.append(pred_word)\n",
    "    \n",
    "    # Remove tokens\n",
    "    tv_script = ' '.join(gen_sentences)\n",
    "    for key, token in token_dict.items():\n",
    "        ending = ' ' if key in ['\\n', '(', '\"'] else ''\n",
    "        tv_script = tv_script.replace(' ' + token.lower(), key)\n",
    "    tv_script = tv_script.replace('\\n ', '\\n')\n",
    "    tv_script = tv_script.replace('( ', '(')\n",
    "        \n",
    "    print(tv_script)"
   ]
  },
  {
   "cell_type": "markdown",
   "metadata": {
    "deletable": true,
    "editable": true
   },
   "source": [
    "# The TV Script is Nonsensical\n",
    "It's ok if the TV script doesn't make any sense.  We trained on less than a megabyte of text.  In order to get good results, you'll have to use a smaller vocabulary or get more data.  Luckly there's more data!  As we mentioned in the begging of this project, this is a subset of [another dataset](https://www.kaggle.com/wcukierski/the-simpsons-by-the-data).  We didn't have you train on all the data, because that would take too long.  However, you are free to train your neural network on all the data.  After you complete the project, of course.\n",
    "# Submitting This Project\n",
    "When submitting this project, make sure to run all the cells before saving the notebook. Save the notebook file as \"dlnd_tv_script_generation.ipynb\" and save it as a HTML file under \"File\" -> \"Download as\". Include the \"helper.py\" and \"problem_unittests.py\" files in your submission."
   ]
  }
 ],
 "metadata": {
  "kernelspec": {
   "display_name": "Python 3",
   "language": "python",
   "name": "python3"
  },
  "language_info": {
   "codemirror_mode": {
    "name": "ipython",
    "version": 3
   },
   "file_extension": ".py",
   "mimetype": "text/x-python",
   "name": "python",
   "nbconvert_exporter": "python",
   "pygments_lexer": "ipython3",
   "version": "3.5.3"
  }
 },
 "nbformat": 4,
 "nbformat_minor": 0
}
